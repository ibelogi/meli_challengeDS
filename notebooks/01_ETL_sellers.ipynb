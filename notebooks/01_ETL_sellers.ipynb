{
 "cells": [
  {
   "cell_type": "markdown",
   "metadata": {},
   "source": [
    "# 1. CONSTRUCCION DEL DATASET"
   ]
  },
  {
   "cell_type": "markdown",
   "metadata": {},
   "source": [
    "## Se construirá un dataset de muestra de los sellers de todas las categorías disponibles en Mercado Libre Argentina\n",
    "#### Construccion del dataset\n",
    "Para ello se tomaron aplicará la siguiente metodología:\n",
    "1. El listado de las categorías, con su correspondiente id. Se trabajará con todas las categorias excepto las que en la exploracion tienen faltantes de datos de interes\n",
    "2. Se buscarán los primeros 1000 items de dichas categorias y se extraerán datos de los sellers  \n",
    "    esto nos permitirá obtener una muestra de sellers de distintos rubros y categorias, se buscó bajar la influencia de las publicaciones más relevantes\n",
    "    y al quitar duplicados de sellers, se tendrá un listado de candidatos para **identificar a aquellos que tienen un buen perfil y son relevantes para el negocio**\n",
    "3. Se seleccionaron los siguientes datos de los sellers dentro de cada item:\n",
    "    - Cancelaciones, Reclamos y Demoras de los últimos 60 días (cantidad y porcentaje del total de operaciones)\n",
    "    - El total de transacciones históricas: canceladas y completas\n",
    "    - Rating de los usuarios: negativo, neutral y positivos\n",
    "    - Precio de venta y ventas del item\n",
    "    - Provincia y Localidad\n",
    "4. Es relevante para el negovio contar con información acerca de la facturación de los sellers: Por lo tanto, se estimará a partir de los items obtenidos\n",
    "    un aproximado de facturacion, se multiplicará la cantidad vendida por su precio, con esto se espera obtener una metrica de facturacion\n",
    "    y, con esto, calcular el valor del ticket promedio (al sumarizar el total facturado y dividirlo por las ventas de cada seller) \n",
    "    y una metrica aproximada de la ganancia del negocio por cada seller, al calcular un % de ganancia sobre el total facturado. \n",
    "    Los datos se agruparán por seller para continuar trabajando con dicha unidad de análisis. \n",
    "\n",
    "Estás decisiones se basan en la hipotesis de que los sellers con mejores metricas, ratings, transacciones y rentabilidad serán los relevantes y tengan un buen perfil para el negocio\n",
    "Respecto de la construccion del dataset, se indagó en la documentación de la API y en sus resultados y se optó por esta combinacion de consultas para llegar al dataset final"
   ]
  },
  {
   "cell_type": "markdown",
   "metadata": {},
   "source": [
    "#### Preguntas\n",
    "¿Qué datos se encuentran disponibles en la API de items? ¿Cuales son de los items, de los sellers o del negocio?\n",
    "¿Qué datos se pueden conseguir para la clasificación de los sellers?\n",
    "¿Es posible obtener el listado total de items que tiene el seller?\n",
    "Al obtener datos por item, ¿Cómo sumarizar para obtener metricas por seller? Sumadas a las que indican su reputacion\n",
    "¿Qué categorias utilizar para el análisis?\n"
   ]
  },
  {
   "cell_type": "markdown",
   "metadata": {},
   "source": [
    "#### Idea\n",
    "- Al quitar duplicados de sellers, buscar todos los items activos para obtener el total de publicaciones, ventas por publicacion y datos de facturacion. Esta solución se intentó realizar pero al momento de realizar la consulta\n",
    "la API devuelve el resultado vacio. \n"
   ]
  },
  {
   "cell_type": "code",
   "execution_count": 2,
   "metadata": {},
   "outputs": [],
   "source": [
    "# Importo librerias\n",
    "import requests as r\n",
    "import pandas as pd\n",
    "import numpy as np\n",
    "from dateutil.relativedelta import relativedelta"
   ]
  },
  {
   "cell_type": "markdown",
   "metadata": {},
   "source": [
    "## CREACION DEL DF CATEGORIAS\n",
    "### Contiene los datos de todas las categorias disponibles en Mercado Libre Argentina"
   ]
  },
  {
   "cell_type": "code",
   "execution_count": 12,
   "metadata": {},
   "outputs": [],
   "source": [
    "url = \"https://api.mercadolibre.com/sites/MLA/categories\"\n",
    "request = r.get(url)\n",
    "results = request.json()\n",
    "categorias = pd.DataFrame(results)"
   ]
  },
  {
   "cell_type": "markdown",
   "metadata": {},
   "source": [
    "#### Al analizar algunos items de las categorias, se observó que en las siguientes no siempre cuentan con información acerca de reputacion\n",
    "#### Se separarán de este análisis inicial de clasificación de clientes, se propondrá en una siguiente iteración del proyecto abarcar estas categorias.  "
   ]
  },
  {
   "cell_type": "code",
   "execution_count": 13,
   "metadata": {},
   "outputs": [],
   "source": [
    "categorias_out = categorias.loc[(categorias.id == 'MLA1743') | (categorias.id == 'MLA2547') | (categorias.id == 'MLA1459') | (categorias.id == 'MLA1540') | (categorias.id == 'MLA1953')].reset_index(drop=True)"
   ]
  },
  {
   "cell_type": "code",
   "execution_count": 14,
   "metadata": {},
   "outputs": [
    {
     "data": {
      "text/html": [
       "<div>\n",
       "<style scoped>\n",
       "    .dataframe tbody tr th:only-of-type {\n",
       "        vertical-align: middle;\n",
       "    }\n",
       "\n",
       "    .dataframe tbody tr th {\n",
       "        vertical-align: top;\n",
       "    }\n",
       "\n",
       "    .dataframe thead th {\n",
       "        text-align: right;\n",
       "    }\n",
       "</style>\n",
       "<table border=\"1\" class=\"dataframe\">\n",
       "  <thead>\n",
       "    <tr style=\"text-align: right;\">\n",
       "      <th></th>\n",
       "      <th>categoria_MLA</th>\n",
       "      <th>categoria_name</th>\n",
       "    </tr>\n",
       "  </thead>\n",
       "  <tbody>\n",
       "    <tr>\n",
       "      <th>0</th>\n",
       "      <td>MLA5725</td>\n",
       "      <td>Accesorios para Vehículos</td>\n",
       "    </tr>\n",
       "    <tr>\n",
       "      <th>1</th>\n",
       "      <td>MLA1512</td>\n",
       "      <td>Agro</td>\n",
       "    </tr>\n",
       "    <tr>\n",
       "      <th>2</th>\n",
       "      <td>MLA1403</td>\n",
       "      <td>Alimentos y Bebidas</td>\n",
       "    </tr>\n",
       "    <tr>\n",
       "      <th>3</th>\n",
       "      <td>MLA1071</td>\n",
       "      <td>Animales y Mascotas</td>\n",
       "    </tr>\n",
       "    <tr>\n",
       "      <th>4</th>\n",
       "      <td>MLA1367</td>\n",
       "      <td>Antigüedades y Colecciones</td>\n",
       "    </tr>\n",
       "    <tr>\n",
       "      <th>5</th>\n",
       "      <td>MLA1368</td>\n",
       "      <td>Arte, Librería y Mercería</td>\n",
       "    </tr>\n",
       "    <tr>\n",
       "      <th>6</th>\n",
       "      <td>MLA1384</td>\n",
       "      <td>Bebés</td>\n",
       "    </tr>\n",
       "    <tr>\n",
       "      <th>7</th>\n",
       "      <td>MLA1246</td>\n",
       "      <td>Belleza y Cuidado Personal</td>\n",
       "    </tr>\n",
       "    <tr>\n",
       "      <th>8</th>\n",
       "      <td>MLA1039</td>\n",
       "      <td>Cámaras y Accesorios</td>\n",
       "    </tr>\n",
       "    <tr>\n",
       "      <th>9</th>\n",
       "      <td>MLA1051</td>\n",
       "      <td>Celulares y Teléfonos</td>\n",
       "    </tr>\n",
       "    <tr>\n",
       "      <th>10</th>\n",
       "      <td>MLA1648</td>\n",
       "      <td>Computación</td>\n",
       "    </tr>\n",
       "    <tr>\n",
       "      <th>11</th>\n",
       "      <td>MLA1144</td>\n",
       "      <td>Consolas y Videojuegos</td>\n",
       "    </tr>\n",
       "    <tr>\n",
       "      <th>12</th>\n",
       "      <td>MLA1500</td>\n",
       "      <td>Construcción</td>\n",
       "    </tr>\n",
       "    <tr>\n",
       "      <th>13</th>\n",
       "      <td>MLA1276</td>\n",
       "      <td>Deportes y Fitness</td>\n",
       "    </tr>\n",
       "    <tr>\n",
       "      <th>14</th>\n",
       "      <td>MLA5726</td>\n",
       "      <td>Electrodomésticos y Aires Ac.</td>\n",
       "    </tr>\n",
       "    <tr>\n",
       "      <th>15</th>\n",
       "      <td>MLA1000</td>\n",
       "      <td>Electrónica, Audio y Video</td>\n",
       "    </tr>\n",
       "    <tr>\n",
       "      <th>16</th>\n",
       "      <td>MLA407134</td>\n",
       "      <td>Herramientas</td>\n",
       "    </tr>\n",
       "    <tr>\n",
       "      <th>17</th>\n",
       "      <td>MLA1574</td>\n",
       "      <td>Hogar, Muebles y Jardín</td>\n",
       "    </tr>\n",
       "    <tr>\n",
       "      <th>18</th>\n",
       "      <td>MLA1499</td>\n",
       "      <td>Industrias y Oficinas</td>\n",
       "    </tr>\n",
       "    <tr>\n",
       "      <th>19</th>\n",
       "      <td>MLA1182</td>\n",
       "      <td>Instrumentos Musicales</td>\n",
       "    </tr>\n",
       "    <tr>\n",
       "      <th>20</th>\n",
       "      <td>MLA3937</td>\n",
       "      <td>Joyas y Relojes</td>\n",
       "    </tr>\n",
       "    <tr>\n",
       "      <th>21</th>\n",
       "      <td>MLA1132</td>\n",
       "      <td>Juegos y Juguetes</td>\n",
       "    </tr>\n",
       "    <tr>\n",
       "      <th>22</th>\n",
       "      <td>MLA3025</td>\n",
       "      <td>Libros, Revistas y Comics</td>\n",
       "    </tr>\n",
       "    <tr>\n",
       "      <th>23</th>\n",
       "      <td>MLA1168</td>\n",
       "      <td>Música, Películas y Series</td>\n",
       "    </tr>\n",
       "    <tr>\n",
       "      <th>24</th>\n",
       "      <td>MLA1430</td>\n",
       "      <td>Ropa y Accesorios</td>\n",
       "    </tr>\n",
       "    <tr>\n",
       "      <th>25</th>\n",
       "      <td>MLA409431</td>\n",
       "      <td>Salud y Equipamiento Médico</td>\n",
       "    </tr>\n",
       "    <tr>\n",
       "      <th>26</th>\n",
       "      <td>MLA9304</td>\n",
       "      <td>Souvenirs, Cotillón y Fiestas</td>\n",
       "    </tr>\n",
       "  </tbody>\n",
       "</table>\n",
       "</div>"
      ],
      "text/plain": [
       "   categoria_MLA                 categoria_name\n",
       "0        MLA5725      Accesorios para Vehículos\n",
       "1        MLA1512                           Agro\n",
       "2        MLA1403            Alimentos y Bebidas\n",
       "3        MLA1071            Animales y Mascotas\n",
       "4        MLA1367     Antigüedades y Colecciones\n",
       "5        MLA1368      Arte, Librería y Mercería\n",
       "6        MLA1384                          Bebés\n",
       "7        MLA1246     Belleza y Cuidado Personal\n",
       "8        MLA1039           Cámaras y Accesorios\n",
       "9        MLA1051          Celulares y Teléfonos\n",
       "10       MLA1648                    Computación\n",
       "11       MLA1144         Consolas y Videojuegos\n",
       "12       MLA1500                   Construcción\n",
       "13       MLA1276             Deportes y Fitness\n",
       "14       MLA5726  Electrodomésticos y Aires Ac.\n",
       "15       MLA1000     Electrónica, Audio y Video\n",
       "16     MLA407134                   Herramientas\n",
       "17       MLA1574        Hogar, Muebles y Jardín\n",
       "18       MLA1499          Industrias y Oficinas\n",
       "19       MLA1182         Instrumentos Musicales\n",
       "20       MLA3937                Joyas y Relojes\n",
       "21       MLA1132              Juegos y Juguetes\n",
       "22       MLA3025      Libros, Revistas y Comics\n",
       "23       MLA1168     Música, Películas y Series\n",
       "24       MLA1430              Ropa y Accesorios\n",
       "25     MLA409431    Salud y Equipamiento Médico\n",
       "26       MLA9304  Souvenirs, Cotillón y Fiestas"
      ]
     },
     "execution_count": 14,
     "metadata": {},
     "output_type": "execute_result"
    }
   ],
   "source": [
    "categorias = categorias.loc[~categorias.id.isin(categorias_out.id),:].reset_index(drop=True)\n",
    "categorias.rename(columns={'id':'categoria_MLA', 'name':'categoria_name'},inplace=True)\n",
    "categorias"
   ]
  },
  {
   "cell_type": "code",
   "execution_count": 22,
   "metadata": {},
   "outputs": [],
   "source": [
    "categorias.to_csv('../data/categorias.csv')"
   ]
  },
  {
   "cell_type": "code",
   "execution_count": 15,
   "metadata": {},
   "outputs": [],
   "source": [
    "# se crea la lista de offset para iterar y obtener los primeros 1.000 items de cada categoria seleccionada\n",
    "offset_list = np.arange(0, 1000, 50)"
   ]
  },
  {
   "cell_type": "markdown",
   "metadata": {},
   "source": [
    "## CREACION DEL DATASET DE ITEMS\n",
    "### Contiene los primeros 1.000 items de cada categoria"
   ]
  },
  {
   "cell_type": "code",
   "execution_count": null,
   "metadata": {},
   "outputs": [],
   "source": [
    "# creo el dataset de items, en busca de obtener los ID de los sellers\n",
    "# se crean las primeras variables consideradas relevantes para el análisis \n",
    "# estas variables se encuentran relacionadas con su id, fecha de registro y reputacion\n",
    "\n",
    "df_items = pd.DataFrame()\n",
    "idx = 0\n",
    "\n",
    "for idx in range(len(categorias)):\n",
    "\n",
    "    categoria = categorias.categoria_MLA[idx]\n",
    "    \n",
    "    print(\"proceso la categoria:\", categoria)\n",
    "\n",
    "    for offset in offset_list:\n",
    "\n",
    "        url = f'https://api.mercadolibre.com/sites/MLA/search?category={categoria}&offset={offset}'\n",
    "\n",
    "        req = r.get(url)\n",
    "\n",
    "        items = req.json()['results']\n",
    "\n",
    "        for item in range(len(items)):\n",
    "\n",
    "            aux = pd.DataFrame({\n",
    "                \"categoria_MLA\" : categoria,\n",
    "                \"seller\" : items[item]['seller']['id'],\n",
    "                \"fecha_registro\" : items[item]['seller']['registration_date'],\n",
    "                \"power_seller_status\" :items[item]['seller']['seller_reputation']['power_seller_status'],\n",
    "                \"level_id\" :items[item]['seller']['seller_reputation']['level_id'],\n",
    "                # las siguientes columnas refieren a los últimos 60 días de actividad\n",
    "                \"cancellations_value\" :items[item]['seller']['seller_reputation']['metrics']['cancellations']['value'],\n",
    "                \"cancellations_rate\" :items[item]['seller']['seller_reputation']['metrics']['cancellations']['rate'],\n",
    "                \"claims_value\" :items[item]['seller']['seller_reputation']['metrics']['claims']['value'],\n",
    "                \"claims_rate\" :items[item]['seller']['seller_reputation']['metrics']['claims']['rate'],\n",
    "                \"delayed_handling_time_value\" :items[item]['seller']['seller_reputation']['metrics']['delayed_handling_time']['value'],\n",
    "                \"delayed_handling_time_rate\" :items[item]['seller']['seller_reputation']['metrics']['delayed_handling_time']['rate'],\n",
    "                \"sales_value\" :items[item]['seller']['seller_reputation']['metrics']['sales']['completed'],\n",
    "                # datos históricos y reputación\n",
    "                \"transactions_total_historic\": items[item]['seller']['seller_reputation']['transactions']['total'],\n",
    "                \"transactions_canceled_historic\": items[item]['seller']['seller_reputation']['transactions']['canceled'],\n",
    "                \"transactions_completed_historic\": items[item]['seller']['seller_reputation']['transactions']['completed'],\n",
    "                \"rating_negative\": items[item]['seller']['seller_reputation']['transactions']['ratings']['negative'],\n",
    "                \"rating_neutral\": items[item]['seller']['seller_reputation']['transactions']['ratings']['neutral'],\n",
    "                \"rating_positive\": items[item]['seller']['seller_reputation']['transactions']['ratings']['positive'],\n",
    "                # datos sobre el precio y ventas\n",
    "                \"price\": items[item]['price'],\n",
    "                \"sold_quantity\": items[item]['sold_quantity'],\n",
    "                # datos de localidad y provincia\n",
    "                \"state\":  items[item]['seller_address']['state']['name'],\n",
    "                \"city\": items[item]['seller_address']['city']['name']\n",
    "            }, index = {idx})\n",
    "            df_items = df_items.append(aux)\n",
    "            idx += 1\n",
    "        print(\"termino el offset:\", offset)\n",
    "print(\"termino la categoria:\", categoria)"
   ]
  },
  {
   "cell_type": "code",
   "execution_count": 217,
   "metadata": {},
   "outputs": [
    {
     "name": "stdout",
     "output_type": "stream",
     "text": [
      "cantidad de items importados:  26878\n"
     ]
    }
   ],
   "source": [
    "print(\"cantidad de items importados: \", len(df_items))"
   ]
  },
  {
   "cell_type": "code",
   "execution_count": 218,
   "metadata": {},
   "outputs": [
    {
     "data": {
      "text/plain": [
       "categoria_MLA\n",
       "MLA9304      1000\n",
       "MLA1384      1000\n",
       "MLA3937      1000\n",
       "MLA1132      1000\n",
       "MLA1512      1000\n",
       "MLA1168      1000\n",
       "MLA1500      1000\n",
       "MLA1499      1000\n",
       "MLA1430      1000\n",
       "MLA1367      1000\n",
       "MLA1039      1000\n",
       "MLA407134     999\n",
       "MLA1403       999\n",
       "MLA1368       999\n",
       "MLA1276       999\n",
       "MLA1246       999\n",
       "MLA1182       999\n",
       "MLA1071       999\n",
       "MLA1144       998\n",
       "MLA1051       998\n",
       "MLA5726       998\n",
       "MLA1000       998\n",
       "MLA1648       997\n",
       "MLA409431     995\n",
       "MLA5725       978\n",
       "MLA3025       962\n",
       "MLA1574       961\n",
       "dtype: int64"
      ]
     },
     "execution_count": 218,
     "metadata": {},
     "output_type": "execute_result"
    }
   ],
   "source": [
    "# de cada categoria se obtuvo la siguiente cantidad de items\n",
    "df_items.value_counts('categoria_MLA')"
   ]
  },
  {
   "cell_type": "code",
   "execution_count": 4,
   "metadata": {},
   "outputs": [
    {
     "data": {
      "text/plain": [
       "'20220324'"
      ]
     },
     "execution_count": 4,
     "metadata": {},
     "output_type": "execute_result"
    }
   ],
   "source": [
    "# defino el día de la consulta para extraer el csv\n",
    "from datetime import datetime\n",
    "day = datetime.today().strftime('%Y-%m-%d').replace('-','')\n",
    "day"
   ]
  },
  {
   "cell_type": "code",
   "execution_count": 7,
   "metadata": {},
   "outputs": [],
   "source": [
    "# guardo los datos por items\n",
    "df_items.to_csv(f'../data/{day}_dataset_items.csv',index=False)"
   ]
  },
  {
   "cell_type": "markdown",
   "metadata": {},
   "source": [
    "## FUNCIONALIDAD NO IMPLEMENTADA"
   ]
  },
  {
   "cell_type": "markdown",
   "metadata": {},
   "source": [
    "### IDEA DE EXTRACCION DE ITEMS POR SELLER\n",
    "#### Se obtendrán los items activos de los sellers obtenidos en la consulta anterior\n",
    "#### Se trabajará con el offset, para traer los primeros 1.000 registros\n",
    "#### Se busca obtener datos de sus items, items vendidos, precios y de esta forma obtener una metrica aproximada de facturación y rentabilidad para cada seller"
   ]
  },
  {
   "cell_type": "code",
   "execution_count": null,
   "metadata": {},
   "outputs": [],
   "source": [
    "df_sellers_test = df_sellers.head(5).reset_index(drop=True)\n",
    "df_sellers_test"
   ]
  },
  {
   "cell_type": "code",
   "execution_count": null,
   "metadata": {},
   "outputs": [],
   "source": [
    "# creo el dataset de items, en base a los sellers ID y la categoria de analisis\n",
    "\n",
    "df_itemsSeller = pd.DataFrame()\n",
    "idx = 0\n",
    "\n",
    "for idx in range(len(df_sellers_test)):\n",
    "\n",
    "    seller = df_sellers_test.seller[idx]\n",
    "    categoria = df_sellers_test.categoria_MLA[idx]\n",
    "\n",
    "    params = {\n",
    "        'seller_id': {seller},\n",
    "        'category': {categoria},\n",
    "        'offset' : \"50\"\n",
    "    }   \n",
    "\n",
    "    url = f'https://api.mercadolibre.com/sites/MLA/search?\n",
    "\n",
    "    req = r.get(url, params = params)\n",
    "    \n",
    "    print(url)\n",
    "\n",
    "    items = req.json()\n",
    "\n",
    "    for item in range(len(items)):\n",
    "\n",
    "        aux = pd.DataFrame({\n",
    "            \"categoria_MLA\" : categoria,\n",
    "            \"seller\" : items[item]['seller']['id'],\n",
    "                }, index = {idx})\n",
    "        df_itemsSeller = df_itemsSeller.append(aux)\n",
    "        idx += 1"
   ]
  },
  {
   "cell_type": "code",
   "execution_count": null,
   "metadata": {},
   "outputs": [],
   "source": [
    "items"
   ]
  }
 ],
 "metadata": {
  "interpreter": {
   "hash": "24026d3aba629fcef83117a8818ef44727589b884fc8c219cbb87d5bf3da2505"
  },
  "kernelspec": {
   "display_name": "Python 3.8.8 64-bit ('base': conda)",
   "language": "python",
   "name": "python3"
  },
  "language_info": {
   "codemirror_mode": {
    "name": "ipython",
    "version": 3
   },
   "file_extension": ".py",
   "mimetype": "text/x-python",
   "name": "python",
   "nbconvert_exporter": "python",
   "pygments_lexer": "ipython3",
   "version": "3.8.8"
  },
  "orig_nbformat": 4
 },
 "nbformat": 4,
 "nbformat_minor": 2
}
