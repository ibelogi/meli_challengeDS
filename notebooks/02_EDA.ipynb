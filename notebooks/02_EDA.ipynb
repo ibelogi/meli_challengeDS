{
 "cells": [
  {
   "cell_type": "markdown",
   "metadata": {},
   "source": [
    "# 2. ANALISIS EXPLORATORIO DE DATOS"
   ]
  },
  {
   "cell_type": "markdown",
   "metadata": {},
   "source": [
    "### Se explorarán los datos obtenidos"
   ]
  },
  {
   "cell_type": "code",
   "execution_count": 2,
   "metadata": {},
   "outputs": [],
   "source": [
    "# Importo las librerias\n",
    "import numpy as np\n",
    "import pandas as pd\n",
    "import matplotlib.pylab as plt\n",
    "import seaborn as sns"
   ]
  },
  {
   "cell_type": "code",
   "execution_count": 3,
   "metadata": {},
   "outputs": [],
   "source": [
    "# Importo los datos\n",
    "data = pd.read_csv('../data/20220318_dataset_sellers.csv')"
   ]
  },
  {
   "cell_type": "code",
   "execution_count": 5,
   "metadata": {},
   "outputs": [
    {
     "name": "stdout",
     "output_type": "stream",
     "text": [
      "<class 'pandas.core.frame.DataFrame'>\n",
      "RangeIndex: 5399 entries, 0 to 5398\n",
      "Data columns (total 25 columns):\n",
      " #   Column                           Non-Null Count  Dtype  \n",
      "---  ------                           --------------  -----  \n",
      " 0   Unnamed: 0                       5399 non-null   int64  \n",
      " 1   categoria_MLA                    5399 non-null   object \n",
      " 2   categoria_name                   5399 non-null   object \n",
      " 3   seller                           5399 non-null   int64  \n",
      " 4   state                            5399 non-null   object \n",
      " 5   city                             5399 non-null   object \n",
      " 6   antiquity_ages                   5399 non-null   int64  \n",
      " 7   power_seller_status              4992 non-null   object \n",
      " 8   level_id                         5399 non-null   object \n",
      " 9   cancellations_value              5399 non-null   int64  \n",
      " 10  cancellations_rate               5399 non-null   float64\n",
      " 11  claims_value                     5399 non-null   int64  \n",
      " 12  claims_rate                      5399 non-null   float64\n",
      " 13  delayed_handling_time_value      5399 non-null   int64  \n",
      " 14  delayed_handling_time_rate       5399 non-null   float64\n",
      " 15  sales_value                      5399 non-null   int64  \n",
      " 16  transactions_total_historic      5399 non-null   int64  \n",
      " 17  transactions_canceled_historic   5399 non-null   int64  \n",
      " 18  transactions_completed_historic  5399 non-null   int64  \n",
      " 19  rating_negative                  5399 non-null   float64\n",
      " 20  rating_neutral                   5399 non-null   float64\n",
      " 21  rating_positive                  5399 non-null   float64\n",
      " 22  total_sales_amount               5399 non-null   float64\n",
      " 23  total_items_sold                 5399 non-null   int64  \n",
      " 24  total_profits_amount             5399 non-null   float64\n",
      "dtypes: float64(8), int64(11), object(6)\n",
      "memory usage: 1.0+ MB\n"
     ]
    }
   ],
   "source": [
    "data.info()"
   ]
  },
  {
   "cell_type": "code",
   "execution_count": null,
   "metadata": {},
   "outputs": [],
   "source": []
  }
 ],
 "metadata": {
  "interpreter": {
   "hash": "24026d3aba629fcef83117a8818ef44727589b884fc8c219cbb87d5bf3da2505"
  },
  "kernelspec": {
   "display_name": "Python 3.8.8 ('base')",
   "language": "python",
   "name": "python3"
  },
  "language_info": {
   "codemirror_mode": {
    "name": "ipython",
    "version": 3
   },
   "file_extension": ".py",
   "mimetype": "text/x-python",
   "name": "python",
   "nbconvert_exporter": "python",
   "pygments_lexer": "ipython3",
   "version": "3.8.8"
  },
  "orig_nbformat": 4
 },
 "nbformat": 4,
 "nbformat_minor": 2
}
