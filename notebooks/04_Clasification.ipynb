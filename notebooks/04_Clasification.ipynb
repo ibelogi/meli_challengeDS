{
 "cells": [
  {
   "cell_type": "markdown",
   "metadata": {},
   "source": [
    "# 4. CLASIFICACION DE SELLERS"
   ]
  },
  {
   "cell_type": "markdown",
   "metadata": {},
   "source": [
    "### Se propondrán 2 formas de clasificar a los sellers, se compararán los resultados y se optará por una solución"
   ]
  },
  {
   "cell_type": "code",
   "execution_count": 118,
   "metadata": {},
   "outputs": [],
   "source": [
    "# Importamos las librerias\n",
    "import pandas as pd"
   ]
  },
  {
   "cell_type": "code",
   "execution_count": 119,
   "metadata": {},
   "outputs": [],
   "source": [
    "# Importamos los datos\n",
    "data_original = pd.read_csv('../data/20220318_dataset_sellers.csv',index_col=None)"
   ]
  },
  {
   "cell_type": "markdown",
   "metadata": {},
   "source": [
    "#### Metricas Seleccionadas\n",
    "- cancellations_rate\n",
    "- claims_rate\n",
    "- delayed_handling_time_rate\n",
    "- avg_ticket\n",
    "- antiquity_ages\n"
   ]
  },
  {
   "cell_type": "code",
   "execution_count": 120,
   "metadata": {},
   "outputs": [
    {
     "data": {
      "text/plain": [
       "Index(['Unnamed: 0', 'categoria_MLA', 'seller', 'fecha_registro',\n",
       "       'power_seller_status', 'level_id', 'cancellations_value',\n",
       "       'cancellations_rate', 'claims_value', 'claims_rate',\n",
       "       'delayed_handling_time_value', 'delayed_handling_time_rate',\n",
       "       'sales_value', 'transactions_total_historic',\n",
       "       'transactions_canceled_historic', 'transactions_completed_historic',\n",
       "       'rating_negative', 'rating_neutral', 'rating_positive', 'state', 'city',\n",
       "       'total_sales_amount', 'total_items_sold', 'total_profits_amount',\n",
       "       'avg_ticket', 'categoria_name', 'register_date', 'antiquity_ages',\n",
       "       'transactions_canceled_historic_rate'],\n",
       "      dtype='object')"
      ]
     },
     "execution_count": 120,
     "metadata": {},
     "output_type": "execute_result"
    }
   ],
   "source": [
    "data_original.columns"
   ]
  },
  {
   "cell_type": "code",
   "execution_count": 121,
   "metadata": {},
   "outputs": [],
   "source": [
    "# Filtro las metricas que se utilizarán en el análisis\n",
    "data = data_original[['cancellations_rate','claims_rate','delayed_handling_time_rate','avg_ticket','antiquity_ages']]\n",
    "data = data.fillna(0)"
   ]
  },
  {
   "cell_type": "code",
   "execution_count": 122,
   "metadata": {},
   "outputs": [
    {
     "data": {
      "text/html": [
       "<div>\n",
       "<style scoped>\n",
       "    .dataframe tbody tr th:only-of-type {\n",
       "        vertical-align: middle;\n",
       "    }\n",
       "\n",
       "    .dataframe tbody tr th {\n",
       "        vertical-align: top;\n",
       "    }\n",
       "\n",
       "    .dataframe thead th {\n",
       "        text-align: right;\n",
       "    }\n",
       "</style>\n",
       "<table border=\"1\" class=\"dataframe\">\n",
       "  <thead>\n",
       "    <tr style=\"text-align: right;\">\n",
       "      <th></th>\n",
       "      <th>cancellations_rate</th>\n",
       "      <th>claims_rate</th>\n",
       "      <th>delayed_handling_time_rate</th>\n",
       "      <th>avg_ticket</th>\n",
       "      <th>antiquity_ages</th>\n",
       "    </tr>\n",
       "  </thead>\n",
       "  <tbody>\n",
       "    <tr>\n",
       "      <th>count</th>\n",
       "      <td>5399.000000</td>\n",
       "      <td>5399.000000</td>\n",
       "      <td>5399.000000</td>\n",
       "      <td>5399.000000</td>\n",
       "      <td>5399.000000</td>\n",
       "    </tr>\n",
       "    <tr>\n",
       "      <th>mean</th>\n",
       "      <td>0.002370</td>\n",
       "      <td>0.005494</td>\n",
       "      <td>0.024621</td>\n",
       "      <td>10112.491208</td>\n",
       "      <td>7.406001</td>\n",
       "    </tr>\n",
       "    <tr>\n",
       "      <th>std</th>\n",
       "      <td>0.004146</td>\n",
       "      <td>0.005859</td>\n",
       "      <td>0.032194</td>\n",
       "      <td>23528.152190</td>\n",
       "      <td>5.334253</td>\n",
       "    </tr>\n",
       "    <tr>\n",
       "      <th>min</th>\n",
       "      <td>0.000000</td>\n",
       "      <td>0.000000</td>\n",
       "      <td>0.000000</td>\n",
       "      <td>0.000000</td>\n",
       "      <td>0.000000</td>\n",
       "    </tr>\n",
       "    <tr>\n",
       "      <th>25%</th>\n",
       "      <td>0.000000</td>\n",
       "      <td>0.000000</td>\n",
       "      <td>0.002300</td>\n",
       "      <td>1574.030000</td>\n",
       "      <td>3.000000</td>\n",
       "    </tr>\n",
       "    <tr>\n",
       "      <th>50%</th>\n",
       "      <td>0.000000</td>\n",
       "      <td>0.004300</td>\n",
       "      <td>0.011600</td>\n",
       "      <td>3507.798046</td>\n",
       "      <td>6.000000</td>\n",
       "    </tr>\n",
       "    <tr>\n",
       "      <th>75%</th>\n",
       "      <td>0.003600</td>\n",
       "      <td>0.009500</td>\n",
       "      <td>0.034250</td>\n",
       "      <td>8305.540515</td>\n",
       "      <td>11.000000</td>\n",
       "    </tr>\n",
       "    <tr>\n",
       "      <th>max</th>\n",
       "      <td>0.036200</td>\n",
       "      <td>0.039500</td>\n",
       "      <td>0.210500</td>\n",
       "      <td>520000.000000</td>\n",
       "      <td>22.000000</td>\n",
       "    </tr>\n",
       "  </tbody>\n",
       "</table>\n",
       "</div>"
      ],
      "text/plain": [
       "      cancellations_rate  claims_rate delayed_handling_time_rate  \\\n",
       "count        5399.000000  5399.000000                5399.000000   \n",
       "mean            0.002370     0.005494                   0.024621   \n",
       "std             0.004146     0.005859                   0.032194   \n",
       "min             0.000000     0.000000                   0.000000   \n",
       "25%             0.000000     0.000000                   0.002300   \n",
       "50%             0.000000     0.004300                   0.011600   \n",
       "75%             0.003600     0.009500                   0.034250   \n",
       "max             0.036200     0.039500                   0.210500   \n",
       "\n",
       "          avg_ticket antiquity_ages  \n",
       "count    5399.000000    5399.000000  \n",
       "mean    10112.491208       7.406001  \n",
       "std     23528.152190       5.334253  \n",
       "min         0.000000       0.000000  \n",
       "25%      1574.030000       3.000000  \n",
       "50%      3507.798046       6.000000  \n",
       "75%      8305.540515      11.000000  \n",
       "max    520000.000000      22.000000  "
      ]
     },
     "execution_count": 122,
     "metadata": {},
     "output_type": "execute_result"
    }
   ],
   "source": [
    "estadisticos = data.describe().apply(lambda y: y.apply(lambda x: format(x, 'f')))\n",
    "estadisticos"
   ]
  },
  {
   "cell_type": "markdown",
   "metadata": {},
   "source": [
    "### 3.a Clasificacion con algoritmo K-MEANS"
   ]
  },
  {
   "cell_type": "code",
   "execution_count": 123,
   "metadata": {},
   "outputs": [],
   "source": [
    "import pandas as pd\n",
    "import numpy as np  \n",
    "import matplotlib.pyplot as plt\n",
    "from sklearn.cluster import KMeans\n",
    "from sklearn.preprocessing import StandardScaler\n",
    "from sklearn.metrics import silhouette_samples, silhouette_score\n",
    "import seaborn as sns"
   ]
  },
  {
   "cell_type": "code",
   "execution_count": 124,
   "metadata": {},
   "outputs": [],
   "source": [
    "data_kmeans = data[['cancellations_rate','claims_rate','delayed_handling_time_rate','avg_ticket']]\n",
    "data_kmeans = data.fillna(0)"
   ]
  },
  {
   "cell_type": "code",
   "execution_count": 125,
   "metadata": {},
   "outputs": [],
   "source": [
    "X = np.array(data)"
   ]
  },
  {
   "cell_type": "code",
   "execution_count": 126,
   "metadata": {},
   "outputs": [
    {
     "data": {
      "image/png": "[encoded data removed]",
      "text/plain": [
       "<Figure size 1440x1080 with 1 Axes>"
      ]
     },
     "metadata": {
      "needs_background": "light"
     },
     "output_type": "display_data"
    }
   ],
   "source": [
    "# estimo la curva de elbow para elegir la cantidad de k para el algoritmo, entre 1 y 10\n",
    "n_clu = range(1, 10)\n",
    "#calculo los clusters para cada valor de clusters\n",
    "kmeans = [KMeans(n_clusters=i) for i in n_clu]\n",
    "# calculo el score de los resultados\n",
    "score = [kmeans[i].fit(X).score(X) for i in range(len(kmeans))]\n",
    "# Visualizo la curva para elegir el valor K del algoritmo\n",
    "plt.plot(n_clu,score)\n",
    "plt.title('Curva de Elbow')\n",
    "plt.xlabel('Numero de clusters')\n",
    "plt.ylabel('Score')\n",
    "plt.show()"
   ]
  },
  {
   "cell_type": "markdown",
   "metadata": {},
   "source": [
    "##### La curva se aplanaen 4, se utilizará ese valor K, y para el equipo comercial puede ser una cantidad de grupos interesante para focalizar acciones"
   ]
  },
  {
   "cell_type": "code",
   "execution_count": 127,
   "metadata": {},
   "outputs": [
    {
     "name": "stdout",
     "output_type": "stream",
     "text": [
      "[[2.34073767e-03 5.40294240e-03 2.41652093e-02 4.63912732e+03\n",
      "  7.38955657e+00]\n",
      " [3.10138889e-03 4.94444444e-03 2.51500000e-02 1.26129404e+05\n",
      "  6.90277778e+00]\n",
      " [3.70000000e-03 4.96666667e-03 2.65166667e-02 4.22493833e+05\n",
      "  7.83333333e+00]\n",
      " [2.53252525e-03 6.46282828e-03 2.89642424e-02 4.16012758e+04\n",
      "  7.63434343e+00]]\n",
      "[0 0 0 ... 0 0 0]\n"
     ]
    }
   ],
   "source": [
    "# calculamos el algoritmo k_means\n",
    "kmeans = KMeans(n_clusters=4,random_state=0).fit(X)\n",
    "centroids = kmeans.cluster_centers_\n",
    "# printeamos los centroides de los clusters\n",
    "print(centroids)\n",
    "labels = kmeans.labels_\n",
    "print(labels)"
   ]
  },
  {
   "cell_type": "code",
   "execution_count": 128,
   "metadata": {},
   "outputs": [],
   "source": [
    "# paso los resultados al dataframe\n",
    "data['kmeans'] = labels\n",
    "# tambien los incluyo en el data original\n",
    "data_original['kmeans'] = labels"
   ]
  },
  {
   "cell_type": "code",
   "execution_count": 129,
   "metadata": {},
   "outputs": [
    {
     "data": {
      "text/html": [
       "<div>\n",
       "<style scoped>\n",
       "    .dataframe tbody tr th:only-of-type {\n",
       "        vertical-align: middle;\n",
       "    }\n",
       "\n",
       "    .dataframe tbody tr th {\n",
       "        vertical-align: top;\n",
       "    }\n",
       "\n",
       "    .dataframe thead th {\n",
       "        text-align: right;\n",
       "    }\n",
       "</style>\n",
       "<table border=\"1\" class=\"dataframe\">\n",
       "  <thead>\n",
       "    <tr style=\"text-align: right;\">\n",
       "      <th></th>\n",
       "      <th>kmeans</th>\n",
       "      <th>size</th>\n",
       "      <th>porcentaje</th>\n",
       "    </tr>\n",
       "  </thead>\n",
       "  <tbody>\n",
       "    <tr>\n",
       "      <th>0</th>\n",
       "      <td>0</td>\n",
       "      <td>4826</td>\n",
       "      <td>89.4</td>\n",
       "    </tr>\n",
       "    <tr>\n",
       "      <th>1</th>\n",
       "      <td>1</td>\n",
       "      <td>72</td>\n",
       "      <td>1.3</td>\n",
       "    </tr>\n",
       "    <tr>\n",
       "      <th>2</th>\n",
       "      <td>2</td>\n",
       "      <td>6</td>\n",
       "      <td>0.1</td>\n",
       "    </tr>\n",
       "    <tr>\n",
       "      <th>3</th>\n",
       "      <td>3</td>\n",
       "      <td>495</td>\n",
       "      <td>9.2</td>\n",
       "    </tr>\n",
       "  </tbody>\n",
       "</table>\n",
       "</div>"
      ],
      "text/plain": [
       "   kmeans  size  porcentaje\n",
       "0       0  4826        89.4\n",
       "1       1    72         1.3\n",
       "2       2     6         0.1\n",
       "3       3   495         9.2"
      ]
     },
     "execution_count": 129,
     "metadata": {},
     "output_type": "execute_result"
    }
   ],
   "source": [
    "# agrupo por cluster y veo su %\n",
    "grupos_kmeans = data.groupby('kmeans', as_index=False).size()\n",
    "grupos_kmeans['porcentaje'] = round(grupos_kmeans['size']/len(data)*100,1)\n",
    "grupos_kmeans"
   ]
  },
  {
   "cell_type": "markdown",
   "metadata": {},
   "source": [
    "#### Miramos la distribucion de cada cluster"
   ]
  },
  {
   "cell_type": "code",
   "execution_count": 130,
   "metadata": {},
   "outputs": [
    {
     "data": {
      "text/html": [
       "<div>\n",
       "<style scoped>\n",
       "    .dataframe tbody tr th:only-of-type {\n",
       "        vertical-align: middle;\n",
       "    }\n",
       "\n",
       "    .dataframe tbody tr th {\n",
       "        vertical-align: top;\n",
       "    }\n",
       "\n",
       "    .dataframe thead th {\n",
       "        text-align: right;\n",
       "    }\n",
       "</style>\n",
       "<table border=\"1\" class=\"dataframe\">\n",
       "  <thead>\n",
       "    <tr style=\"text-align: right;\">\n",
       "      <th></th>\n",
       "      <th>cancellations_rate</th>\n",
       "      <th>claims_rate</th>\n",
       "      <th>delayed_handling_time_rate</th>\n",
       "      <th>avg_ticket</th>\n",
       "      <th>antiquity_ages</th>\n",
       "      <th>kmeans</th>\n",
       "    </tr>\n",
       "  </thead>\n",
       "  <tbody>\n",
       "    <tr>\n",
       "      <th>count</th>\n",
       "      <td>4826.000000</td>\n",
       "      <td>4826.000000</td>\n",
       "      <td>4826.000000</td>\n",
       "      <td>4826.000000</td>\n",
       "      <td>4826.000000</td>\n",
       "      <td>4826.0</td>\n",
       "    </tr>\n",
       "    <tr>\n",
       "      <th>mean</th>\n",
       "      <td>0.002341</td>\n",
       "      <td>0.005403</td>\n",
       "      <td>0.024165</td>\n",
       "      <td>4639.127321</td>\n",
       "      <td>7.389557</td>\n",
       "      <td>0.0</td>\n",
       "    </tr>\n",
       "    <tr>\n",
       "      <th>std</th>\n",
       "      <td>0.004075</td>\n",
       "      <td>0.005750</td>\n",
       "      <td>0.031587</td>\n",
       "      <td>4685.507240</td>\n",
       "      <td>5.345002</td>\n",
       "      <td>0.0</td>\n",
       "    </tr>\n",
       "    <tr>\n",
       "      <th>min</th>\n",
       "      <td>0.000000</td>\n",
       "      <td>0.000000</td>\n",
       "      <td>0.000000</td>\n",
       "      <td>0.000000</td>\n",
       "      <td>0.000000</td>\n",
       "      <td>0.0</td>\n",
       "    </tr>\n",
       "    <tr>\n",
       "      <th>25%</th>\n",
       "      <td>0.000000</td>\n",
       "      <td>0.000000</td>\n",
       "      <td>0.002500</td>\n",
       "      <td>1445.596384</td>\n",
       "      <td>3.000000</td>\n",
       "      <td>0.0</td>\n",
       "    </tr>\n",
       "    <tr>\n",
       "      <th>50%</th>\n",
       "      <td>0.000000</td>\n",
       "      <td>0.004300</td>\n",
       "      <td>0.011300</td>\n",
       "      <td>2926.385714</td>\n",
       "      <td>6.000000</td>\n",
       "      <td>0.0</td>\n",
       "    </tr>\n",
       "    <tr>\n",
       "      <th>75%</th>\n",
       "      <td>0.003500</td>\n",
       "      <td>0.009200</td>\n",
       "      <td>0.033200</td>\n",
       "      <td>6160.621622</td>\n",
       "      <td>11.000000</td>\n",
       "      <td>0.0</td>\n",
       "    </tr>\n",
       "    <tr>\n",
       "      <th>max</th>\n",
       "      <td>0.036200</td>\n",
       "      <td>0.039200</td>\n",
       "      <td>0.210500</td>\n",
       "      <td>23000.000000</td>\n",
       "      <td>22.000000</td>\n",
       "      <td>0.0</td>\n",
       "    </tr>\n",
       "  </tbody>\n",
       "</table>\n",
       "</div>"
      ],
      "text/plain": [
       "       cancellations_rate  claims_rate  delayed_handling_time_rate  \\\n",
       "count         4826.000000  4826.000000                 4826.000000   \n",
       "mean             0.002341     0.005403                    0.024165   \n",
       "std              0.004075     0.005750                    0.031587   \n",
       "min              0.000000     0.000000                    0.000000   \n",
       "25%              0.000000     0.000000                    0.002500   \n",
       "50%              0.000000     0.004300                    0.011300   \n",
       "75%              0.003500     0.009200                    0.033200   \n",
       "max              0.036200     0.039200                    0.210500   \n",
       "\n",
       "         avg_ticket  antiquity_ages  kmeans  \n",
       "count   4826.000000     4826.000000  4826.0  \n",
       "mean    4639.127321        7.389557     0.0  \n",
       "std     4685.507240        5.345002     0.0  \n",
       "min        0.000000        0.000000     0.0  \n",
       "25%     1445.596384        3.000000     0.0  \n",
       "50%     2926.385714        6.000000     0.0  \n",
       "75%     6160.621622       11.000000     0.0  \n",
       "max    23000.000000       22.000000     0.0  "
      ]
     },
     "execution_count": 130,
     "metadata": {},
     "output_type": "execute_result"
    }
   ],
   "source": [
    "data.loc[data.kmeans == 0].describe()"
   ]
  },
  {
   "cell_type": "code",
   "execution_count": 131,
   "metadata": {},
   "outputs": [
    {
     "data": {
      "text/html": [
       "<div>\n",
       "<style scoped>\n",
       "    .dataframe tbody tr th:only-of-type {\n",
       "        vertical-align: middle;\n",
       "    }\n",
       "\n",
       "    .dataframe tbody tr th {\n",
       "        vertical-align: top;\n",
       "    }\n",
       "\n",
       "    .dataframe thead th {\n",
       "        text-align: right;\n",
       "    }\n",
       "</style>\n",
       "<table border=\"1\" class=\"dataframe\">\n",
       "  <thead>\n",
       "    <tr style=\"text-align: right;\">\n",
       "      <th></th>\n",
       "      <th>cancellations_rate</th>\n",
       "      <th>claims_rate</th>\n",
       "      <th>delayed_handling_time_rate</th>\n",
       "      <th>avg_ticket</th>\n",
       "      <th>antiquity_ages</th>\n",
       "      <th>kmeans</th>\n",
       "    </tr>\n",
       "  </thead>\n",
       "  <tbody>\n",
       "    <tr>\n",
       "      <th>count</th>\n",
       "      <td>72.000000</td>\n",
       "      <td>72.000000</td>\n",
       "      <td>72.000000</td>\n",
       "      <td>72.000000</td>\n",
       "      <td>72.000000</td>\n",
       "      <td>72.0</td>\n",
       "    </tr>\n",
       "    <tr>\n",
       "      <th>mean</th>\n",
       "      <td>0.003101</td>\n",
       "      <td>0.004944</td>\n",
       "      <td>0.025150</td>\n",
       "      <td>126129.403783</td>\n",
       "      <td>6.902778</td>\n",
       "      <td>1.0</td>\n",
       "    </tr>\n",
       "    <tr>\n",
       "      <th>std</th>\n",
       "      <td>0.006508</td>\n",
       "      <td>0.005986</td>\n",
       "      <td>0.034267</td>\n",
       "      <td>41068.672278</td>\n",
       "      <td>5.412973</td>\n",
       "      <td>0.0</td>\n",
       "    </tr>\n",
       "    <tr>\n",
       "      <th>min</th>\n",
       "      <td>0.000000</td>\n",
       "      <td>0.000000</td>\n",
       "      <td>0.000000</td>\n",
       "      <td>83899.000000</td>\n",
       "      <td>0.000000</td>\n",
       "      <td>1.0</td>\n",
       "    </tr>\n",
       "    <tr>\n",
       "      <th>25%</th>\n",
       "      <td>0.000000</td>\n",
       "      <td>0.000000</td>\n",
       "      <td>0.000000</td>\n",
       "      <td>93250.112637</td>\n",
       "      <td>3.000000</td>\n",
       "      <td>1.0</td>\n",
       "    </tr>\n",
       "    <tr>\n",
       "      <th>50%</th>\n",
       "      <td>0.000000</td>\n",
       "      <td>0.000000</td>\n",
       "      <td>0.012350</td>\n",
       "      <td>113299.442003</td>\n",
       "      <td>6.000000</td>\n",
       "      <td>1.0</td>\n",
       "    </tr>\n",
       "    <tr>\n",
       "      <th>75%</th>\n",
       "      <td>0.002600</td>\n",
       "      <td>0.010125</td>\n",
       "      <td>0.034925</td>\n",
       "      <td>148674.000000</td>\n",
       "      <td>8.000000</td>\n",
       "      <td>1.0</td>\n",
       "    </tr>\n",
       "    <tr>\n",
       "      <th>max</th>\n",
       "      <td>0.035000</td>\n",
       "      <td>0.019500</td>\n",
       "      <td>0.123500</td>\n",
       "      <td>252933.615851</td>\n",
       "      <td>20.000000</td>\n",
       "      <td>1.0</td>\n",
       "    </tr>\n",
       "  </tbody>\n",
       "</table>\n",
       "</div>"
      ],
      "text/plain": [
       "       cancellations_rate  claims_rate  delayed_handling_time_rate  \\\n",
       "count           72.000000    72.000000                   72.000000   \n",
       "mean             0.003101     0.004944                    0.025150   \n",
       "std              0.006508     0.005986                    0.034267   \n",
       "min              0.000000     0.000000                    0.000000   \n",
       "25%              0.000000     0.000000                    0.000000   \n",
       "50%              0.000000     0.000000                    0.012350   \n",
       "75%              0.002600     0.010125                    0.034925   \n",
       "max              0.035000     0.019500                    0.123500   \n",
       "\n",
       "          avg_ticket  antiquity_ages  kmeans  \n",
       "count      72.000000       72.000000    72.0  \n",
       "mean   126129.403783        6.902778     1.0  \n",
       "std     41068.672278        5.412973     0.0  \n",
       "min     83899.000000        0.000000     1.0  \n",
       "25%     93250.112637        3.000000     1.0  \n",
       "50%    113299.442003        6.000000     1.0  \n",
       "75%    148674.000000        8.000000     1.0  \n",
       "max    252933.615851       20.000000     1.0  "
      ]
     },
     "execution_count": 131,
     "metadata": {},
     "output_type": "execute_result"
    }
   ],
   "source": [
    "data.loc[data.kmeans == 1].describe()"
   ]
  },
  {
   "cell_type": "code",
   "execution_count": 132,
   "metadata": {},
   "outputs": [
    {
     "data": {
      "text/html": [
       "<div>\n",
       "<style scoped>\n",
       "    .dataframe tbody tr th:only-of-type {\n",
       "        vertical-align: middle;\n",
       "    }\n",
       "\n",
       "    .dataframe tbody tr th {\n",
       "        vertical-align: top;\n",
       "    }\n",
       "\n",
       "    .dataframe thead th {\n",
       "        text-align: right;\n",
       "    }\n",
       "</style>\n",
       "<table border=\"1\" class=\"dataframe\">\n",
       "  <thead>\n",
       "    <tr style=\"text-align: right;\">\n",
       "      <th></th>\n",
       "      <th>cancellations_rate</th>\n",
       "      <th>claims_rate</th>\n",
       "      <th>delayed_handling_time_rate</th>\n",
       "      <th>avg_ticket</th>\n",
       "      <th>antiquity_ages</th>\n",
       "      <th>kmeans</th>\n",
       "    </tr>\n",
       "  </thead>\n",
       "  <tbody>\n",
       "    <tr>\n",
       "      <th>count</th>\n",
       "      <td>6.000000</td>\n",
       "      <td>6.000000</td>\n",
       "      <td>6.000000</td>\n",
       "      <td>6.000000</td>\n",
       "      <td>6.000000</td>\n",
       "      <td>6.0</td>\n",
       "    </tr>\n",
       "    <tr>\n",
       "      <th>mean</th>\n",
       "      <td>0.003700</td>\n",
       "      <td>0.004967</td>\n",
       "      <td>0.026517</td>\n",
       "      <td>422493.833333</td>\n",
       "      <td>7.833333</td>\n",
       "      <td>2.0</td>\n",
       "    </tr>\n",
       "    <tr>\n",
       "      <th>std</th>\n",
       "      <td>0.005844</td>\n",
       "      <td>0.007843</td>\n",
       "      <td>0.023796</td>\n",
       "      <td>61087.052525</td>\n",
       "      <td>8.084965</td>\n",
       "      <td>0.0</td>\n",
       "    </tr>\n",
       "    <tr>\n",
       "      <th>min</th>\n",
       "      <td>0.000000</td>\n",
       "      <td>0.000000</td>\n",
       "      <td>0.000000</td>\n",
       "      <td>333999.000000</td>\n",
       "      <td>0.000000</td>\n",
       "      <td>2.0</td>\n",
       "    </tr>\n",
       "    <tr>\n",
       "      <th>25%</th>\n",
       "      <td>0.000000</td>\n",
       "      <td>0.000000</td>\n",
       "      <td>0.004450</td>\n",
       "      <td>401249.000000</td>\n",
       "      <td>1.250000</td>\n",
       "      <td>2.0</td>\n",
       "    </tr>\n",
       "    <tr>\n",
       "      <th>50%</th>\n",
       "      <td>0.000000</td>\n",
       "      <td>0.000000</td>\n",
       "      <td>0.029950</td>\n",
       "      <td>419999.500000</td>\n",
       "      <td>6.500000</td>\n",
       "      <td>2.0</td>\n",
       "    </tr>\n",
       "    <tr>\n",
       "      <th>75%</th>\n",
       "      <td>0.006975</td>\n",
       "      <td>0.009375</td>\n",
       "      <td>0.044350</td>\n",
       "      <td>439474.500000</td>\n",
       "      <td>12.500000</td>\n",
       "      <td>2.0</td>\n",
       "    </tr>\n",
       "    <tr>\n",
       "      <th>max</th>\n",
       "      <td>0.012900</td>\n",
       "      <td>0.017300</td>\n",
       "      <td>0.054100</td>\n",
       "      <td>520000.000000</td>\n",
       "      <td>20.000000</td>\n",
       "      <td>2.0</td>\n",
       "    </tr>\n",
       "  </tbody>\n",
       "</table>\n",
       "</div>"
      ],
      "text/plain": [
       "       cancellations_rate  claims_rate  delayed_handling_time_rate  \\\n",
       "count            6.000000     6.000000                    6.000000   \n",
       "mean             0.003700     0.004967                    0.026517   \n",
       "std              0.005844     0.007843                    0.023796   \n",
       "min              0.000000     0.000000                    0.000000   \n",
       "25%              0.000000     0.000000                    0.004450   \n",
       "50%              0.000000     0.000000                    0.029950   \n",
       "75%              0.006975     0.009375                    0.044350   \n",
       "max              0.012900     0.017300                    0.054100   \n",
       "\n",
       "          avg_ticket  antiquity_ages  kmeans  \n",
       "count       6.000000        6.000000     6.0  \n",
       "mean   422493.833333        7.833333     2.0  \n",
       "std     61087.052525        8.084965     0.0  \n",
       "min    333999.000000        0.000000     2.0  \n",
       "25%    401249.000000        1.250000     2.0  \n",
       "50%    419999.500000        6.500000     2.0  \n",
       "75%    439474.500000       12.500000     2.0  \n",
       "max    520000.000000       20.000000     2.0  "
      ]
     },
     "execution_count": 132,
     "metadata": {},
     "output_type": "execute_result"
    }
   ],
   "source": [
    "data.loc[data.kmeans == 2].describe()"
   ]
  },
  {
   "cell_type": "code",
   "execution_count": 133,
   "metadata": {},
   "outputs": [
    {
     "data": {
      "text/html": [
       "<div>\n",
       "<style scoped>\n",
       "    .dataframe tbody tr th:only-of-type {\n",
       "        vertical-align: middle;\n",
       "    }\n",
       "\n",
       "    .dataframe tbody tr th {\n",
       "        vertical-align: top;\n",
       "    }\n",
       "\n",
       "    .dataframe thead th {\n",
       "        text-align: right;\n",
       "    }\n",
       "</style>\n",
       "<table border=\"1\" class=\"dataframe\">\n",
       "  <thead>\n",
       "    <tr style=\"text-align: right;\">\n",
       "      <th></th>\n",
       "      <th>cancellations_rate</th>\n",
       "      <th>claims_rate</th>\n",
       "      <th>delayed_handling_time_rate</th>\n",
       "      <th>avg_ticket</th>\n",
       "      <th>antiquity_ages</th>\n",
       "      <th>kmeans</th>\n",
       "    </tr>\n",
       "  </thead>\n",
       "  <tbody>\n",
       "    <tr>\n",
       "      <th>count</th>\n",
       "      <td>495.000000</td>\n",
       "      <td>495.000000</td>\n",
       "      <td>495.000000</td>\n",
       "      <td>495.000000</td>\n",
       "      <td>495.000000</td>\n",
       "      <td>495.0</td>\n",
       "    </tr>\n",
       "    <tr>\n",
       "      <th>mean</th>\n",
       "      <td>0.002533</td>\n",
       "      <td>0.006463</td>\n",
       "      <td>0.028964</td>\n",
       "      <td>41601.275780</td>\n",
       "      <td>7.634343</td>\n",
       "      <td>3.0</td>\n",
       "    </tr>\n",
       "    <tr>\n",
       "      <th>std</th>\n",
       "      <td>0.004366</td>\n",
       "      <td>0.006730</td>\n",
       "      <td>0.037221</td>\n",
       "      <td>15520.666254</td>\n",
       "      <td>5.188124</td>\n",
       "      <td>0.0</td>\n",
       "    </tr>\n",
       "    <tr>\n",
       "      <th>min</th>\n",
       "      <td>0.000000</td>\n",
       "      <td>0.000000</td>\n",
       "      <td>0.000000</td>\n",
       "      <td>23145.000000</td>\n",
       "      <td>0.000000</td>\n",
       "      <td>3.0</td>\n",
       "    </tr>\n",
       "    <tr>\n",
       "      <th>25%</th>\n",
       "      <td>0.000000</td>\n",
       "      <td>0.000000</td>\n",
       "      <td>0.000700</td>\n",
       "      <td>28836.125000</td>\n",
       "      <td>4.000000</td>\n",
       "      <td>3.0</td>\n",
       "    </tr>\n",
       "    <tr>\n",
       "      <th>50%</th>\n",
       "      <td>0.000000</td>\n",
       "      <td>0.005600</td>\n",
       "      <td>0.013900</td>\n",
       "      <td>37682.750000</td>\n",
       "      <td>6.000000</td>\n",
       "      <td>3.0</td>\n",
       "    </tr>\n",
       "    <tr>\n",
       "      <th>75%</th>\n",
       "      <td>0.004300</td>\n",
       "      <td>0.011500</td>\n",
       "      <td>0.043000</td>\n",
       "      <td>50383.309524</td>\n",
       "      <td>11.000000</td>\n",
       "      <td>3.0</td>\n",
       "    </tr>\n",
       "    <tr>\n",
       "      <th>max</th>\n",
       "      <td>0.020900</td>\n",
       "      <td>0.039500</td>\n",
       "      <td>0.196400</td>\n",
       "      <td>83527.290000</td>\n",
       "      <td>22.000000</td>\n",
       "      <td>3.0</td>\n",
       "    </tr>\n",
       "  </tbody>\n",
       "</table>\n",
       "</div>"
      ],
      "text/plain": [
       "       cancellations_rate  claims_rate  delayed_handling_time_rate  \\\n",
       "count          495.000000   495.000000                  495.000000   \n",
       "mean             0.002533     0.006463                    0.028964   \n",
       "std              0.004366     0.006730                    0.037221   \n",
       "min              0.000000     0.000000                    0.000000   \n",
       "25%              0.000000     0.000000                    0.000700   \n",
       "50%              0.000000     0.005600                    0.013900   \n",
       "75%              0.004300     0.011500                    0.043000   \n",
       "max              0.020900     0.039500                    0.196400   \n",
       "\n",
       "         avg_ticket  antiquity_ages  kmeans  \n",
       "count    495.000000      495.000000   495.0  \n",
       "mean   41601.275780        7.634343     3.0  \n",
       "std    15520.666254        5.188124     0.0  \n",
       "min    23145.000000        0.000000     3.0  \n",
       "25%    28836.125000        4.000000     3.0  \n",
       "50%    37682.750000        6.000000     3.0  \n",
       "75%    50383.309524       11.000000     3.0  \n",
       "max    83527.290000       22.000000     3.0  "
      ]
     },
     "execution_count": 133,
     "metadata": {},
     "output_type": "execute_result"
    }
   ],
   "source": [
    "data.loc[data.kmeans == 3].describe()"
   ]
  },
  {
   "cell_type": "code",
   "execution_count": 134,
   "metadata": {},
   "outputs": [
    {
     "data": {
      "text/plain": [
       "array([0.9081252 , 0.91537627, 0.91619026, ..., 0.90173948, 0.89448782,\n",
       "       0.91558739])"
      ]
     },
     "execution_count": 134,
     "metadata": {},
     "output_type": "execute_result"
    }
   ],
   "source": [
    "# analizamos los valores de la silueta\n",
    "silhouette_vals = silhouette_samples(X, labels)\n",
    "silhouette_vals"
   ]
  },
  {
   "cell_type": "code",
   "execution_count": 135,
   "metadata": {},
   "outputs": [
    {
     "data": {
      "text/plain": [
       "Text(0.5, 1.02, 'Silhouette plot por cluster')"
      ]
     },
     "execution_count": 135,
     "metadata": {},
     "output_type": "execute_result"
    },
    {
     "data": {
      "image/png": "[encoded data removed]",
      "text/plain": [
       "<Figure size 1440x1080 with 1 Axes>"
      ]
     },
     "metadata": {
      "needs_background": "light"
     },
     "output_type": "display_data"
    }
   ],
   "source": [
    "plt.rcParams['figure.figsize'] = (20,15)\n",
    "ax = plt.axes()\n",
    "# Silhouette plot\n",
    "y_ticks = []\n",
    "y_lower, y_upper = 0, 0\n",
    "for i, cluster in enumerate(np.unique(labels)):\n",
    "    cluster_silhouette_vals = silhouette_vals[labels == cluster]\n",
    "    cluster_silhouette_vals.sort()\n",
    "    y_upper += len(cluster_silhouette_vals)\n",
    "    ax.barh(range(y_lower, y_upper), cluster_silhouette_vals, edgecolor='none', height=2)\n",
    "    ax.text(-0.03, (y_lower + y_upper) / 2, str(i + 1))\n",
    "    y_lower += len(cluster_silhouette_vals)\n",
    "\n",
    "# calculamos el promedio del score de siluetas\n",
    "avg_score = np.mean(silhouette_vals)\n",
    "ax.axvline(avg_score, linestyle='--', linewidth=3, color='black')\n",
    "ax.set_yticks([])\n",
    "ax.set_xlim([-0.1, 1])\n",
    "ax.set_xlabel('Silhouette coefficient')\n",
    "ax.set_ylabel('Clusters')\n",
    "ax.set_title('Silhouette plot por cluster', y=1.02)"
   ]
  },
  {
   "cell_type": "markdown",
   "metadata": {},
   "source": [
    "#### Luego de visualizar el grafico de siluetas y ver la similitud entre el cluster 2 y 4 se calcular nuevamente con menos clusters"
   ]
  },
  {
   "cell_type": "code",
   "execution_count": 136,
   "metadata": {},
   "outputs": [],
   "source": [
    "data = data_original[['cancellations_rate','claims_rate','delayed_handling_time_rate','avg_ticket','antiquity_ages']]\n",
    "data = data.fillna(0)"
   ]
  },
  {
   "cell_type": "code",
   "execution_count": 137,
   "metadata": {},
   "outputs": [
    {
     "name": "stdout",
     "output_type": "stream",
     "text": [
      "[[2.34073767e-03 5.40294240e-03 2.41652093e-02 4.63912732e+03\n",
      "  7.38955657e+00]\n",
      " [3.10138889e-03 4.94444444e-03 2.51500000e-02 1.26129404e+05\n",
      "  6.90277778e+00]\n",
      " [3.70000000e-03 4.96666667e-03 2.65166667e-02 4.22493833e+05\n",
      "  7.83333333e+00]\n",
      " [2.53252525e-03 6.46282828e-03 2.89642424e-02 4.16012758e+04\n",
      "  7.63434343e+00]]\n",
      "[0 0 0 ... 0 0 0]\n"
     ]
    }
   ],
   "source": [
    "# calculamos el algoritmo k_means pero con 2 clusters luego de ver el grafico de siluetas\n",
    "kmeans_2 = KMeans(n_clusters=2,random_state=0).fit(X)\n",
    "centroids_2 = kmeans_2.cluster_centers_\n",
    "# printeamos los centroides de los clusters\n",
    "print(centroids)\n",
    "labels_2 = kmeans_2.labels_\n",
    "print(labels_2)"
   ]
  },
  {
   "cell_type": "code",
   "execution_count": 138,
   "metadata": {},
   "outputs": [],
   "source": [
    "# pasamos los datos al data\n",
    "data['kmeans_2'] = labels_2\n",
    "# tambien los incluimos en el dataframe original\n",
    "data_original['kmeans_2'] = labels_2"
   ]
  },
  {
   "cell_type": "code",
   "execution_count": 139,
   "metadata": {},
   "outputs": [
    {
     "data": {
      "text/plain": [
       "kmeans_2\n",
       "0    5239\n",
       "1     160\n",
       "dtype: int64"
      ]
     },
     "execution_count": 139,
     "metadata": {},
     "output_type": "execute_result"
    }
   ],
   "source": [
    "data.value_counts('kmeans_2')"
   ]
  },
  {
   "cell_type": "code",
   "execution_count": 140,
   "metadata": {},
   "outputs": [
    {
     "data": {
      "text/plain": [
       "array([0.94582193, 0.94561832, 0.94735859, ..., 0.9397755 , 0.93682952,\n",
       "       0.94728285])"
      ]
     },
     "execution_count": 140,
     "metadata": {},
     "output_type": "execute_result"
    }
   ],
   "source": [
    "silhouette_vals = silhouette_samples(X, labels_2)\n",
    "silhouette_vals"
   ]
  },
  {
   "cell_type": "code",
   "execution_count": 141,
   "metadata": {},
   "outputs": [
    {
     "data": {
      "text/plain": [
       "Text(0.5, 1.02, 'Silhouette plot por cluster')"
      ]
     },
     "execution_count": 141,
     "metadata": {},
     "output_type": "execute_result"
    },
    {
     "data": {
      "image/png": "[encoded data removed]",
      "text/plain": [
       "<Figure size 1440x1080 with 1 Axes>"
      ]
     },
     "metadata": {
      "needs_background": "light"
     },
     "output_type": "display_data"
    }
   ],
   "source": [
    "ax = plt.axes()\n",
    "# Silhouette plot\n",
    "y_ticks = []\n",
    "y_lower, y_upper = 0, 0\n",
    "for i, cluster in enumerate(np.unique(labels_2)):\n",
    "    cluster_silhouette_vals = silhouette_vals[labels_2 == cluster]\n",
    "    cluster_silhouette_vals.sort()\n",
    "    y_upper += len(cluster_silhouette_vals)\n",
    "    ax.barh(range(y_lower, y_upper), cluster_silhouette_vals, edgecolor='none', height=2)\n",
    "    ax.text(-0.03, (y_lower + y_upper) / 2, str(i + 1))\n",
    "    y_lower += len(cluster_silhouette_vals)\n",
    "\n",
    "plt.rcParams['figure.figsize'] = (20,15)\n",
    "avg_score = np.mean(silhouette_vals)\n",
    "ax.axvline(avg_score, linestyle='--', linewidth=3, color='black')\n",
    "ax.set_yticks([])\n",
    "ax.set_xlim([-0.1, 1])\n",
    "ax.set_xlabel('Silhouette coefficient')\n",
    "ax.set_ylabel('Clusters')\n",
    "ax.set_title('Silhouette plot por cluster', y=1.02)"
   ]
  },
  {
   "cell_type": "code",
   "execution_count": 142,
   "metadata": {},
   "outputs": [
    {
     "data": {
      "text/html": [
       "<div>\n",
       "<style scoped>\n",
       "    .dataframe tbody tr th:only-of-type {\n",
       "        vertical-align: middle;\n",
       "    }\n",
       "\n",
       "    .dataframe tbody tr th {\n",
       "        vertical-align: top;\n",
       "    }\n",
       "\n",
       "    .dataframe thead th {\n",
       "        text-align: right;\n",
       "    }\n",
       "</style>\n",
       "<table border=\"1\" class=\"dataframe\">\n",
       "  <thead>\n",
       "    <tr style=\"text-align: right;\">\n",
       "      <th></th>\n",
       "      <th>kmeans_2</th>\n",
       "      <th>size</th>\n",
       "      <th>porcentaje</th>\n",
       "    </tr>\n",
       "  </thead>\n",
       "  <tbody>\n",
       "    <tr>\n",
       "      <th>0</th>\n",
       "      <td>0</td>\n",
       "      <td>5239</td>\n",
       "      <td>89.4</td>\n",
       "    </tr>\n",
       "    <tr>\n",
       "      <th>1</th>\n",
       "      <td>1</td>\n",
       "      <td>160</td>\n",
       "      <td>1.3</td>\n",
       "    </tr>\n",
       "  </tbody>\n",
       "</table>\n",
       "</div>"
      ],
      "text/plain": [
       "   kmeans_2  size  porcentaje\n",
       "0         0  5239        89.4\n",
       "1         1   160         1.3"
      ]
     },
     "execution_count": 142,
     "metadata": {},
     "output_type": "execute_result"
    }
   ],
   "source": [
    "# calculamos los \n",
    "grupos_kmeans_2 = data.groupby('kmeans_2', as_index=False).size()\n",
    "grupos_kmeans_2['porcentaje'] = round(grupos_kmeans['size']/len(data)*100,1)\n",
    "grupos_kmeans_2"
   ]
  },
  {
   "cell_type": "markdown",
   "metadata": {},
   "source": [
    "### 3. b. CLASIFICACIÓN SEGÚN REGLAS DE NEGOCIO"
   ]
  },
  {
   "cell_type": "markdown",
   "metadata": {},
   "source": [
    "Se clasificaran los sellers en 4 grupos: \n",
    "1. **Relevancia Alta – Perfil Alto:** ticket promedio mayor a la mediana y 0 en 2 variables de perfil\n",
    "2. **Relevancia Alta – Perfil Medio:** ticket promedio mayor a la mediana y cuentan con cancelaciones o reclamos o demoras\n",
    "3. **Relevancia Media – Perfil Alto:** ticket promedio Menor a la mediana y 0 en 2 variables de perfil\n",
    "4. **Relevancia Media – Perfil Medio:** ticket promedio Menor a la mediana y cuentan con cancelaciones o reclamos o demoras\n",
    "\n"
   ]
  },
  {
   "cell_type": "markdown",
   "metadata": {},
   "source": [
    "#### Primero calculamos un scoring de las variables de perfil para tener valores de los sellers"
   ]
  },
  {
   "cell_type": "code",
   "execution_count": 143,
   "metadata": {},
   "outputs": [],
   "source": [
    "# incluyo 0 o 1 dependiendo si su % de la variable es 0 o diferente de 0\n",
    "data.loc[data.cancellations_rate == 0, \"cancelations\"] = 1\n",
    "data.loc[data.cancellations_rate != 0, \"cancelations\"] = 0\n",
    "data.loc[data.claims_rate == 0, \"claims\"] = 1\n",
    "data.loc[data.claims_rate != 0, \"claims\"] = 0\n",
    "data.loc[data.delayed_handling_time_rate == 0, \"delays\"] = 1\n",
    "data.loc[data.delayed_handling_time_rate != 0, \"delays\"] = 0"
   ]
  },
  {
   "cell_type": "code",
   "execution_count": 144,
   "metadata": {},
   "outputs": [],
   "source": [
    "data['scoring_perfil'] = data[['cancelations','claims','delays']].sum(axis=1)"
   ]
  },
  {
   "cell_type": "code",
   "execution_count": 145,
   "metadata": {},
   "outputs": [],
   "source": [
    "# Defino perfil Relevancia Alta-Perfil Medio\n",
    "data.loc[(data.scoring_perfil <= 1) & (data.avg_ticket >= float(estadisticos.avg_ticket['50%'])), 'perfil'] = \"relevancia alta-perfil medio\"\n",
    "# Defino perfil Relevancia Alta-Perfil Alto\n",
    "data.loc[(data.scoring_perfil >= 2) & (data.avg_ticket >= float(estadisticos.avg_ticket['50%'])), 'perfil'] = \"relevancia alta-perfil alto\"\n",
    "# Defino perfil Relevancia Media-Perfil Alto\n",
    "data.loc[(data.scoring_perfil <= 1) & (data.avg_ticket < float(estadisticos.avg_ticket['50%'])), 'perfil'] = \"relevancia media-perfil medio\"\n",
    "# Defino perfil Relevancia Media-Perfil Medio\n",
    "data.loc[(data.scoring_perfil >= 2) & (data.avg_ticket < float(estadisticos.avg_ticket['50%'])), 'perfil'] = \"relevancia media-perfil alto\""
   ]
  },
  {
   "cell_type": "code",
   "execution_count": 146,
   "metadata": {},
   "outputs": [
    {
     "data": {
      "text/html": [
       "<div>\n",
       "<style scoped>\n",
       "    .dataframe tbody tr th:only-of-type {\n",
       "        vertical-align: middle;\n",
       "    }\n",
       "\n",
       "    .dataframe tbody tr th {\n",
       "        vertical-align: top;\n",
       "    }\n",
       "\n",
       "    .dataframe thead th {\n",
       "        text-align: right;\n",
       "    }\n",
       "</style>\n",
       "<table border=\"1\" class=\"dataframe\">\n",
       "  <thead>\n",
       "    <tr style=\"text-align: right;\">\n",
       "      <th></th>\n",
       "      <th>perfil</th>\n",
       "      <th>size</th>\n",
       "      <th>porcentaje</th>\n",
       "    </tr>\n",
       "  </thead>\n",
       "  <tbody>\n",
       "    <tr>\n",
       "      <th>0</th>\n",
       "      <td>relevancia alta-perfil alto</td>\n",
       "      <td>995</td>\n",
       "      <td>18.4</td>\n",
       "    </tr>\n",
       "    <tr>\n",
       "      <th>1</th>\n",
       "      <td>relevancia alta-perfil medio</td>\n",
       "      <td>1704</td>\n",
       "      <td>31.6</td>\n",
       "    </tr>\n",
       "    <tr>\n",
       "      <th>2</th>\n",
       "      <td>relevancia media-perfil alto</td>\n",
       "      <td>1096</td>\n",
       "      <td>20.3</td>\n",
       "    </tr>\n",
       "    <tr>\n",
       "      <th>3</th>\n",
       "      <td>relevancia media-perfil medio</td>\n",
       "      <td>1604</td>\n",
       "      <td>29.7</td>\n",
       "    </tr>\n",
       "  </tbody>\n",
       "</table>\n",
       "</div>"
      ],
      "text/plain": [
       "                          perfil  size  porcentaje\n",
       "0    relevancia alta-perfil alto   995        18.4\n",
       "1   relevancia alta-perfil medio  1704        31.6\n",
       "2   relevancia media-perfil alto  1096        20.3\n",
       "3  relevancia media-perfil medio  1604        29.7"
      ]
     },
     "execution_count": 146,
     "metadata": {},
     "output_type": "execute_result"
    }
   ],
   "source": [
    "grupos = data.groupby('perfil', as_index=False).size()\n",
    "grupos['porcentaje'] = round(grupos['size']/len(data)*100,1)\n",
    "grupos"
   ]
  },
  {
   "cell_type": "code",
   "execution_count": 147,
   "metadata": {},
   "outputs": [
    {
     "data": {
      "text/plain": [
       "0"
      ]
     },
     "execution_count": 147,
     "metadata": {},
     "output_type": "execute_result"
    }
   ],
   "source": [
    "#chequeamos que todos los sellers esten clasificados\n",
    "data.perfil.isnull().sum()"
   ]
  },
  {
   "cell_type": "code",
   "execution_count": 148,
   "metadata": {},
   "outputs": [],
   "source": [
    "# pasamos los datos al dataframe original\n",
    "data_original['rules'] = data['perfil']"
   ]
  },
  {
   "cell_type": "markdown",
   "metadata": {},
   "source": [
    "# 3.c. Clasificacion en base a algoritmo DBSCAN"
   ]
  },
  {
   "cell_type": "code",
   "execution_count": 149,
   "metadata": {},
   "outputs": [],
   "source": [
    "from sklearn.cluster import DBSCAN"
   ]
  },
  {
   "cell_type": "code",
   "execution_count": 150,
   "metadata": {},
   "outputs": [],
   "source": [
    "data = data_original[['cancellations_rate','claims_rate','delayed_handling_time_rate','avg_ticket','antiquity_ages']]\n",
    "data = data.fillna(0)"
   ]
  },
  {
   "cell_type": "code",
   "execution_count": 151,
   "metadata": {},
   "outputs": [],
   "source": [
    "# estandarizamos los datos\n",
    "X_db = StandardScaler().fit_transform(data)"
   ]
  },
  {
   "cell_type": "code",
   "execution_count": 152,
   "metadata": {},
   "outputs": [],
   "source": [
    "# se deja por default el eps (0.5) y se incluyen que los clusters contengan minimo 200 casos\n",
    "db = DBSCAN(min_samples=200).fit(X_db)"
   ]
  },
  {
   "cell_type": "code",
   "execution_count": 153,
   "metadata": {},
   "outputs": [
    {
     "name": "stdout",
     "output_type": "stream",
     "text": [
      "[-1 -1 -1 ...  0 -1  0]\n"
     ]
    }
   ],
   "source": [
    "labels_2 = db.labels_\n",
    "print(labels_2)"
   ]
  },
  {
   "cell_type": "code",
   "execution_count": 154,
   "metadata": {},
   "outputs": [],
   "source": [
    "# pasamos los datos al dataframe\n",
    "data['dbscan']= db.labels_\n",
    "# pasamos los datos al dataframe original\n",
    "data_original['dbscan']= db.labels_"
   ]
  },
  {
   "cell_type": "code",
   "execution_count": 155,
   "metadata": {},
   "outputs": [
    {
     "data": {
      "text/plain": [
       "dbscan\n",
       "-1    3873\n",
       " 0    1526\n",
       "dtype: int64"
      ]
     },
     "execution_count": 155,
     "metadata": {},
     "output_type": "execute_result"
    }
   ],
   "source": [
    "data.value_counts('dbscan')"
   ]
  },
  {
   "cell_type": "code",
   "execution_count": 156,
   "metadata": {},
   "outputs": [
    {
     "data": {
      "text/html": [
       "<div>\n",
       "<style scoped>\n",
       "    .dataframe tbody tr th:only-of-type {\n",
       "        vertical-align: middle;\n",
       "    }\n",
       "\n",
       "    .dataframe tbody tr th {\n",
       "        vertical-align: top;\n",
       "    }\n",
       "\n",
       "    .dataframe thead th {\n",
       "        text-align: right;\n",
       "    }\n",
       "</style>\n",
       "<table border=\"1\" class=\"dataframe\">\n",
       "  <thead>\n",
       "    <tr style=\"text-align: right;\">\n",
       "      <th></th>\n",
       "      <th>cancellations_rate</th>\n",
       "      <th>claims_rate</th>\n",
       "      <th>delayed_handling_time_rate</th>\n",
       "      <th>avg_ticket</th>\n",
       "      <th>antiquity_ages</th>\n",
       "      <th>dbscan</th>\n",
       "    </tr>\n",
       "  </thead>\n",
       "  <tbody>\n",
       "    <tr>\n",
       "      <th>count</th>\n",
       "      <td>1526.000000</td>\n",
       "      <td>1526.000000</td>\n",
       "      <td>1526.00000</td>\n",
       "      <td>1526.000000</td>\n",
       "      <td>1526.000000</td>\n",
       "      <td>1526.0</td>\n",
       "    </tr>\n",
       "    <tr>\n",
       "      <th>mean</th>\n",
       "      <td>0.000088</td>\n",
       "      <td>0.000697</td>\n",
       "      <td>0.00482</td>\n",
       "      <td>3693.611835</td>\n",
       "      <td>6.335518</td>\n",
       "      <td>0.0</td>\n",
       "    </tr>\n",
       "    <tr>\n",
       "      <th>std</th>\n",
       "      <td>0.000368</td>\n",
       "      <td>0.001347</td>\n",
       "      <td>0.00684</td>\n",
       "      <td>3970.497643</td>\n",
       "      <td>4.706202</td>\n",
       "      <td>0.0</td>\n",
       "    </tr>\n",
       "    <tr>\n",
       "      <th>min</th>\n",
       "      <td>0.000000</td>\n",
       "      <td>0.000000</td>\n",
       "      <td>0.00000</td>\n",
       "      <td>0.000000</td>\n",
       "      <td>0.000000</td>\n",
       "      <td>0.0</td>\n",
       "    </tr>\n",
       "    <tr>\n",
       "      <th>25%</th>\n",
       "      <td>0.000000</td>\n",
       "      <td>0.000000</td>\n",
       "      <td>0.00000</td>\n",
       "      <td>1177.787500</td>\n",
       "      <td>2.000000</td>\n",
       "      <td>0.0</td>\n",
       "    </tr>\n",
       "    <tr>\n",
       "      <th>50%</th>\n",
       "      <td>0.000000</td>\n",
       "      <td>0.000000</td>\n",
       "      <td>0.00140</td>\n",
       "      <td>2302.030000</td>\n",
       "      <td>5.000000</td>\n",
       "      <td>0.0</td>\n",
       "    </tr>\n",
       "    <tr>\n",
       "      <th>75%</th>\n",
       "      <td>0.000000</td>\n",
       "      <td>0.000300</td>\n",
       "      <td>0.00750</td>\n",
       "      <td>4846.267500</td>\n",
       "      <td>10.000000</td>\n",
       "      <td>0.0</td>\n",
       "    </tr>\n",
       "    <tr>\n",
       "      <th>max</th>\n",
       "      <td>0.002800</td>\n",
       "      <td>0.005400</td>\n",
       "      <td>0.03000</td>\n",
       "      <td>22600.000000</td>\n",
       "      <td>17.000000</td>\n",
       "      <td>0.0</td>\n",
       "    </tr>\n",
       "  </tbody>\n",
       "</table>\n",
       "</div>"
      ],
      "text/plain": [
       "       cancellations_rate  claims_rate  delayed_handling_time_rate  \\\n",
       "count         1526.000000  1526.000000                  1526.00000   \n",
       "mean             0.000088     0.000697                     0.00482   \n",
       "std              0.000368     0.001347                     0.00684   \n",
       "min              0.000000     0.000000                     0.00000   \n",
       "25%              0.000000     0.000000                     0.00000   \n",
       "50%              0.000000     0.000000                     0.00140   \n",
       "75%              0.000000     0.000300                     0.00750   \n",
       "max              0.002800     0.005400                     0.03000   \n",
       "\n",
       "         avg_ticket  antiquity_ages  dbscan  \n",
       "count   1526.000000     1526.000000  1526.0  \n",
       "mean    3693.611835        6.335518     0.0  \n",
       "std     3970.497643        4.706202     0.0  \n",
       "min        0.000000        0.000000     0.0  \n",
       "25%     1177.787500        2.000000     0.0  \n",
       "50%     2302.030000        5.000000     0.0  \n",
       "75%     4846.267500       10.000000     0.0  \n",
       "max    22600.000000       17.000000     0.0  "
      ]
     },
     "execution_count": 156,
     "metadata": {},
     "output_type": "execute_result"
    }
   ],
   "source": [
    "data.loc[data.dbscan == 0].describe()"
   ]
  },
  {
   "cell_type": "code",
   "execution_count": 157,
   "metadata": {},
   "outputs": [
    {
     "data": {
      "text/html": [
       "<div>\n",
       "<style scoped>\n",
       "    .dataframe tbody tr th:only-of-type {\n",
       "        vertical-align: middle;\n",
       "    }\n",
       "\n",
       "    .dataframe tbody tr th {\n",
       "        vertical-align: top;\n",
       "    }\n",
       "\n",
       "    .dataframe thead th {\n",
       "        text-align: right;\n",
       "    }\n",
       "</style>\n",
       "<table border=\"1\" class=\"dataframe\">\n",
       "  <thead>\n",
       "    <tr style=\"text-align: right;\">\n",
       "      <th></th>\n",
       "      <th>cancellations_rate</th>\n",
       "      <th>claims_rate</th>\n",
       "      <th>delayed_handling_time_rate</th>\n",
       "      <th>avg_ticket</th>\n",
       "      <th>antiquity_ages</th>\n",
       "      <th>dbscan</th>\n",
       "    </tr>\n",
       "  </thead>\n",
       "  <tbody>\n",
       "    <tr>\n",
       "      <th>count</th>\n",
       "      <td>3873.000000</td>\n",
       "      <td>3873.000000</td>\n",
       "      <td>3873.000000</td>\n",
       "      <td>3873.000000</td>\n",
       "      <td>3873.000000</td>\n",
       "      <td>3873.0</td>\n",
       "    </tr>\n",
       "    <tr>\n",
       "      <th>mean</th>\n",
       "      <td>0.003269</td>\n",
       "      <td>0.007384</td>\n",
       "      <td>0.032423</td>\n",
       "      <td>12641.592660</td>\n",
       "      <td>7.827782</td>\n",
       "      <td>-1.0</td>\n",
       "    </tr>\n",
       "    <tr>\n",
       "      <th>std</th>\n",
       "      <td>0.004588</td>\n",
       "      <td>0.005873</td>\n",
       "      <td>0.034801</td>\n",
       "      <td>27256.166414</td>\n",
       "      <td>5.505963</td>\n",
       "      <td>0.0</td>\n",
       "    </tr>\n",
       "    <tr>\n",
       "      <th>min</th>\n",
       "      <td>0.000000</td>\n",
       "      <td>0.000000</td>\n",
       "      <td>0.000000</td>\n",
       "      <td>0.000000</td>\n",
       "      <td>0.000000</td>\n",
       "      <td>-1.0</td>\n",
       "    </tr>\n",
       "    <tr>\n",
       "      <th>25%</th>\n",
       "      <td>0.000000</td>\n",
       "      <td>0.002100</td>\n",
       "      <td>0.006300</td>\n",
       "      <td>1812.548599</td>\n",
       "      <td>3.000000</td>\n",
       "      <td>-1.0</td>\n",
       "    </tr>\n",
       "    <tr>\n",
       "      <th>50%</th>\n",
       "      <td>0.000900</td>\n",
       "      <td>0.007100</td>\n",
       "      <td>0.019500</td>\n",
       "      <td>4299.000000</td>\n",
       "      <td>6.000000</td>\n",
       "      <td>-1.0</td>\n",
       "    </tr>\n",
       "    <tr>\n",
       "      <th>75%</th>\n",
       "      <td>0.005300</td>\n",
       "      <td>0.011400</td>\n",
       "      <td>0.047100</td>\n",
       "      <td>11000.875239</td>\n",
       "      <td>12.000000</td>\n",
       "      <td>-1.0</td>\n",
       "    </tr>\n",
       "    <tr>\n",
       "      <th>max</th>\n",
       "      <td>0.036200</td>\n",
       "      <td>0.039500</td>\n",
       "      <td>0.210500</td>\n",
       "      <td>520000.000000</td>\n",
       "      <td>22.000000</td>\n",
       "      <td>-1.0</td>\n",
       "    </tr>\n",
       "  </tbody>\n",
       "</table>\n",
       "</div>"
      ],
      "text/plain": [
       "       cancellations_rate  claims_rate  delayed_handling_time_rate  \\\n",
       "count         3873.000000  3873.000000                 3873.000000   \n",
       "mean             0.003269     0.007384                    0.032423   \n",
       "std              0.004588     0.005873                    0.034801   \n",
       "min              0.000000     0.000000                    0.000000   \n",
       "25%              0.000000     0.002100                    0.006300   \n",
       "50%              0.000900     0.007100                    0.019500   \n",
       "75%              0.005300     0.011400                    0.047100   \n",
       "max              0.036200     0.039500                    0.210500   \n",
       "\n",
       "          avg_ticket  antiquity_ages  dbscan  \n",
       "count    3873.000000     3873.000000  3873.0  \n",
       "mean    12641.592660        7.827782    -1.0  \n",
       "std     27256.166414        5.505963     0.0  \n",
       "min         0.000000        0.000000    -1.0  \n",
       "25%      1812.548599        3.000000    -1.0  \n",
       "50%      4299.000000        6.000000    -1.0  \n",
       "75%     11000.875239       12.000000    -1.0  \n",
       "max    520000.000000       22.000000    -1.0  "
      ]
     },
     "execution_count": 157,
     "metadata": {},
     "output_type": "execute_result"
    }
   ],
   "source": [
    "data.loc[data.dbscan == -1].describe()"
   ]
  },
  {
   "cell_type": "markdown",
   "metadata": {},
   "source": [
    "# 4. Extraemos los resultados para compartir con el equipo comercial"
   ]
  },
  {
   "cell_type": "code",
   "execution_count": 158,
   "metadata": {},
   "outputs": [
    {
     "data": {
      "text/plain": [
       "Index(['Unnamed: 0', 'categoria_MLA', 'seller', 'fecha_registro',\n",
       "       'power_seller_status', 'level_id', 'cancellations_value',\n",
       "       'cancellations_rate', 'claims_value', 'claims_rate',\n",
       "       'delayed_handling_time_value', 'delayed_handling_time_rate',\n",
       "       'sales_value', 'transactions_total_historic',\n",
       "       'transactions_canceled_historic', 'transactions_completed_historic',\n",
       "       'rating_negative', 'rating_neutral', 'rating_positive', 'state', 'city',\n",
       "       'total_sales_amount', 'total_items_sold', 'total_profits_amount',\n",
       "       'avg_ticket', 'categoria_name', 'register_date', 'antiquity_ages',\n",
       "       'transactions_canceled_historic_rate', 'kmeans', 'kmeans_2', 'rules',\n",
       "       'dbscan'],\n",
       "      dtype='object')"
      ]
     },
     "execution_count": 158,
     "metadata": {},
     "output_type": "execute_result"
    }
   ],
   "source": [
    "data_original.columns"
   ]
  },
  {
   "cell_type": "code",
   "execution_count": 159,
   "metadata": {},
   "outputs": [
    {
     "name": "stderr",
     "output_type": "stream",
     "text": [
      "C:\\Users\\Ignacio\\anaconda3\\lib\\site-packages\\pandas\\core\\frame.py:4441: SettingWithCopyWarning: \n",
      "A value is trying to be set on a copy of a slice from a DataFrame\n",
      "\n",
      "See the caveats in the documentation: https://pandas.pydata.org/pandas-docs/stable/user_guide/indexing.html#returning-a-view-versus-a-copy\n",
      "  return super().rename(\n"
     ]
    }
   ],
   "source": [
    "data_extract = data_original[['categoria_MLA', 'categoria_name', 'seller','state', 'city','rules','cancellations_rate','claims_rate','delayed_handling_time_rate','avg_ticket']]\n",
    "data_extract.rename(columns={'rules': 'grupo'},inplace=True)\n",
    "data_extract.to_csv('../data/sellers_clasificados.csv',index=False)"
   ]
  }
 ],
 "metadata": {
  "interpreter": {
   "hash": "24026d3aba629fcef83117a8818ef44727589b884fc8c219cbb87d5bf3da2505"
  },
  "kernelspec": {
   "display_name": "Python 3.8.8 ('base')",
   "language": "python",
   "name": "python3"
  },
  "language_info": {
   "codemirror_mode": {
    "name": "ipython",
    "version": 3
   },
   "file_extension": ".py",
   "mimetype": "text/x-python",
   "name": "python",
   "nbconvert_exporter": "python",
   "pygments_lexer": "ipython3",
   "version": "3.8.8"
  },
  "orig_nbformat": 4
 },
 "nbformat": 4,
 "nbformat_minor": 2
}
