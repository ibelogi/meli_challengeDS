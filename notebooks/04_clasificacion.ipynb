{
 "cells": [
  {
   "cell_type": "markdown",
   "metadata": {},
   "source": [
    "# 4. CLASIFICACION DE SELLERS"
   ]
  },
  {
   "cell_type": "markdown",
   "metadata": {},
   "source": [
    "### Se propondrán 2 formas de clasificar a los sellers, se compararán los resultados y se optará por una solución"
   ]
  },
  {
   "cell_type": "code",
   "execution_count": 446,
   "metadata": {},
   "outputs": [],
   "source": [
    "# Importamos las librerias\n",
    "import pandas as pd"
   ]
  },
  {
   "cell_type": "code",
   "execution_count": 447,
   "metadata": {},
   "outputs": [],
   "source": [
    "# Importamos los datos\n",
    "data = pd.read_csv('../data/20220318_dataset_sellers.csv',index_col=None)"
   ]
  },
  {
   "cell_type": "markdown",
   "metadata": {},
   "source": [
    "#### Metricas Seleccionadas\n",
    "- cancellations_rate\n",
    "- claims_rate\n",
    "- delayed_handling_time_rate\n",
    "- avg_ticket\n",
    "- antiquity_ages\n"
   ]
  },
  {
   "cell_type": "code",
   "execution_count": 448,
   "metadata": {},
   "outputs": [
    {
     "data": {
      "text/plain": [
       "Index(['Unnamed: 0', 'categoria_MLA', 'seller', 'fecha_registro',\n",
       "       'power_seller_status', 'level_id', 'cancellations_value',\n",
       "       'cancellations_rate', 'claims_value', 'claims_rate',\n",
       "       'delayed_handling_time_value', 'delayed_handling_time_rate',\n",
       "       'sales_value', 'transactions_total_historic',\n",
       "       'transactions_canceled_historic', 'transactions_completed_historic',\n",
       "       'rating_negative', 'rating_neutral', 'rating_positive', 'state', 'city',\n",
       "       'total_sales_amount', 'total_items_sold', 'total_profits_amount',\n",
       "       'avg_ticket', 'categoria_name', 'register_date', 'antiquity_ages',\n",
       "       'transactions_canceled_historic_rate'],\n",
       "      dtype='object')"
      ]
     },
     "execution_count": 448,
     "metadata": {},
     "output_type": "execute_result"
    }
   ],
   "source": [
    "data.columns"
   ]
  },
  {
   "cell_type": "code",
   "execution_count": 449,
   "metadata": {},
   "outputs": [],
   "source": [
    "# Filtro las metricas que se utilizarán en el análisis\n",
    "data = data[['cancellations_rate','claims_rate','delayed_handling_time_rate','avg_ticket','antiquity_ages']]\n",
    "data = data.fillna(0)"
   ]
  },
  {
   "cell_type": "code",
   "execution_count": 450,
   "metadata": {},
   "outputs": [
    {
     "data": {
      "text/html": [
       "<div>\n",
       "<style scoped>\n",
       "    .dataframe tbody tr th:only-of-type {\n",
       "        vertical-align: middle;\n",
       "    }\n",
       "\n",
       "    .dataframe tbody tr th {\n",
       "        vertical-align: top;\n",
       "    }\n",
       "\n",
       "    .dataframe thead th {\n",
       "        text-align: right;\n",
       "    }\n",
       "</style>\n",
       "<table border=\"1\" class=\"dataframe\">\n",
       "  <thead>\n",
       "    <tr style=\"text-align: right;\">\n",
       "      <th></th>\n",
       "      <th>cancellations_rate</th>\n",
       "      <th>claims_rate</th>\n",
       "      <th>delayed_handling_time_rate</th>\n",
       "      <th>avg_ticket</th>\n",
       "      <th>antiquity_ages</th>\n",
       "    </tr>\n",
       "  </thead>\n",
       "  <tbody>\n",
       "    <tr>\n",
       "      <th>count</th>\n",
       "      <td>5399.000000</td>\n",
       "      <td>5399.000000</td>\n",
       "      <td>5399.000000</td>\n",
       "      <td>5399.000000</td>\n",
       "      <td>5399.000000</td>\n",
       "    </tr>\n",
       "    <tr>\n",
       "      <th>mean</th>\n",
       "      <td>0.002370</td>\n",
       "      <td>0.005494</td>\n",
       "      <td>0.024621</td>\n",
       "      <td>10112.491208</td>\n",
       "      <td>7.406001</td>\n",
       "    </tr>\n",
       "    <tr>\n",
       "      <th>std</th>\n",
       "      <td>0.004146</td>\n",
       "      <td>0.005859</td>\n",
       "      <td>0.032194</td>\n",
       "      <td>23528.152190</td>\n",
       "      <td>5.334253</td>\n",
       "    </tr>\n",
       "    <tr>\n",
       "      <th>min</th>\n",
       "      <td>0.000000</td>\n",
       "      <td>0.000000</td>\n",
       "      <td>0.000000</td>\n",
       "      <td>0.000000</td>\n",
       "      <td>0.000000</td>\n",
       "    </tr>\n",
       "    <tr>\n",
       "      <th>25%</th>\n",
       "      <td>0.000000</td>\n",
       "      <td>0.000000</td>\n",
       "      <td>0.002300</td>\n",
       "      <td>1574.030000</td>\n",
       "      <td>3.000000</td>\n",
       "    </tr>\n",
       "    <tr>\n",
       "      <th>50%</th>\n",
       "      <td>0.000000</td>\n",
       "      <td>0.004300</td>\n",
       "      <td>0.011600</td>\n",
       "      <td>3507.798046</td>\n",
       "      <td>6.000000</td>\n",
       "    </tr>\n",
       "    <tr>\n",
       "      <th>75%</th>\n",
       "      <td>0.003600</td>\n",
       "      <td>0.009500</td>\n",
       "      <td>0.034250</td>\n",
       "      <td>8305.540515</td>\n",
       "      <td>11.000000</td>\n",
       "    </tr>\n",
       "    <tr>\n",
       "      <th>max</th>\n",
       "      <td>0.036200</td>\n",
       "      <td>0.039500</td>\n",
       "      <td>0.210500</td>\n",
       "      <td>520000.000000</td>\n",
       "      <td>22.000000</td>\n",
       "    </tr>\n",
       "  </tbody>\n",
       "</table>\n",
       "</div>"
      ],
      "text/plain": [
       "      cancellations_rate  claims_rate delayed_handling_time_rate  \\\n",
       "count        5399.000000  5399.000000                5399.000000   \n",
       "mean            0.002370     0.005494                   0.024621   \n",
       "std             0.004146     0.005859                   0.032194   \n",
       "min             0.000000     0.000000                   0.000000   \n",
       "25%             0.000000     0.000000                   0.002300   \n",
       "50%             0.000000     0.004300                   0.011600   \n",
       "75%             0.003600     0.009500                   0.034250   \n",
       "max             0.036200     0.039500                   0.210500   \n",
       "\n",
       "          avg_ticket antiquity_ages  \n",
       "count    5399.000000    5399.000000  \n",
       "mean    10112.491208       7.406001  \n",
       "std     23528.152190       5.334253  \n",
       "min         0.000000       0.000000  \n",
       "25%      1574.030000       3.000000  \n",
       "50%      3507.798046       6.000000  \n",
       "75%      8305.540515      11.000000  \n",
       "max    520000.000000      22.000000  "
      ]
     },
     "execution_count": 450,
     "metadata": {},
     "output_type": "execute_result"
    }
   ],
   "source": [
    "estadisticos = data.describe().apply(lambda y: y.apply(lambda x: format(x, 'f')))\n",
    "estadisticos"
   ]
  },
  {
   "cell_type": "markdown",
   "metadata": {},
   "source": [
    "### 3. a. CLASIFICACIÓN SEGÚN REGLAS DE NEGOCIO (EN CONSTRUCCION)"
   ]
  },
  {
   "cell_type": "markdown",
   "metadata": {},
   "source": [
    "#### Para esta solucion se aplicarán umbrales en base a los percentiles de cada variable de interes\n",
    "Se separarán los sellers en 3 grupos: \n",
    "1. **Perfil Alto:** 0 en variables perfil y por encima de la mediana en relevancia\n",
    "2. **Perfil Medio-Alto:** Por encima de la mediana en perfil y por encima de la mediana en relevancia\n",
    "3. **Perfil Medio:** Por debajo de la mediana en perfil y por debajo de la mediana en relevancia\n"
   ]
  },
  {
   "cell_type": "code",
   "execution_count": 451,
   "metadata": {},
   "outputs": [],
   "source": [
    "data.loc[data.cancellations_rate == 0, \"cancelations\"] = 1\n",
    "data.loc[data.cancellations_rate > 0, \"cancelations\"] = -1"
   ]
  },
  {
   "cell_type": "code",
   "execution_count": 452,
   "metadata": {},
   "outputs": [],
   "source": [
    "data.loc[data.claims_rate == 0, \"claims\"] = 1\n",
    "data.loc[data.claims_rate > 0, \"claims\"] = -1"
   ]
  },
  {
   "cell_type": "code",
   "execution_count": 453,
   "metadata": {},
   "outputs": [],
   "source": [
    "data.loc[data.delayed_handling_time_rate == 0, \"delays\"] = 1\n",
    "data.loc[data.delayed_handling_time_rate > 0, \"delays\"] = -1"
   ]
  },
  {
   "cell_type": "code",
   "execution_count": 454,
   "metadata": {},
   "outputs": [],
   "source": [
    "data.loc[data.avg_ticket <= float(estadisticos.avg_ticket['50%']), \"ticket\"] = 0\n",
    "data.loc[data.avg_ticket > float(estadisticos.avg_ticket['50%']), \"ticket\"] = 1"
   ]
  },
  {
   "cell_type": "code",
   "execution_count": 455,
   "metadata": {},
   "outputs": [],
   "source": [
    "data.loc[data.antiquity_ages <= float(estadisticos.antiquity_ages['50%']), \"antiguedad\"] = 0\n",
    "data.loc[data.antiquity_ages > float(estadisticos.antiquity_ages['50%']), \"antiguedad\"] = 1"
   ]
  },
  {
   "cell_type": "code",
   "execution_count": 456,
   "metadata": {},
   "outputs": [],
   "source": [
    "data['scoring'] = data[['cancelations','claims','delays','ticket','antiguedad']].sum(axis=1)"
   ]
  },
  {
   "cell_type": "code",
   "execution_count": 457,
   "metadata": {},
   "outputs": [
    {
     "data": {
      "text/plain": [
       "scoring\n",
       "-2.0    922\n",
       "-1.0    886\n",
       " 0.0    713\n",
       " 2.0    698\n",
       " 1.0    635\n",
       " 3.0    498\n",
       "-3.0    489\n",
       " 4.0    371\n",
       " 5.0    187\n",
       "dtype: int64"
      ]
     },
     "execution_count": 457,
     "metadata": {},
     "output_type": "execute_result"
    }
   ],
   "source": [
    "data.value_counts('scoring')"
   ]
  },
  {
   "cell_type": "code",
   "execution_count": 462,
   "metadata": {},
   "outputs": [],
   "source": [
    "data.loc[data.scoring <= -1, 'perfil'] = \"Medio\"\n",
    "data.loc[(data.scoring < 2) & (data.scoring >= -1), 'perfil'] = \"Medio-Alto\"\n",
    "data.loc[(data.scoring >= 2), 'perfil'] = \"Alto\""
   ]
  },
  {
   "cell_type": "code",
   "execution_count": 463,
   "metadata": {},
   "outputs": [
    {
     "data": {
      "text/plain": [
       "perfil\n",
       "Medio-Alto    2234\n",
       "Alto          1754\n",
       "Medio         1411\n",
       "dtype: int64"
      ]
     },
     "execution_count": 463,
     "metadata": {},
     "output_type": "execute_result"
    }
   ],
   "source": [
    "data.value_counts('perfil')"
   ]
  },
  {
   "cell_type": "markdown",
   "metadata": {},
   "source": [
    "### 3.b Clasificacion con algoritmo K-MEANS"
   ]
  },
  {
   "cell_type": "code",
   "execution_count": 392,
   "metadata": {},
   "outputs": [],
   "source": [
    "import pandas as pd\n",
    "import numpy as np\n",
    "import matplotlib.pyplot as plt\n",
    "from sklearn.cluster import KMeans\n",
    "import seaborn as sns"
   ]
  },
  {
   "cell_type": "code",
   "execution_count": 393,
   "metadata": {},
   "outputs": [],
   "source": [
    "data = data[['cancellations_rate','claims_rate','delayed_handling_time_rate','avg_ticket','antiquity_ages']]\n",
    "data = data.fillna(0)"
   ]
  },
  {
   "cell_type": "code",
   "execution_count": 394,
   "metadata": {},
   "outputs": [],
   "source": [
    "X = np.array(data)"
   ]
  },
  {
   "cell_type": "code",
   "execution_count": 395,
   "metadata": {},
   "outputs": [],
   "source": [
    "# estimo la curva de elbow para elegir la cantidad de k para el algoritmo, entre 1 y 10\n",
    "n_clu = range(1, 10)\n",
    "#calculo los clusters para cada valor de clusters\n",
    "kmeans = [KMeans(n_clusters=i) for i in n_clu]\n",
    "# calculo el score de los resultados\n",
    "score = [kmeans[i].fit(X).score(X) for i in range(len(kmeans))]"
   ]
  },
  {
   "cell_type": "code",
   "execution_count": 396,
   "metadata": {},
   "outputs": [
    {
     "data": {
      "image/png": "[encoded data removed]",
      "text/plain": [
       "<Figure size 432x288 with 1 Axes>"
      ]
     },
     "metadata": {
      "needs_background": "light"
     },
     "output_type": "display_data"
    }
   ],
   "source": [
    "# Presento la curva para elegir el valor K del algoritmo\n",
    "plt.plot(n_clu,score)\n",
    "plt.title('Curva de Elbow')\n",
    "plt.xlabel('Numero de clusters')\n",
    "plt.ylabel('Score')\n",
    "plt.show()"
   ]
  },
  {
   "cell_type": "markdown",
   "metadata": {},
   "source": [
    "##### La curva parece aplanarse en 4, se utilizará ese valor K, operativamente es un grupo interesante para focalizar acciones"
   ]
  },
  {
   "cell_type": "code",
   "execution_count": 397,
   "metadata": {},
   "outputs": [
    {
     "name": "stdout",
     "output_type": "stream",
     "text": [
      "[[2.34824262e-03 5.41773448e-03 2.42953404e-02 5.31132286e+03\n",
      "  7.38120104e+00]\n",
      " [2.65959596e-03 6.51338384e-03 2.83320707e-02 5.61307853e+04\n",
      "  7.78030303e+00]\n",
      " [2.10000000e-03 4.38750000e-03 3.09375000e-02 2.46853022e+05\n",
      "  6.37500000e+00]]\n"
     ]
    }
   ],
   "source": [
    "# calculamos el algoritmo k_means\n",
    "kmeans = KMeans(n_clusters=3,random_state=5).fit(X)\n",
    "centroids = kmeans.cluster_centers_\n",
    "# printeamos los centroides de los clusters\n",
    "print(centroids)"
   ]
  },
  {
   "cell_type": "code",
   "execution_count": 398,
   "metadata": {},
   "outputs": [],
   "source": [
    "# Calculamos los clusters para todos los datos\n",
    "labels = kmeans.predict(X)\n",
    "# etiquetamos los datos con el cluster asignado\n",
    "clusters=['1','2','3']\n",
    "asignar=[]\n",
    "for row in labels:\n",
    "    asignar.append(clusters[row])\n",
    "data['kmeans_cluster'] = asignar"
   ]
  },
  {
   "cell_type": "code",
   "execution_count": 399,
   "metadata": {},
   "outputs": [
    {
     "data": {
      "text/plain": [
       "kmeans_cluster\n",
       "1    4979\n",
       "2     396\n",
       "3      24\n",
       "dtype: int64"
      ]
     },
     "execution_count": 399,
     "metadata": {},
     "output_type": "execute_result"
    }
   ],
   "source": [
    "data.value_counts('kmeans_cluster')"
   ]
  },
  {
   "cell_type": "code",
   "execution_count": 400,
   "metadata": {},
   "outputs": [
    {
     "data": {
      "text/plain": [
       "<matplotlib.collections.PathCollection at 0x2a9b05180a0>"
      ]
     },
     "execution_count": 400,
     "metadata": {},
     "output_type": "execute_result"
    },
    {
     "data": {
      "image/png": "[encoded data removed]",
      "text/plain": [
       "<Figure size 432x288 with 1 Axes>"
      ]
     },
     "metadata": {
      "needs_background": "light"
     },
     "output_type": "display_data"
    }
   ],
   "source": [
    "plt.scatter(x=data['kmeans_cluster'],y=data[\"cancellations_rate\"])"
   ]
  },
  {
   "cell_type": "code",
   "execution_count": 401,
   "metadata": {},
   "outputs": [
    {
     "data": {
      "text/plain": [
       "<matplotlib.collections.PathCollection at 0x2a9b055ffa0>"
      ]
     },
     "execution_count": 401,
     "metadata": {},
     "output_type": "execute_result"
    },
    {
     "data": {
      "image/png": "[encoded data removed]",
      "text/plain": [
       "<Figure size 432x288 with 1 Axes>"
      ]
     },
     "metadata": {
      "needs_background": "light"
     },
     "output_type": "display_data"
    }
   ],
   "source": [
    "plt.scatter(x=data['kmeans_cluster'],y=data[\"claims_rate\"])"
   ]
  },
  {
   "cell_type": "code",
   "execution_count": 402,
   "metadata": {},
   "outputs": [
    {
     "data": {
      "text/plain": [
       "<matplotlib.collections.PathCollection at 0x2a9b05b1f70>"
      ]
     },
     "execution_count": 402,
     "metadata": {},
     "output_type": "execute_result"
    },
    {
     "data": {
      "image/png": "[encoded data removed]",
      "text/plain": [
       "<Figure size 432x288 with 1 Axes>"
      ]
     },
     "metadata": {
      "needs_background": "light"
     },
     "output_type": "display_data"
    }
   ],
   "source": [
    "plt.scatter(x=data['kmeans_cluster'],y=data[\"delayed_handling_time_rate\"])"
   ]
  },
  {
   "cell_type": "code",
   "execution_count": 403,
   "metadata": {},
   "outputs": [
    {
     "data": {
      "text/plain": [
       "<matplotlib.collections.PathCollection at 0x2a9b05c9f70>"
      ]
     },
     "execution_count": 403,
     "metadata": {},
     "output_type": "execute_result"
    },
    {
     "data": {
      "image/png": "[encoded data removed]",
      "text/plain": [
       "<Figure size 432x288 with 1 Axes>"
      ]
     },
     "metadata": {
      "needs_background": "light"
     },
     "output_type": "display_data"
    }
   ],
   "source": [
    "plt.scatter(x=data['kmeans_cluster'],y=data[\"avg_ticket\"])"
   ]
  },
  {
   "cell_type": "code",
   "execution_count": 404,
   "metadata": {},
   "outputs": [
    {
     "data": {
      "text/plain": [
       "<matplotlib.collections.PathCollection at 0x2a9b06532e0>"
      ]
     },
     "execution_count": 404,
     "metadata": {},
     "output_type": "execute_result"
    },
    {
     "data": {
      "image/png": "[encoded data removed]",
      "text/plain": [
       "<Figure size 432x288 with 1 Axes>"
      ]
     },
     "metadata": {
      "needs_background": "light"
     },
     "output_type": "display_data"
    }
   ],
   "source": [
    "plt.scatter(x=data['kmeans_cluster'],y=data[\"antiquity_ages\"])"
   ]
  }
 ],
 "metadata": {
  "interpreter": {
   "hash": "24026d3aba629fcef83117a8818ef44727589b884fc8c219cbb87d5bf3da2505"
  },
  "kernelspec": {
   "display_name": "Python 3.8.8 ('base')",
   "language": "python",
   "name": "python3"
  },
  "language_info": {
   "codemirror_mode": {
    "name": "ipython",
    "version": 3
   },
   "file_extension": ".py",
   "mimetype": "text/x-python",
   "name": "python",
   "nbconvert_exporter": "python",
   "pygments_lexer": "ipython3",
   "version": "3.8.8"
  },
  "orig_nbformat": 4
 },
 "nbformat": 4,
 "nbformat_minor": 2
}
