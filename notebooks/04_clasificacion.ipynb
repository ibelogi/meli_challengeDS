{
 "cells": [
  {
   "cell_type": "markdown",
   "metadata": {},
   "source": [
    "3. CLASIFICACION DE SELLERS"
   ]
  },
  {
   "cell_type": "markdown",
   "metadata": {},
   "source": [
    "### Se propondrán 3 formas de clasificar a los sellers, se compararán los resultados y se optará por una solución"
   ]
  },
  {
   "cell_type": "code",
   "execution_count": 1,
   "metadata": {},
   "outputs": [],
   "source": [
    "# Importamos las librerias\n",
    "import pandas as pd"
   ]
  },
  {
   "cell_type": "code",
   "execution_count": 132,
   "metadata": {},
   "outputs": [],
   "source": [
    "# Importamos los datos\n",
    "data = pd.read_csv('../data/20220318_dataset_sellers.csv',index_col=None)"
   ]
  },
  {
   "cell_type": "code",
   "execution_count": 136,
   "metadata": {},
   "outputs": [],
   "source": [
    "# Seleccionaremos las variables que se utilizarán para clasificar los sellers\n",
    "# dado que hay variables en frecuencia  y porcentaje, se optará por las que representan el porcentaje\n",
    "# Se quitarán del análisis las variables referidas a la categoria del cliente, estado de vendedor actual y termometro\n",
    "data = data[['antiquity_ages', 'cancellations_rate', \n",
    "       'claims_rate', 'delayed_handling_time_rate', 'sales_value',\n",
    "       'transactions_canceled_historic_rate',\n",
    "       'rating_positive', 'total_sales_amount', 'total_items_sold',\n",
    "       'total_profits_amount']]"
   ]
  },
  {
   "cell_type": "code",
   "execution_count": 137,
   "metadata": {},
   "outputs": [
    {
     "data": {
      "text/html": [
       "<div>\n",
       "<style scoped>\n",
       "    .dataframe tbody tr th:only-of-type {\n",
       "        vertical-align: middle;\n",
       "    }\n",
       "\n",
       "    .dataframe tbody tr th {\n",
       "        vertical-align: top;\n",
       "    }\n",
       "\n",
       "    .dataframe thead th {\n",
       "        text-align: right;\n",
       "    }\n",
       "</style>\n",
       "<table border=\"1\" class=\"dataframe\">\n",
       "  <thead>\n",
       "    <tr style=\"text-align: right;\">\n",
       "      <th></th>\n",
       "      <th>antiquity_ages</th>\n",
       "      <th>cancellations_rate</th>\n",
       "      <th>claims_rate</th>\n",
       "      <th>delayed_handling_time_rate</th>\n",
       "      <th>sales_value</th>\n",
       "      <th>transactions_canceled_historic_rate</th>\n",
       "      <th>rating_positive</th>\n",
       "      <th>total_sales_amount</th>\n",
       "      <th>total_items_sold</th>\n",
       "      <th>total_profits_amount</th>\n",
       "    </tr>\n",
       "  </thead>\n",
       "  <tbody>\n",
       "    <tr>\n",
       "      <th>count</th>\n",
       "      <td>5399.000000</td>\n",
       "      <td>5399.000000</td>\n",
       "      <td>5399.000000</td>\n",
       "      <td>5399.000000</td>\n",
       "      <td>5399.000000</td>\n",
       "      <td>5399.000000</td>\n",
       "      <td>5399.000000</td>\n",
       "      <td>5399.000000</td>\n",
       "      <td>5399.000000</td>\n",
       "      <td>5399.000000</td>\n",
       "    </tr>\n",
       "    <tr>\n",
       "      <th>mean</th>\n",
       "      <td>7.399889</td>\n",
       "      <td>0.002370</td>\n",
       "      <td>0.005494</td>\n",
       "      <td>0.024621</td>\n",
       "      <td>2489.728839</td>\n",
       "      <td>0.051232</td>\n",
       "      <td>0.966783</td>\n",
       "      <td>10174952.166861</td>\n",
       "      <td>2256.905909</td>\n",
       "      <td>2034990.433340</td>\n",
       "    </tr>\n",
       "    <tr>\n",
       "      <th>std</th>\n",
       "      <td>5.336329</td>\n",
       "      <td>0.004146</td>\n",
       "      <td>0.005859</td>\n",
       "      <td>0.032194</td>\n",
       "      <td>6538.907571</td>\n",
       "      <td>0.027795</td>\n",
       "      <td>0.051218</td>\n",
       "      <td>60504896.770264</td>\n",
       "      <td>10817.642740</td>\n",
       "      <td>12100979.355539</td>\n",
       "    </tr>\n",
       "    <tr>\n",
       "      <th>min</th>\n",
       "      <td>0.000000</td>\n",
       "      <td>0.000000</td>\n",
       "      <td>0.000000</td>\n",
       "      <td>0.000000</td>\n",
       "      <td>1.000000</td>\n",
       "      <td>0.000000</td>\n",
       "      <td>0.000000</td>\n",
       "      <td>0.000000</td>\n",
       "      <td>0.000000</td>\n",
       "      <td>0.000000</td>\n",
       "    </tr>\n",
       "    <tr>\n",
       "      <th>25%</th>\n",
       "      <td>3.000000</td>\n",
       "      <td>0.000000</td>\n",
       "      <td>0.000000</td>\n",
       "      <td>0.002300</td>\n",
       "      <td>327.000000</td>\n",
       "      <td>0.035292</td>\n",
       "      <td>0.960000</td>\n",
       "      <td>289120.910000</td>\n",
       "      <td>68.000000</td>\n",
       "      <td>57824.200000</td>\n",
       "    </tr>\n",
       "    <tr>\n",
       "      <th>50%</th>\n",
       "      <td>6.000000</td>\n",
       "      <td>0.000000</td>\n",
       "      <td>0.004300</td>\n",
       "      <td>0.011600</td>\n",
       "      <td>885.000000</td>\n",
       "      <td>0.046494</td>\n",
       "      <td>0.980000</td>\n",
       "      <td>1249750.000000</td>\n",
       "      <td>450.000000</td>\n",
       "      <td>249950.000000</td>\n",
       "    </tr>\n",
       "    <tr>\n",
       "      <th>75%</th>\n",
       "      <td>11.000000</td>\n",
       "      <td>0.003600</td>\n",
       "      <td>0.009500</td>\n",
       "      <td>0.034250</td>\n",
       "      <td>2427.000000</td>\n",
       "      <td>0.060843</td>\n",
       "      <td>0.990000</td>\n",
       "      <td>4883041.000000</td>\n",
       "      <td>1025.000000</td>\n",
       "      <td>976608.200000</td>\n",
       "    </tr>\n",
       "    <tr>\n",
       "      <th>max</th>\n",
       "      <td>22.000000</td>\n",
       "      <td>0.036200</td>\n",
       "      <td>0.039500</td>\n",
       "      <td>0.210500</td>\n",
       "      <td>213079.000000</td>\n",
       "      <td>0.900000</td>\n",
       "      <td>1.000000</td>\n",
       "      <td>2766589430.000000</td>\n",
       "      <td>424622.000000</td>\n",
       "      <td>553317886.000000</td>\n",
       "    </tr>\n",
       "  </tbody>\n",
       "</table>\n",
       "</div>"
      ],
      "text/plain": [
       "      antiquity_ages cancellations_rate  claims_rate  \\\n",
       "count    5399.000000        5399.000000  5399.000000   \n",
       "mean        7.399889           0.002370     0.005494   \n",
       "std         5.336329           0.004146     0.005859   \n",
       "min         0.000000           0.000000     0.000000   \n",
       "25%         3.000000           0.000000     0.000000   \n",
       "50%         6.000000           0.000000     0.004300   \n",
       "75%        11.000000           0.003600     0.009500   \n",
       "max        22.000000           0.036200     0.039500   \n",
       "\n",
       "      delayed_handling_time_rate    sales_value  \\\n",
       "count                5399.000000    5399.000000   \n",
       "mean                    0.024621    2489.728839   \n",
       "std                     0.032194    6538.907571   \n",
       "min                     0.000000       1.000000   \n",
       "25%                     0.002300     327.000000   \n",
       "50%                     0.011600     885.000000   \n",
       "75%                     0.034250    2427.000000   \n",
       "max                     0.210500  213079.000000   \n",
       "\n",
       "      transactions_canceled_historic_rate rating_positive total_sales_amount  \\\n",
       "count                         5399.000000     5399.000000        5399.000000   \n",
       "mean                             0.051232        0.966783    10174952.166861   \n",
       "std                              0.027795        0.051218    60504896.770264   \n",
       "min                              0.000000        0.000000           0.000000   \n",
       "25%                              0.035292        0.960000      289120.910000   \n",
       "50%                              0.046494        0.980000     1249750.000000   \n",
       "75%                              0.060843        0.990000     4883041.000000   \n",
       "max                              0.900000        1.000000  2766589430.000000   \n",
       "\n",
       "      total_items_sold total_profits_amount  \n",
       "count      5399.000000          5399.000000  \n",
       "mean       2256.905909       2034990.433340  \n",
       "std       10817.642740      12100979.355539  \n",
       "min           0.000000             0.000000  \n",
       "25%          68.000000         57824.200000  \n",
       "50%         450.000000        249950.000000  \n",
       "75%        1025.000000        976608.200000  \n",
       "max      424622.000000     553317886.000000  "
      ]
     },
     "execution_count": 137,
     "metadata": {},
     "output_type": "execute_result"
    }
   ],
   "source": [
    "estadisticos = data.describe().apply(lambda y: y.apply(lambda x: format(x, 'f')))\n",
    "estadisticos"
   ]
  },
  {
   "cell_type": "markdown",
   "metadata": {},
   "source": [
    "### 3. a. Clasificacion en base a percentiles (EN CONSTRUCCION)"
   ]
  },
  {
   "cell_type": "markdown",
   "metadata": {},
   "source": [
    "#### Para esta solucion se aplicarán umbrales en base a los percentiles de cada variable de interes\n",
    "Se separarán los sellers en 3 grupos: \n",
    "1. Muy Alto = todos los umbrales positivos \n",
    "2. Alto\n",
    "3. Medio"
   ]
  },
  {
   "cell_type": "markdown",
   "metadata": {},
   "source": [
    "#### Metricas positivas\n",
    "- rating_positive\n",
    "- total_sales_amount\n",
    "- total_items_sold\n",
    "- total_profits_amount"
   ]
  },
  {
   "cell_type": "markdown",
   "metadata": {},
   "source": [
    "#### Metricas negativas\n",
    "- cancellations_rate\n",
    "- claims_rate\n",
    "- delayed_handling_time_rate\n",
    "- transactions_canceled_historic_rate"
   ]
  },
  {
   "cell_type": "code",
   "execution_count": 109,
   "metadata": {},
   "outputs": [
    {
     "ename": "AttributeError",
     "evalue": "'DataFrame' object has no attribute 'sales_value'",
     "output_type": "error",
     "traceback": [
      "\u001b[1;31m---------------------------------------------------------------------------\u001b[0m",
      "\u001b[1;31mAttributeError\u001b[0m                            Traceback (most recent call last)",
      "\u001b[1;32m<ipython-input-109-90544e2cd512>\u001b[0m in \u001b[0;36m<module>\u001b[1;34m\u001b[0m\n\u001b[0;32m      9\u001b[0m                     \u001b[1;33m&\u001b[0m\u001b[1;33m\u001b[0m\u001b[1;33m\u001b[0m\u001b[0m\n\u001b[0;32m     10\u001b[0m                     \u001b[1;31m# positivo\u001b[0m\u001b[1;33m\u001b[0m\u001b[1;33m\u001b[0m\u001b[1;33m\u001b[0m\u001b[0m\n\u001b[1;32m---> 11\u001b[1;33m                     ((data.sales_value >= float(estadisticos.sales_value['75%']) ) | # Ventas igual o mayores al Q1\n\u001b[0m\u001b[0;32m     12\u001b[0m                     \u001b[1;33m(\u001b[0m\u001b[0mdata\u001b[0m\u001b[1;33m.\u001b[0m\u001b[0mrating_positive\u001b[0m \u001b[1;33m>=\u001b[0m \u001b[0mfloat\u001b[0m\u001b[1;33m(\u001b[0m\u001b[0mestadisticos\u001b[0m\u001b[1;33m.\u001b[0m\u001b[0mrating_positive\u001b[0m\u001b[1;33m[\u001b[0m\u001b[1;34m'75%'\u001b[0m\u001b[1;33m]\u001b[0m\u001b[1;33m)\u001b[0m \u001b[1;33m)\u001b[0m \u001b[1;33m|\u001b[0m \u001b[1;31m# Ranking positivo mayor o igual al Q1\u001b[0m\u001b[1;33m\u001b[0m\u001b[1;33m\u001b[0m\u001b[0m\n\u001b[0;32m     13\u001b[0m                     \u001b[1;33m(\u001b[0m\u001b[0mdata\u001b[0m\u001b[1;33m.\u001b[0m\u001b[0mtotal_sales_amount\u001b[0m \u001b[1;33m>=\u001b[0m \u001b[0mfloat\u001b[0m\u001b[1;33m(\u001b[0m\u001b[0mestadisticos\u001b[0m\u001b[1;33m.\u001b[0m\u001b[0mtotal_sales_amount\u001b[0m\u001b[1;33m[\u001b[0m\u001b[1;34m'75%'\u001b[0m\u001b[1;33m]\u001b[0m\u001b[1;33m)\u001b[0m \u001b[1;33m)\u001b[0m \u001b[1;33m|\u001b[0m \u001b[1;31m# Total de ventas mayor o igual al Q1\u001b[0m\u001b[1;33m\u001b[0m\u001b[1;33m\u001b[0m\u001b[0m\n",
      "\u001b[1;32m~\\anaconda3\\lib\\site-packages\\pandas\\core\\generic.py\u001b[0m in \u001b[0;36m__getattr__\u001b[1;34m(self, name)\u001b[0m\n\u001b[0;32m   5463\u001b[0m             \u001b[1;32mif\u001b[0m \u001b[0mself\u001b[0m\u001b[1;33m.\u001b[0m\u001b[0m_info_axis\u001b[0m\u001b[1;33m.\u001b[0m\u001b[0m_can_hold_identifiers_and_holds_name\u001b[0m\u001b[1;33m(\u001b[0m\u001b[0mname\u001b[0m\u001b[1;33m)\u001b[0m\u001b[1;33m:\u001b[0m\u001b[1;33m\u001b[0m\u001b[1;33m\u001b[0m\u001b[0m\n\u001b[0;32m   5464\u001b[0m                 \u001b[1;32mreturn\u001b[0m \u001b[0mself\u001b[0m\u001b[1;33m[\u001b[0m\u001b[0mname\u001b[0m\u001b[1;33m]\u001b[0m\u001b[1;33m\u001b[0m\u001b[1;33m\u001b[0m\u001b[0m\n\u001b[1;32m-> 5465\u001b[1;33m             \u001b[1;32mreturn\u001b[0m \u001b[0mobject\u001b[0m\u001b[1;33m.\u001b[0m\u001b[0m__getattribute__\u001b[0m\u001b[1;33m(\u001b[0m\u001b[0mself\u001b[0m\u001b[1;33m,\u001b[0m \u001b[0mname\u001b[0m\u001b[1;33m)\u001b[0m\u001b[1;33m\u001b[0m\u001b[1;33m\u001b[0m\u001b[0m\n\u001b[0m\u001b[0;32m   5466\u001b[0m \u001b[1;33m\u001b[0m\u001b[0m\n\u001b[0;32m   5467\u001b[0m     \u001b[1;32mdef\u001b[0m \u001b[0m__setattr__\u001b[0m\u001b[1;33m(\u001b[0m\u001b[0mself\u001b[0m\u001b[1;33m,\u001b[0m \u001b[0mname\u001b[0m\u001b[1;33m:\u001b[0m \u001b[0mstr\u001b[0m\u001b[1;33m,\u001b[0m \u001b[0mvalue\u001b[0m\u001b[1;33m)\u001b[0m \u001b[1;33m->\u001b[0m \u001b[1;32mNone\u001b[0m\u001b[1;33m:\u001b[0m\u001b[1;33m\u001b[0m\u001b[1;33m\u001b[0m\u001b[0m\n",
      "\u001b[1;31mAttributeError\u001b[0m: 'DataFrame' object has no attribute 'sales_value'"
     ]
    }
   ],
   "source": [
    "# Definimos el grupo Muy Alto,\n",
    "\n",
    "sellers_MA = data.loc[\n",
    "                    # negativo\n",
    "                    ((data.cancellations_rate <= float(estadisticos.cancellations_rate['25%']) ) | # Cancelaciones en los últimos 60 días menor o igual a q3\n",
    "                    (data.claims_rate <= float(estadisticos.claims_rate['25%']) ) | # reclamos en los últimos 60 días menor o igual a q3\n",
    "                    (data.delayed_handling_time_rate <= float(estadisticos.delayed_handling_time_rate['25%']) ) | # demoras en los últimos 60 días menor o igual a q3\n",
    "                    (data.transactions_canceled_historic_rate <= float(estadisticos.transactions_canceled_historic_rate['25%']) ) ) # Cancelaciones historicas igual o menores a Q3\n",
    "                    & \n",
    "                    # positivo\n",
    "                    ((data.sales_value >= float(estadisticos.sales_value['75%']) ) | # Ventas igual o mayores al Q1\n",
    "                    (data.rating_positive >= float(estadisticos.rating_positive['75%']) ) | # Ranking positivo mayor o igual al Q1\n",
    "                    (data.total_sales_amount >= float(estadisticos.total_sales_amount['75%']) ) | # Total de ventas mayor o igual al Q1\n",
    "                    (data.total_items_sold >= float(estadisticos.total_items_sold['75%']) ) | # Total de items vendidos mayor o igual al Q1  \n",
    "                    (data.total_profits_amount >= float(estadisticos.total_profits_amount['75%']))) # Total de ganancias obtenidasmayor o igual al Q1\n",
    "                    ].reset_index(drop=True)\n",
    "len(sellers_MA)"
   ]
  },
  {
   "cell_type": "code",
   "execution_count": null,
   "metadata": {},
   "outputs": [
    {
     "data": {
      "text/html": [
       "<div>\n",
       "<style scoped>\n",
       "    .dataframe tbody tr th:only-of-type {\n",
       "        vertical-align: middle;\n",
       "    }\n",
       "\n",
       "    .dataframe tbody tr th {\n",
       "        vertical-align: top;\n",
       "    }\n",
       "\n",
       "    .dataframe thead th {\n",
       "        text-align: right;\n",
       "    }\n",
       "</style>\n",
       "<table border=\"1\" class=\"dataframe\">\n",
       "  <thead>\n",
       "    <tr style=\"text-align: right;\">\n",
       "      <th></th>\n",
       "      <th>seller</th>\n",
       "      <th>state</th>\n",
       "      <th>city</th>\n",
       "      <th>antiquity_ages</th>\n",
       "      <th>cancellations_rate</th>\n",
       "      <th>claims_rate</th>\n",
       "      <th>delayed_handling_time_rate</th>\n",
       "      <th>sales_value</th>\n",
       "      <th>transactions_canceled_historic_rate</th>\n",
       "      <th>rating_negative</th>\n",
       "      <th>rating_neutral</th>\n",
       "      <th>rating_positive</th>\n",
       "      <th>total_sales_amount</th>\n",
       "      <th>total_items_sold</th>\n",
       "      <th>total_profits_amount</th>\n",
       "    </tr>\n",
       "  </thead>\n",
       "  <tbody>\n",
       "    <tr>\n",
       "      <th>3</th>\n",
       "      <td>435859328</td>\n",
       "      <td>Santa Fe</td>\n",
       "      <td>Santa Fe</td>\n",
       "      <td>2</td>\n",
       "      <td>0.0000</td>\n",
       "      <td>0.0026</td>\n",
       "      <td>0.0030</td>\n",
       "      <td>3604</td>\n",
       "      <td>0.047037</td>\n",
       "      <td>0.01</td>\n",
       "      <td>0.01</td>\n",
       "      <td>0.98</td>\n",
       "      <td>4302180.0</td>\n",
       "      <td>4000</td>\n",
       "      <td>860436.0</td>\n",
       "    </tr>\n",
       "    <tr>\n",
       "      <th>5</th>\n",
       "      <td>671347056</td>\n",
       "      <td>Buenos Aires</td>\n",
       "      <td>Villa Celina</td>\n",
       "      <td>1</td>\n",
       "      <td>0.0000</td>\n",
       "      <td>0.0049</td>\n",
       "      <td>0.0000</td>\n",
       "      <td>10149</td>\n",
       "      <td>0.057071</td>\n",
       "      <td>0.02</td>\n",
       "      <td>0.01</td>\n",
       "      <td>0.97</td>\n",
       "      <td>72666786.0</td>\n",
       "      <td>12224</td>\n",
       "      <td>14533357.2</td>\n",
       "    </tr>\n",
       "    <tr>\n",
       "      <th>6</th>\n",
       "      <td>24613228</td>\n",
       "      <td>Capital Federal</td>\n",
       "      <td>Paternal</td>\n",
       "      <td>12</td>\n",
       "      <td>0.0012</td>\n",
       "      <td>0.0048</td>\n",
       "      <td>0.0033</td>\n",
       "      <td>3202</td>\n",
       "      <td>0.028305</td>\n",
       "      <td>0.02</td>\n",
       "      <td>0.02</td>\n",
       "      <td>0.96</td>\n",
       "      <td>14446275.0</td>\n",
       "      <td>8125</td>\n",
       "      <td>2889255.0</td>\n",
       "    </tr>\n",
       "    <tr>\n",
       "      <th>7</th>\n",
       "      <td>9048891</td>\n",
       "      <td>Capital Federal</td>\n",
       "      <td>Villa Crespo</td>\n",
       "      <td>19</td>\n",
       "      <td>0.0000</td>\n",
       "      <td>0.0088</td>\n",
       "      <td>0.0054</td>\n",
       "      <td>2055</td>\n",
       "      <td>0.044715</td>\n",
       "      <td>0.02</td>\n",
       "      <td>0.03</td>\n",
       "      <td>0.95</td>\n",
       "      <td>2734975.0</td>\n",
       "      <td>1250</td>\n",
       "      <td>546995.0</td>\n",
       "    </tr>\n",
       "    <tr>\n",
       "      <th>10</th>\n",
       "      <td>122876289</td>\n",
       "      <td>Capital Federal</td>\n",
       "      <td>Caballito</td>\n",
       "      <td>9</td>\n",
       "      <td>0.0000</td>\n",
       "      <td>0.0000</td>\n",
       "      <td>0.0226</td>\n",
       "      <td>474</td>\n",
       "      <td>0.059459</td>\n",
       "      <td>0.00</td>\n",
       "      <td>0.00</td>\n",
       "      <td>1.00</td>\n",
       "      <td>1964589.0</td>\n",
       "      <td>111</td>\n",
       "      <td>392917.8</td>\n",
       "    </tr>\n",
       "    <tr>\n",
       "      <th>...</th>\n",
       "      <td>...</td>\n",
       "      <td>...</td>\n",
       "      <td>...</td>\n",
       "      <td>...</td>\n",
       "      <td>...</td>\n",
       "      <td>...</td>\n",
       "      <td>...</td>\n",
       "      <td>...</td>\n",
       "      <td>...</td>\n",
       "      <td>...</td>\n",
       "      <td>...</td>\n",
       "      <td>...</td>\n",
       "      <td>...</td>\n",
       "      <td>...</td>\n",
       "      <td>...</td>\n",
       "    </tr>\n",
       "    <tr>\n",
       "      <th>5393</th>\n",
       "      <td>661848292</td>\n",
       "      <td>Capital Federal</td>\n",
       "      <td>Lugano</td>\n",
       "      <td>1</td>\n",
       "      <td>0.0035</td>\n",
       "      <td>0.0056</td>\n",
       "      <td>0.0000</td>\n",
       "      <td>3283</td>\n",
       "      <td>0.022145</td>\n",
       "      <td>0.01</td>\n",
       "      <td>0.02</td>\n",
       "      <td>0.97</td>\n",
       "      <td>45000.0</td>\n",
       "      <td>250</td>\n",
       "      <td>9000.0</td>\n",
       "    </tr>\n",
       "    <tr>\n",
       "      <th>5394</th>\n",
       "      <td>142182090</td>\n",
       "      <td>Capital Federal</td>\n",
       "      <td>Villa Urquiza</td>\n",
       "      <td>8</td>\n",
       "      <td>0.0000</td>\n",
       "      <td>0.0000</td>\n",
       "      <td>0.0000</td>\n",
       "      <td>100</td>\n",
       "      <td>0.040404</td>\n",
       "      <td>0.00</td>\n",
       "      <td>0.00</td>\n",
       "      <td>1.00</td>\n",
       "      <td>84500.0</td>\n",
       "      <td>25</td>\n",
       "      <td>16900.0</td>\n",
       "    </tr>\n",
       "    <tr>\n",
       "      <th>5395</th>\n",
       "      <td>12442171</td>\n",
       "      <td>Capital Federal</td>\n",
       "      <td>Parque Chacabuco</td>\n",
       "      <td>10</td>\n",
       "      <td>0.0000</td>\n",
       "      <td>0.0000</td>\n",
       "      <td>0.0058</td>\n",
       "      <td>178</td>\n",
       "      <td>0.043728</td>\n",
       "      <td>0.00</td>\n",
       "      <td>0.01</td>\n",
       "      <td>0.99</td>\n",
       "      <td>484000.0</td>\n",
       "      <td>200</td>\n",
       "      <td>96800.0</td>\n",
       "    </tr>\n",
       "    <tr>\n",
       "      <th>5396</th>\n",
       "      <td>459092675</td>\n",
       "      <td>Capital Federal</td>\n",
       "      <td>Belgrano</td>\n",
       "      <td>2</td>\n",
       "      <td>0.0000</td>\n",
       "      <td>0.0000</td>\n",
       "      <td>0.0000</td>\n",
       "      <td>385</td>\n",
       "      <td>0.006711</td>\n",
       "      <td>0.00</td>\n",
       "      <td>0.00</td>\n",
       "      <td>1.00</td>\n",
       "      <td>172500.0</td>\n",
       "      <td>250</td>\n",
       "      <td>34500.0</td>\n",
       "    </tr>\n",
       "    <tr>\n",
       "      <th>5398</th>\n",
       "      <td>40157370</td>\n",
       "      <td>Capital Federal</td>\n",
       "      <td>Belgrano</td>\n",
       "      <td>14</td>\n",
       "      <td>0.0000</td>\n",
       "      <td>0.0000</td>\n",
       "      <td>0.0122</td>\n",
       "      <td>272</td>\n",
       "      <td>0.021459</td>\n",
       "      <td>0.00</td>\n",
       "      <td>0.01</td>\n",
       "      <td>0.99</td>\n",
       "      <td>690000.0</td>\n",
       "      <td>200</td>\n",
       "      <td>138000.0</td>\n",
       "    </tr>\n",
       "  </tbody>\n",
       "</table>\n",
       "<p>2432 rows × 15 columns</p>\n",
       "</div>"
      ],
      "text/plain": [
       "         seller            state              city  antiquity_ages  \\\n",
       "3     435859328         Santa Fe          Santa Fe               2   \n",
       "5     671347056     Buenos Aires      Villa Celina               1   \n",
       "6      24613228  Capital Federal          Paternal              12   \n",
       "7       9048891  Capital Federal      Villa Crespo              19   \n",
       "10    122876289  Capital Federal         Caballito               9   \n",
       "...         ...              ...               ...             ...   \n",
       "5393  661848292  Capital Federal            Lugano               1   \n",
       "5394  142182090  Capital Federal     Villa Urquiza               8   \n",
       "5395   12442171  Capital Federal  Parque Chacabuco              10   \n",
       "5396  459092675  Capital Federal          Belgrano               2   \n",
       "5398   40157370  Capital Federal          Belgrano              14   \n",
       "\n",
       "      cancellations_rate  claims_rate  delayed_handling_time_rate  \\\n",
       "3                 0.0000       0.0026                      0.0030   \n",
       "5                 0.0000       0.0049                      0.0000   \n",
       "6                 0.0012       0.0048                      0.0033   \n",
       "7                 0.0000       0.0088                      0.0054   \n",
       "10                0.0000       0.0000                      0.0226   \n",
       "...                  ...          ...                         ...   \n",
       "5393              0.0035       0.0056                      0.0000   \n",
       "5394              0.0000       0.0000                      0.0000   \n",
       "5395              0.0000       0.0000                      0.0058   \n",
       "5396              0.0000       0.0000                      0.0000   \n",
       "5398              0.0000       0.0000                      0.0122   \n",
       "\n",
       "      sales_value  transactions_canceled_historic_rate  rating_negative  \\\n",
       "3            3604                             0.047037             0.01   \n",
       "5           10149                             0.057071             0.02   \n",
       "6            3202                             0.028305             0.02   \n",
       "7            2055                             0.044715             0.02   \n",
       "10            474                             0.059459             0.00   \n",
       "...           ...                                  ...              ...   \n",
       "5393         3283                             0.022145             0.01   \n",
       "5394          100                             0.040404             0.00   \n",
       "5395          178                             0.043728             0.00   \n",
       "5396          385                             0.006711             0.00   \n",
       "5398          272                             0.021459             0.00   \n",
       "\n",
       "      rating_neutral  rating_positive  total_sales_amount  total_items_sold  \\\n",
       "3               0.01             0.98           4302180.0              4000   \n",
       "5               0.01             0.97          72666786.0             12224   \n",
       "6               0.02             0.96          14446275.0              8125   \n",
       "7               0.03             0.95           2734975.0              1250   \n",
       "10              0.00             1.00           1964589.0               111   \n",
       "...              ...              ...                 ...               ...   \n",
       "5393            0.02             0.97             45000.0               250   \n",
       "5394            0.00             1.00             84500.0                25   \n",
       "5395            0.01             0.99            484000.0               200   \n",
       "5396            0.00             1.00            172500.0               250   \n",
       "5398            0.01             0.99            690000.0               200   \n",
       "\n",
       "      total_profits_amount  \n",
       "3                 860436.0  \n",
       "5               14533357.2  \n",
       "6                2889255.0  \n",
       "7                 546995.0  \n",
       "10                392917.8  \n",
       "...                    ...  \n",
       "5393                9000.0  \n",
       "5394               16900.0  \n",
       "5395               96800.0  \n",
       "5396               34500.0  \n",
       "5398              138000.0  \n",
       "\n",
       "[2432 rows x 15 columns]"
      ]
     },
     "execution_count": 24,
     "metadata": {},
     "output_type": "execute_result"
    }
   ],
   "source": [
    "sellers_MA"
   ]
  },
  {
   "cell_type": "code",
   "execution_count": null,
   "metadata": {},
   "outputs": [
    {
     "data": {
      "text/plain": [
       "5024"
      ]
     },
     "execution_count": 28,
     "metadata": {},
     "output_type": "execute_result"
    }
   ],
   "source": [
    "sellers_M = data.loc[\n",
    "                    # negativo\n",
    "                    ((data.cancellations_rate > float(estadisticos.cancellations_rate['25%']) ) | # Cancelaciones en los últimos 60 días mayor a q3\n",
    "                    (data.claims_rate > float(estadisticos.claims_rate['25%']) ) | # reclamos en los últimos 60 días mayor a q3\n",
    "                    (data.delayed_handling_time_rate > float(estadisticos.delayed_handling_time_rate['25%']) ) | # demoras en los últimos 60 días mayor a q3\n",
    "                    (data.transactions_canceled_historic_rate > float(estadisticos.transactions_canceled_historic_rate['25%']) ) ) # Cancelaciones historicas mayores a Q3\n",
    "                    & \n",
    "                    # positivo\n",
    "                    ((data.sales_value < float(estadisticos.sales_value['75%']) ) | # Ventas menores al Q1\n",
    "                    (data.rating_positive < float(estadisticos.rating_positive['75%']) ) | # Ranking positivo  menores al Q1\n",
    "                    (data.total_sales_amount < float(estadisticos.total_sales_amount['75%']) ) | # Total de ventas  menores al Q1\n",
    "                    (data.total_items_sold < float(estadisticos.total_items_sold['75%']) ) | # Total de items vendidos  menores al Q1  \n",
    "                    (data.total_profits_amount < float(estadisticos.total_profits_amount['75%']))) # Total de ganancias obtenidas menores al Q1\n",
    "                    ].reset_index(drop=True)\n",
    "len(sellers_M)"
   ]
  },
  {
   "cell_type": "markdown",
   "metadata": {},
   "source": [
    "### 3.b Clasificacion con algoritmo K-MEANS"
   ]
  },
  {
   "cell_type": "code",
   "execution_count": 138,
   "metadata": {},
   "outputs": [],
   "source": [
    "import pandas as pd\n",
    "import numpy as np\n",
    "import matplotlib.pyplot as plt\n",
    "from sklearn.cluster import KMeans\n",
    "import seaborn as sns"
   ]
  },
  {
   "cell_type": "code",
   "execution_count": 139,
   "metadata": {},
   "outputs": [],
   "source": [
    "X = np.array(data)"
   ]
  },
  {
   "cell_type": "code",
   "execution_count": 140,
   "metadata": {},
   "outputs": [],
   "source": [
    "# estimo la curva de elbow para elegir la cantidad de k para el algoritmo, entre 1 y 10\n",
    "n_clu = range(1, 10)\n",
    "#calculo los clusters para cada valor de clusters\n",
    "kmeans = [KMeans(n_clusters=i) for i in n_clu]\n",
    "# calculo el score de los resultados\n",
    "score = [kmeans[i].fit(X).score(X) for i in range(len(kmeans))]"
   ]
  },
  {
   "cell_type": "code",
   "execution_count": 141,
   "metadata": {},
   "outputs": [
    {
     "data": {
      "image/png": "[encoded data removed]",
      "text/plain": [
       "<Figure size 432x288 with 1 Axes>"
      ]
     },
     "metadata": {
      "needs_background": "light"
     },
     "output_type": "display_data"
    }
   ],
   "source": [
    "# Presento la curva para elegir el valor K del algoritmo\n",
    "plt.plot(n_clu,score)\n",
    "plt.title('Curva de Elbow')\n",
    "plt.xlabel('Numero de clusters')\n",
    "plt.ylabel('Score')\n",
    "plt.show()"
   ]
  },
  {
   "cell_type": "markdown",
   "metadata": {},
   "source": [
    "##### La curva parece aplanarse en 4, se utilizará ese valor K, operativamente es un grupo interesante para focalizar acciones"
   ]
  },
  {
   "cell_type": "code",
   "execution_count": 142,
   "metadata": {},
   "outputs": [
    {
     "name": "stdout",
     "output_type": "stream",
     "text": [
      "[[7.39260796e+00 2.36268150e-03 5.43283047e-03 2.46857062e-02\n",
      "  2.12086291e+03 5.12620773e-02 9.67043183e-01 5.43619747e+06\n",
      "  1.53506977e+03 1.08723949e+06]\n",
      " [9.50000000e+00 2.00000000e-03 1.09500000e-02 1.69000000e-02\n",
      "  9.87340000e+04 5.37249871e-02 9.40000000e-01 2.41049457e+09\n",
      "  8.19000000e+04 4.82098914e+08]\n",
      " [9.85714286e+00 2.14285714e-03 9.41428571e-03 1.61857143e-02\n",
      "  5.18830000e+04 5.38014593e-02 9.51428571e-01 7.44886258e+08\n",
      "  1.06712857e+05 1.48977252e+08]\n",
      " [7.59770115e+00 2.84137931e-03 8.75172414e-03 2.15298851e-02\n",
      "  1.87869080e+04 4.91229164e-02 9.52758621e-01 1.84726651e+08\n",
      "  3.60203448e+04 3.69453301e+07]]\n"
     ]
    }
   ],
   "source": [
    "# calculamos el algoritmo k_means\n",
    "kmeans = KMeans(n_clusters=4).fit(X)\n",
    "centroids = kmeans.cluster_centers_\n",
    "# printeamos los centroides de los clusters\n",
    "print(centroids)"
   ]
  },
  {
   "cell_type": "code",
   "execution_count": 143,
   "metadata": {},
   "outputs": [],
   "source": [
    "# Calculamos los clusters para todos los datos\n",
    "labels = kmeans.predict(X)\n",
    "# etiquetamos los datos con el cluster asignado\n",
    "clusters=['1','2','3','4']\n",
    "asignar=[]\n",
    "for row in labels:\n",
    "    asignar.append(clusters[row])\n",
    "data['kmeans_cluster'] = asignar"
   ]
  },
  {
   "cell_type": "code",
   "execution_count": 144,
   "metadata": {},
   "outputs": [
    {
     "data": {
      "text/plain": [
       "kmeans_cluster\n",
       "1    5303\n",
       "4      87\n",
       "3       7\n",
       "2       2\n",
       "dtype: int64"
      ]
     },
     "execution_count": 144,
     "metadata": {},
     "output_type": "execute_result"
    }
   ],
   "source": [
    "data.value_counts('kmeans_cluster')"
   ]
  },
  {
   "cell_type": "code",
   "execution_count": 148,
   "metadata": {},
   "outputs": [
    {
     "data": {
      "text/plain": [
       "<matplotlib.collections.PathCollection at 0x15af172bf70>"
      ]
     },
     "execution_count": 148,
     "metadata": {},
     "output_type": "execute_result"
    },
    {
     "data": {
      "image/png": "[encoded data removed]",
      "text/plain": [
       "<Figure size 432x288 with 1 Axes>"
      ]
     },
     "metadata": {
      "needs_background": "light"
     },
     "output_type": "display_data"
    }
   ],
   "source": [
    "plt.scatter(x=data['kmeans_cluster'],y=data[\"total_profits_amount\"])"
   ]
  },
  {
   "cell_type": "code",
   "execution_count": 150,
   "metadata": {},
   "outputs": [
    {
     "data": {
      "text/html": [
       "<div>\n",
       "<style scoped>\n",
       "    .dataframe tbody tr th:only-of-type {\n",
       "        vertical-align: middle;\n",
       "    }\n",
       "\n",
       "    .dataframe tbody tr th {\n",
       "        vertical-align: top;\n",
       "    }\n",
       "\n",
       "    .dataframe thead th {\n",
       "        text-align: right;\n",
       "    }\n",
       "</style>\n",
       "<table border=\"1\" class=\"dataframe\">\n",
       "  <thead>\n",
       "    <tr style=\"text-align: right;\">\n",
       "      <th></th>\n",
       "      <th>antiquity_ages</th>\n",
       "      <th>cancellations_rate</th>\n",
       "      <th>claims_rate</th>\n",
       "      <th>delayed_handling_time_rate</th>\n",
       "      <th>sales_value</th>\n",
       "      <th>transactions_canceled_historic_rate</th>\n",
       "      <th>rating_positive</th>\n",
       "      <th>total_sales_amount</th>\n",
       "      <th>total_items_sold</th>\n",
       "      <th>total_profits_amount</th>\n",
       "      <th>kmeans_cluster</th>\n",
       "    </tr>\n",
       "  </thead>\n",
       "  <tbody>\n",
       "    <tr>\n",
       "      <th>147</th>\n",
       "      <td>18</td>\n",
       "      <td>0.004</td>\n",
       "      <td>0.0147</td>\n",
       "      <td>0.0338</td>\n",
       "      <td>92800</td>\n",
       "      <td>0.056735</td>\n",
       "      <td>0.95</td>\n",
       "      <td>2.054400e+09</td>\n",
       "      <td>93618</td>\n",
       "      <td>410879941.2</td>\n",
       "      <td>2</td>\n",
       "    </tr>\n",
       "    <tr>\n",
       "      <th>499</th>\n",
       "      <td>1</td>\n",
       "      <td>0.000</td>\n",
       "      <td>0.0072</td>\n",
       "      <td>0.0000</td>\n",
       "      <td>104668</td>\n",
       "      <td>0.050715</td>\n",
       "      <td>0.93</td>\n",
       "      <td>2.766589e+09</td>\n",
       "      <td>70182</td>\n",
       "      <td>553317886.0</td>\n",
       "      <td>2</td>\n",
       "    </tr>\n",
       "  </tbody>\n",
       "</table>\n",
       "</div>"
      ],
      "text/plain": [
       "     antiquity_ages  cancellations_rate  claims_rate  \\\n",
       "147              18               0.004       0.0147   \n",
       "499               1               0.000       0.0072   \n",
       "\n",
       "     delayed_handling_time_rate  sales_value  \\\n",
       "147                      0.0338        92800   \n",
       "499                      0.0000       104668   \n",
       "\n",
       "     transactions_canceled_historic_rate  rating_positive  total_sales_amount  \\\n",
       "147                             0.056735             0.95        2.054400e+09   \n",
       "499                             0.050715             0.93        2.766589e+09   \n",
       "\n",
       "     total_items_sold  total_profits_amount kmeans_cluster  \n",
       "147             93618           410879941.2              2  \n",
       "499             70182           553317886.0              2  "
      ]
     },
     "execution_count": 150,
     "metadata": {},
     "output_type": "execute_result"
    }
   ],
   "source": [
    "cluster_1 = data.loc[data.kmeans_cluster == '2']\n",
    "cluster_1\n"
   ]
  },
  {
   "cell_type": "markdown",
   "metadata": {},
   "source": [
    "### 3.c Clasificacion con algoritmo DBSCAN"
   ]
  },
  {
   "cell_type": "code",
   "execution_count": 147,
   "metadata": {},
   "outputs": [
    {
     "ename": "SyntaxError",
     "evalue": "invalid syntax (<ipython-input-147-d482f5492eb1>, line 1)",
     "output_type": "error",
     "traceback": [
      "\u001b[1;36m  File \u001b[1;32m\"<ipython-input-147-d482f5492eb1>\"\u001b[1;36m, line \u001b[1;32m1\u001b[0m\n\u001b[1;33m    553.317.886.000000\u001b[0m\n\u001b[1;37m           ^\u001b[0m\n\u001b[1;31mSyntaxError\u001b[0m\u001b[1;31m:\u001b[0m invalid syntax\n"
     ]
    }
   ],
   "source": [
    "553.317.886.000000\n",
    "155.350.631.400000\n",
    "40.878.960.800000\n",
    "410.879.941.200000"
   ]
  }
 ],
 "metadata": {
  "interpreter": {
   "hash": "24026d3aba629fcef83117a8818ef44727589b884fc8c219cbb87d5bf3da2505"
  },
  "kernelspec": {
   "display_name": "Python 3.8.8 ('base')",
   "language": "python",
   "name": "python3"
  },
  "language_info": {
   "codemirror_mode": {
    "name": "ipython",
    "version": 3
   },
   "file_extension": ".py",
   "mimetype": "text/x-python",
   "name": "python",
   "nbconvert_exporter": "python",
   "pygments_lexer": "ipython3",
   "version": "3.8.8"
  },
  "orig_nbformat": 4
 },
 "nbformat": 4,
 "nbformat_minor": 2
}
