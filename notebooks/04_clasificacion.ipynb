{
 "cells": [
  {
   "cell_type": "markdown",
   "metadata": {},
   "source": [
    "# 4. CLASIFICACION DE SELLERS"
   ]
  },
  {
   "cell_type": "markdown",
   "metadata": {},
   "source": [
    "### Se propondrán 2 formas de clasificar a los sellers, se compararán los resultados y se optará por una solución"
   ]
  },
  {
   "cell_type": "code",
   "execution_count": 2,
   "metadata": {},
   "outputs": [],
   "source": [
    "# Importamos las librerias\n",
    "import pandas as pd"
   ]
  },
  {
   "cell_type": "code",
   "execution_count": 3,
   "metadata": {},
   "outputs": [],
   "source": [
    "# Importamos los datos\n",
    "data = pd.read_csv('../data/20220318_dataset_sellers.csv',index_col=None)"
   ]
  },
  {
   "cell_type": "markdown",
   "metadata": {},
   "source": [
    "#### Metricas Seleccionadas\n",
    "- cancellations_rate\n",
    "- claims_rate\n",
    "- delayed_handling_time_rate\n",
    "- avg_ticket\n",
    "- antiquity_ages\n"
   ]
  },
  {
   "cell_type": "code",
   "execution_count": 4,
   "metadata": {},
   "outputs": [
    {
     "data": {
      "text/plain": [
       "Index(['Unnamed: 0', 'categoria_MLA', 'seller', 'fecha_registro',\n",
       "       'power_seller_status', 'level_id', 'cancellations_value',\n",
       "       'cancellations_rate', 'claims_value', 'claims_rate',\n",
       "       'delayed_handling_time_value', 'delayed_handling_time_rate',\n",
       "       'sales_value', 'transactions_total_historic',\n",
       "       'transactions_canceled_historic', 'transactions_completed_historic',\n",
       "       'rating_negative', 'rating_neutral', 'rating_positive', 'state', 'city',\n",
       "       'total_sales_amount', 'total_items_sold', 'total_profits_amount',\n",
       "       'avg_ticket', 'categoria_name', 'register_date', 'antiquity_ages',\n",
       "       'transactions_canceled_historic_rate'],\n",
       "      dtype='object')"
      ]
     },
     "execution_count": 4,
     "metadata": {},
     "output_type": "execute_result"
    }
   ],
   "source": [
    "data.columns"
   ]
  },
  {
   "cell_type": "code",
   "execution_count": 5,
   "metadata": {},
   "outputs": [],
   "source": [
    "# Filtro las metricas que se utilizarán en el análisis\n",
    "data = data[['cancellations_rate','claims_rate','delayed_handling_time_rate','avg_ticket','antiquity_ages']]\n",
    "data = data.fillna(0)"
   ]
  },
  {
   "cell_type": "code",
   "execution_count": 6,
   "metadata": {},
   "outputs": [
    {
     "data": {
      "text/html": [
       "<div>\n",
       "<style scoped>\n",
       "    .dataframe tbody tr th:only-of-type {\n",
       "        vertical-align: middle;\n",
       "    }\n",
       "\n",
       "    .dataframe tbody tr th {\n",
       "        vertical-align: top;\n",
       "    }\n",
       "\n",
       "    .dataframe thead th {\n",
       "        text-align: right;\n",
       "    }\n",
       "</style>\n",
       "<table border=\"1\" class=\"dataframe\">\n",
       "  <thead>\n",
       "    <tr style=\"text-align: right;\">\n",
       "      <th></th>\n",
       "      <th>cancellations_rate</th>\n",
       "      <th>claims_rate</th>\n",
       "      <th>delayed_handling_time_rate</th>\n",
       "      <th>avg_ticket</th>\n",
       "      <th>antiquity_ages</th>\n",
       "    </tr>\n",
       "  </thead>\n",
       "  <tbody>\n",
       "    <tr>\n",
       "      <th>count</th>\n",
       "      <td>5399.000000</td>\n",
       "      <td>5399.000000</td>\n",
       "      <td>5399.000000</td>\n",
       "      <td>5399.000000</td>\n",
       "      <td>5399.000000</td>\n",
       "    </tr>\n",
       "    <tr>\n",
       "      <th>mean</th>\n",
       "      <td>0.002370</td>\n",
       "      <td>0.005494</td>\n",
       "      <td>0.024621</td>\n",
       "      <td>10112.491208</td>\n",
       "      <td>7.406001</td>\n",
       "    </tr>\n",
       "    <tr>\n",
       "      <th>std</th>\n",
       "      <td>0.004146</td>\n",
       "      <td>0.005859</td>\n",
       "      <td>0.032194</td>\n",
       "      <td>23528.152190</td>\n",
       "      <td>5.334253</td>\n",
       "    </tr>\n",
       "    <tr>\n",
       "      <th>min</th>\n",
       "      <td>0.000000</td>\n",
       "      <td>0.000000</td>\n",
       "      <td>0.000000</td>\n",
       "      <td>0.000000</td>\n",
       "      <td>0.000000</td>\n",
       "    </tr>\n",
       "    <tr>\n",
       "      <th>25%</th>\n",
       "      <td>0.000000</td>\n",
       "      <td>0.000000</td>\n",
       "      <td>0.002300</td>\n",
       "      <td>1574.030000</td>\n",
       "      <td>3.000000</td>\n",
       "    </tr>\n",
       "    <tr>\n",
       "      <th>50%</th>\n",
       "      <td>0.000000</td>\n",
       "      <td>0.004300</td>\n",
       "      <td>0.011600</td>\n",
       "      <td>3507.798046</td>\n",
       "      <td>6.000000</td>\n",
       "    </tr>\n",
       "    <tr>\n",
       "      <th>75%</th>\n",
       "      <td>0.003600</td>\n",
       "      <td>0.009500</td>\n",
       "      <td>0.034250</td>\n",
       "      <td>8305.540515</td>\n",
       "      <td>11.000000</td>\n",
       "    </tr>\n",
       "    <tr>\n",
       "      <th>max</th>\n",
       "      <td>0.036200</td>\n",
       "      <td>0.039500</td>\n",
       "      <td>0.210500</td>\n",
       "      <td>520000.000000</td>\n",
       "      <td>22.000000</td>\n",
       "    </tr>\n",
       "  </tbody>\n",
       "</table>\n",
       "</div>"
      ],
      "text/plain": [
       "      cancellations_rate  claims_rate delayed_handling_time_rate  \\\n",
       "count        5399.000000  5399.000000                5399.000000   \n",
       "mean            0.002370     0.005494                   0.024621   \n",
       "std             0.004146     0.005859                   0.032194   \n",
       "min             0.000000     0.000000                   0.000000   \n",
       "25%             0.000000     0.000000                   0.002300   \n",
       "50%             0.000000     0.004300                   0.011600   \n",
       "75%             0.003600     0.009500                   0.034250   \n",
       "max             0.036200     0.039500                   0.210500   \n",
       "\n",
       "          avg_ticket antiquity_ages  \n",
       "count    5399.000000    5399.000000  \n",
       "mean    10112.491208       7.406001  \n",
       "std     23528.152190       5.334253  \n",
       "min         0.000000       0.000000  \n",
       "25%      1574.030000       3.000000  \n",
       "50%      3507.798046       6.000000  \n",
       "75%      8305.540515      11.000000  \n",
       "max    520000.000000      22.000000  "
      ]
     },
     "execution_count": 6,
     "metadata": {},
     "output_type": "execute_result"
    }
   ],
   "source": [
    "estadisticos = data.describe().apply(lambda y: y.apply(lambda x: format(x, 'f')))\n",
    "estadisticos"
   ]
  },
  {
   "cell_type": "markdown",
   "metadata": {},
   "source": [
    "### 3.a Clasificacion con algoritmo K-MEANS"
   ]
  },
  {
   "cell_type": "code",
   "execution_count": null,
   "metadata": {},
   "outputs": [],
   "source": [
    "import pandas as pd\n",
    "import numpy as np  \n",
    "import matplotlib.pyplot as plt\n",
    "from sklearn.cluster import KMeans\n",
    "from sklearn.preprocessing import StandardScaler\n",
    "from sklearn.metrics import silhouette_samples, silhouette_score\n",
    "import seaborn as sns"
   ]
  },
  {
   "cell_type": "code",
   "execution_count": null,
   "metadata": {},
   "outputs": [],
   "source": [
    "data_kmeans = data[['cancellations_rate','claims_rate','delayed_handling_time_rate','avg_ticket']]\n",
    "data_kmeans = data.fillna(0)"
   ]
  },
  {
   "cell_type": "code",
   "execution_count": null,
   "metadata": {},
   "outputs": [],
   "source": [
    "X = np.array(data)"
   ]
  },
  {
   "cell_type": "code",
   "execution_count": null,
   "metadata": {},
   "outputs": [
    {
     "data": {
      "image/png": "[encoded data removed]",
      "text/plain": [
       "<Figure size 432x288 with 1 Axes>"
      ]
     },
     "metadata": {},
     "output_type": "display_data"
    }
   ],
   "source": [
    "# estimo la curva de elbow para elegir la cantidad de k para el algoritmo, entre 1 y 10\n",
    "n_clu = range(1, 10)\n",
    "#calculo los clusters para cada valor de clusters\n",
    "kmeans = [KMeans(n_clusters=i) for i in n_clu]\n",
    "# calculo el score de los resultados\n",
    "score = [kmeans[i].fit(X).score(X) for i in range(len(kmeans))]\n",
    "# Visualizo la curva para elegir el valor K del algoritmo\n",
    "plt.plot(n_clu,score)\n",
    "plt.title('Curva de Elbow')\n",
    "plt.xlabel('Numero de clusters')\n",
    "plt.ylabel('Score')\n",
    "plt.show()"
   ]
  },
  {
   "cell_type": "markdown",
   "metadata": {},
   "source": [
    "##### La curva se aplanaen 4, se utilizará ese valor K, y para el equipo comercial puede ser una cantidad de grupos interesante para focalizar acciones"
   ]
  },
  {
   "cell_type": "code",
   "execution_count": null,
   "metadata": {},
   "outputs": [
    {
     "name": "stdout",
     "output_type": "stream",
     "text": [
      "[[2.34073767e-03 5.40294240e-03 2.41652093e-02 4.63912732e+03]\n",
      " [3.05890411e-03 4.87671233e-03 2.54575342e-02 1.25545813e+05]\n",
      " [3.70000000e-03 4.96666667e-03 2.65166667e-02 4.22493833e+05]\n",
      " [2.53765182e-03 6.47591093e-03 2.89265182e-02 4.15164053e+04]]\n",
      "[0 0 0 ... 0 0 0]\n"
     ]
    }
   ],
   "source": [
    "# calculamos el algoritmo k_means\n",
    "kmeans = KMeans(n_clusters=4,random_state=0).fit(X)\n",
    "centroids = kmeans.cluster_centers_\n",
    "# printeamos los centroides de los clusters\n",
    "print(centroids)\n",
    "labels = kmeans.labels_\n",
    "print(labels)"
   ]
  },
  {
   "cell_type": "code",
   "execution_count": null,
   "metadata": {},
   "outputs": [],
   "source": [
    "data['kmeans'] = labels"
   ]
  },
  {
   "cell_type": "code",
   "execution_count": 62,
   "metadata": {},
   "outputs": [
    {
     "data": {
      "text/html": [
       "<div>\n",
       "<style scoped>\n",
       "    .dataframe tbody tr th:only-of-type {\n",
       "        vertical-align: middle;\n",
       "    }\n",
       "\n",
       "    .dataframe tbody tr th {\n",
       "        vertical-align: top;\n",
       "    }\n",
       "\n",
       "    .dataframe thead th {\n",
       "        text-align: right;\n",
       "    }\n",
       "</style>\n",
       "<table border=\"1\" class=\"dataframe\">\n",
       "  <thead>\n",
       "    <tr style=\"text-align: right;\">\n",
       "      <th></th>\n",
       "      <th>kmeans</th>\n",
       "      <th>size</th>\n",
       "      <th>porcentaje</th>\n",
       "    </tr>\n",
       "  </thead>\n",
       "  <tbody>\n",
       "    <tr>\n",
       "      <th>0</th>\n",
       "      <td>0</td>\n",
       "      <td>4826</td>\n",
       "      <td>89.4</td>\n",
       "    </tr>\n",
       "    <tr>\n",
       "      <th>1</th>\n",
       "      <td>1</td>\n",
       "      <td>72</td>\n",
       "      <td>1.3</td>\n",
       "    </tr>\n",
       "    <tr>\n",
       "      <th>2</th>\n",
       "      <td>2</td>\n",
       "      <td>6</td>\n",
       "      <td>0.1</td>\n",
       "    </tr>\n",
       "    <tr>\n",
       "      <th>3</th>\n",
       "      <td>3</td>\n",
       "      <td>495</td>\n",
       "      <td>9.2</td>\n",
       "    </tr>\n",
       "  </tbody>\n",
       "</table>\n",
       "</div>"
      ],
      "text/plain": [
       "   kmeans  size  porcentaje\n",
       "0       0  4826        89.4\n",
       "1       1    72         1.3\n",
       "2       2     6         0.1\n",
       "3       3   495         9.2"
      ]
     },
     "execution_count": 62,
     "metadata": {},
     "output_type": "execute_result"
    }
   ],
   "source": [
    "grupos_kmeans = data.groupby('kmeans', as_index=False).size()\n",
    "grupos_kmeans['porcentaje'] = round(grupos_kmeans['size']/len(data)*100,1)\n",
    "grupos_kmeans"
   ]
  },
  {
   "cell_type": "code",
   "execution_count": null,
   "metadata": {},
   "outputs": [
    {
     "data": {
      "text/plain": [
       "kmeans\n",
       "0    4826\n",
       "3     495\n",
       "1      72\n",
       "2       6\n",
       "dtype: int64"
      ]
     },
     "metadata": {},
     "output_type": "display_data"
    }
   ],
   "source": [
    "data.value_counts('kmeans')"
   ]
  },
  {
   "cell_type": "markdown",
   "metadata": {},
   "source": [
    "#### Miramos la distribucion de cada cluster"
   ]
  },
  {
   "cell_type": "code",
   "execution_count": 84,
   "metadata": {},
   "outputs": [
    {
     "data": {
      "text/html": [
       "<div>\n",
       "<style scoped>\n",
       "    .dataframe tbody tr th:only-of-type {\n",
       "        vertical-align: middle;\n",
       "    }\n",
       "\n",
       "    .dataframe tbody tr th {\n",
       "        vertical-align: top;\n",
       "    }\n",
       "\n",
       "    .dataframe thead th {\n",
       "        text-align: right;\n",
       "    }\n",
       "</style>\n",
       "<table border=\"1\" class=\"dataframe\">\n",
       "  <thead>\n",
       "    <tr style=\"text-align: right;\">\n",
       "      <th></th>\n",
       "      <th>cancellations_rate</th>\n",
       "      <th>claims_rate</th>\n",
       "      <th>delayed_handling_time_rate</th>\n",
       "      <th>avg_ticket</th>\n",
       "      <th>kmeans</th>\n",
       "      <th>kmeans_std</th>\n",
       "      <th>kmeans_2</th>\n",
       "      <th>dbscan</th>\n",
       "    </tr>\n",
       "  </thead>\n",
       "  <tbody>\n",
       "    <tr>\n",
       "      <th>count</th>\n",
       "      <td>4826.000000</td>\n",
       "      <td>4826.000000</td>\n",
       "      <td>4826.000000</td>\n",
       "      <td>4826.000000</td>\n",
       "      <td>4826.0</td>\n",
       "      <td>4826.000000</td>\n",
       "      <td>4826.0</td>\n",
       "      <td>4826.000000</td>\n",
       "    </tr>\n",
       "    <tr>\n",
       "      <th>mean</th>\n",
       "      <td>0.002341</td>\n",
       "      <td>0.005403</td>\n",
       "      <td>0.024165</td>\n",
       "      <td>4639.127321</td>\n",
       "      <td>0.0</td>\n",
       "      <td>1.498757</td>\n",
       "      <td>0.0</td>\n",
       "      <td>-0.423539</td>\n",
       "    </tr>\n",
       "    <tr>\n",
       "      <th>std</th>\n",
       "      <td>0.004075</td>\n",
       "      <td>0.005750</td>\n",
       "      <td>0.031587</td>\n",
       "      <td>4685.507240</td>\n",
       "      <td>0.0</td>\n",
       "      <td>0.709154</td>\n",
       "      <td>0.0</td>\n",
       "      <td>0.494170</td>\n",
       "    </tr>\n",
       "    <tr>\n",
       "      <th>min</th>\n",
       "      <td>0.000000</td>\n",
       "      <td>0.000000</td>\n",
       "      <td>0.000000</td>\n",
       "      <td>0.000000</td>\n",
       "      <td>0.0</td>\n",
       "      <td>1.000000</td>\n",
       "      <td>0.0</td>\n",
       "      <td>-1.000000</td>\n",
       "    </tr>\n",
       "    <tr>\n",
       "      <th>25%</th>\n",
       "      <td>0.000000</td>\n",
       "      <td>0.000000</td>\n",
       "      <td>0.002500</td>\n",
       "      <td>1445.596384</td>\n",
       "      <td>0.0</td>\n",
       "      <td>1.000000</td>\n",
       "      <td>0.0</td>\n",
       "      <td>-1.000000</td>\n",
       "    </tr>\n",
       "    <tr>\n",
       "      <th>50%</th>\n",
       "      <td>0.000000</td>\n",
       "      <td>0.004300</td>\n",
       "      <td>0.011300</td>\n",
       "      <td>2926.385714</td>\n",
       "      <td>0.0</td>\n",
       "      <td>1.000000</td>\n",
       "      <td>0.0</td>\n",
       "      <td>0.000000</td>\n",
       "    </tr>\n",
       "    <tr>\n",
       "      <th>75%</th>\n",
       "      <td>0.003500</td>\n",
       "      <td>0.009200</td>\n",
       "      <td>0.033200</td>\n",
       "      <td>6160.621622</td>\n",
       "      <td>0.0</td>\n",
       "      <td>2.000000</td>\n",
       "      <td>0.0</td>\n",
       "      <td>0.000000</td>\n",
       "    </tr>\n",
       "    <tr>\n",
       "      <th>max</th>\n",
       "      <td>0.036200</td>\n",
       "      <td>0.039200</td>\n",
       "      <td>0.210500</td>\n",
       "      <td>23000.000000</td>\n",
       "      <td>0.0</td>\n",
       "      <td>3.000000</td>\n",
       "      <td>0.0</td>\n",
       "      <td>0.000000</td>\n",
       "    </tr>\n",
       "  </tbody>\n",
       "</table>\n",
       "</div>"
      ],
      "text/plain": [
       "       cancellations_rate  claims_rate  delayed_handling_time_rate  \\\n",
       "count         4826.000000  4826.000000                 4826.000000   \n",
       "mean             0.002341     0.005403                    0.024165   \n",
       "std              0.004075     0.005750                    0.031587   \n",
       "min              0.000000     0.000000                    0.000000   \n",
       "25%              0.000000     0.000000                    0.002500   \n",
       "50%              0.000000     0.004300                    0.011300   \n",
       "75%              0.003500     0.009200                    0.033200   \n",
       "max              0.036200     0.039200                    0.210500   \n",
       "\n",
       "         avg_ticket  kmeans   kmeans_std  kmeans_2       dbscan  \n",
       "count   4826.000000  4826.0  4826.000000    4826.0  4826.000000  \n",
       "mean    4639.127321     0.0     1.498757       0.0    -0.423539  \n",
       "std     4685.507240     0.0     0.709154       0.0     0.494170  \n",
       "min        0.000000     0.0     1.000000       0.0    -1.000000  \n",
       "25%     1445.596384     0.0     1.000000       0.0    -1.000000  \n",
       "50%     2926.385714     0.0     1.000000       0.0     0.000000  \n",
       "75%     6160.621622     0.0     2.000000       0.0     0.000000  \n",
       "max    23000.000000     0.0     3.000000       0.0     0.000000  "
      ]
     },
     "execution_count": 84,
     "metadata": {},
     "output_type": "execute_result"
    }
   ],
   "source": [
    "data.loc[data.kmeans == 0].describe()"
   ]
  },
  {
   "cell_type": "code",
   "execution_count": 85,
   "metadata": {},
   "outputs": [
    {
     "data": {
      "text/html": [
       "<div>\n",
       "<style scoped>\n",
       "    .dataframe tbody tr th:only-of-type {\n",
       "        vertical-align: middle;\n",
       "    }\n",
       "\n",
       "    .dataframe tbody tr th {\n",
       "        vertical-align: top;\n",
       "    }\n",
       "\n",
       "    .dataframe thead th {\n",
       "        text-align: right;\n",
       "    }\n",
       "</style>\n",
       "<table border=\"1\" class=\"dataframe\">\n",
       "  <thead>\n",
       "    <tr style=\"text-align: right;\">\n",
       "      <th></th>\n",
       "      <th>cancellations_rate</th>\n",
       "      <th>claims_rate</th>\n",
       "      <th>delayed_handling_time_rate</th>\n",
       "      <th>avg_ticket</th>\n",
       "      <th>kmeans</th>\n",
       "      <th>kmeans_std</th>\n",
       "      <th>kmeans_2</th>\n",
       "      <th>dbscan</th>\n",
       "    </tr>\n",
       "  </thead>\n",
       "  <tbody>\n",
       "    <tr>\n",
       "      <th>count</th>\n",
       "      <td>72.000000</td>\n",
       "      <td>72.000000</td>\n",
       "      <td>72.000000</td>\n",
       "      <td>72.000000</td>\n",
       "      <td>72.0</td>\n",
       "      <td>72.000000</td>\n",
       "      <td>72.0</td>\n",
       "      <td>72.0</td>\n",
       "    </tr>\n",
       "    <tr>\n",
       "      <th>mean</th>\n",
       "      <td>0.003101</td>\n",
       "      <td>0.004944</td>\n",
       "      <td>0.025150</td>\n",
       "      <td>126129.403783</td>\n",
       "      <td>1.0</td>\n",
       "      <td>0.055556</td>\n",
       "      <td>1.0</td>\n",
       "      <td>-1.0</td>\n",
       "    </tr>\n",
       "    <tr>\n",
       "      <th>std</th>\n",
       "      <td>0.006508</td>\n",
       "      <td>0.005986</td>\n",
       "      <td>0.034267</td>\n",
       "      <td>41068.672278</td>\n",
       "      <td>0.0</td>\n",
       "      <td>0.330978</td>\n",
       "      <td>0.0</td>\n",
       "      <td>0.0</td>\n",
       "    </tr>\n",
       "    <tr>\n",
       "      <th>min</th>\n",
       "      <td>0.000000</td>\n",
       "      <td>0.000000</td>\n",
       "      <td>0.000000</td>\n",
       "      <td>83899.000000</td>\n",
       "      <td>1.0</td>\n",
       "      <td>0.000000</td>\n",
       "      <td>1.0</td>\n",
       "      <td>-1.0</td>\n",
       "    </tr>\n",
       "    <tr>\n",
       "      <th>25%</th>\n",
       "      <td>0.000000</td>\n",
       "      <td>0.000000</td>\n",
       "      <td>0.000000</td>\n",
       "      <td>93250.112637</td>\n",
       "      <td>1.0</td>\n",
       "      <td>0.000000</td>\n",
       "      <td>1.0</td>\n",
       "      <td>-1.0</td>\n",
       "    </tr>\n",
       "    <tr>\n",
       "      <th>50%</th>\n",
       "      <td>0.000000</td>\n",
       "      <td>0.000000</td>\n",
       "      <td>0.012350</td>\n",
       "      <td>113299.442003</td>\n",
       "      <td>1.0</td>\n",
       "      <td>0.000000</td>\n",
       "      <td>1.0</td>\n",
       "      <td>-1.0</td>\n",
       "    </tr>\n",
       "    <tr>\n",
       "      <th>75%</th>\n",
       "      <td>0.002600</td>\n",
       "      <td>0.010125</td>\n",
       "      <td>0.034925</td>\n",
       "      <td>148674.000000</td>\n",
       "      <td>1.0</td>\n",
       "      <td>0.000000</td>\n",
       "      <td>1.0</td>\n",
       "      <td>-1.0</td>\n",
       "    </tr>\n",
       "    <tr>\n",
       "      <th>max</th>\n",
       "      <td>0.035000</td>\n",
       "      <td>0.019500</td>\n",
       "      <td>0.123500</td>\n",
       "      <td>252933.615851</td>\n",
       "      <td>1.0</td>\n",
       "      <td>2.000000</td>\n",
       "      <td>1.0</td>\n",
       "      <td>-1.0</td>\n",
       "    </tr>\n",
       "  </tbody>\n",
       "</table>\n",
       "</div>"
      ],
      "text/plain": [
       "       cancellations_rate  claims_rate  delayed_handling_time_rate  \\\n",
       "count           72.000000    72.000000                   72.000000   \n",
       "mean             0.003101     0.004944                    0.025150   \n",
       "std              0.006508     0.005986                    0.034267   \n",
       "min              0.000000     0.000000                    0.000000   \n",
       "25%              0.000000     0.000000                    0.000000   \n",
       "50%              0.000000     0.000000                    0.012350   \n",
       "75%              0.002600     0.010125                    0.034925   \n",
       "max              0.035000     0.019500                    0.123500   \n",
       "\n",
       "          avg_ticket  kmeans  kmeans_std  kmeans_2  dbscan  \n",
       "count      72.000000    72.0   72.000000      72.0    72.0  \n",
       "mean   126129.403783     1.0    0.055556       1.0    -1.0  \n",
       "std     41068.672278     0.0    0.330978       0.0     0.0  \n",
       "min     83899.000000     1.0    0.000000       1.0    -1.0  \n",
       "25%     93250.112637     1.0    0.000000       1.0    -1.0  \n",
       "50%    113299.442003     1.0    0.000000       1.0    -1.0  \n",
       "75%    148674.000000     1.0    0.000000       1.0    -1.0  \n",
       "max    252933.615851     1.0    2.000000       1.0    -1.0  "
      ]
     },
     "execution_count": 85,
     "metadata": {},
     "output_type": "execute_result"
    }
   ],
   "source": [
    "data.loc[data.kmeans == 1].describe()"
   ]
  },
  {
   "cell_type": "code",
   "execution_count": 86,
   "metadata": {},
   "outputs": [
    {
     "data": {
      "text/html": [
       "<div>\n",
       "<style scoped>\n",
       "    .dataframe tbody tr th:only-of-type {\n",
       "        vertical-align: middle;\n",
       "    }\n",
       "\n",
       "    .dataframe tbody tr th {\n",
       "        vertical-align: top;\n",
       "    }\n",
       "\n",
       "    .dataframe thead th {\n",
       "        text-align: right;\n",
       "    }\n",
       "</style>\n",
       "<table border=\"1\" class=\"dataframe\">\n",
       "  <thead>\n",
       "    <tr style=\"text-align: right;\">\n",
       "      <th></th>\n",
       "      <th>cancellations_rate</th>\n",
       "      <th>claims_rate</th>\n",
       "      <th>delayed_handling_time_rate</th>\n",
       "      <th>avg_ticket</th>\n",
       "      <th>kmeans</th>\n",
       "      <th>kmeans_std</th>\n",
       "      <th>kmeans_2</th>\n",
       "      <th>dbscan</th>\n",
       "    </tr>\n",
       "  </thead>\n",
       "  <tbody>\n",
       "    <tr>\n",
       "      <th>count</th>\n",
       "      <td>6.000000</td>\n",
       "      <td>6.000000</td>\n",
       "      <td>6.000000</td>\n",
       "      <td>6.000000</td>\n",
       "      <td>6.0</td>\n",
       "      <td>6.0</td>\n",
       "      <td>6.0</td>\n",
       "      <td>6.0</td>\n",
       "    </tr>\n",
       "    <tr>\n",
       "      <th>mean</th>\n",
       "      <td>0.003700</td>\n",
       "      <td>0.004967</td>\n",
       "      <td>0.026517</td>\n",
       "      <td>422493.833333</td>\n",
       "      <td>2.0</td>\n",
       "      <td>0.0</td>\n",
       "      <td>1.0</td>\n",
       "      <td>-1.0</td>\n",
       "    </tr>\n",
       "    <tr>\n",
       "      <th>std</th>\n",
       "      <td>0.005844</td>\n",
       "      <td>0.007843</td>\n",
       "      <td>0.023796</td>\n",
       "      <td>61087.052525</td>\n",
       "      <td>0.0</td>\n",
       "      <td>0.0</td>\n",
       "      <td>0.0</td>\n",
       "      <td>0.0</td>\n",
       "    </tr>\n",
       "    <tr>\n",
       "      <th>min</th>\n",
       "      <td>0.000000</td>\n",
       "      <td>0.000000</td>\n",
       "      <td>0.000000</td>\n",
       "      <td>333999.000000</td>\n",
       "      <td>2.0</td>\n",
       "      <td>0.0</td>\n",
       "      <td>1.0</td>\n",
       "      <td>-1.0</td>\n",
       "    </tr>\n",
       "    <tr>\n",
       "      <th>25%</th>\n",
       "      <td>0.000000</td>\n",
       "      <td>0.000000</td>\n",
       "      <td>0.004450</td>\n",
       "      <td>401249.000000</td>\n",
       "      <td>2.0</td>\n",
       "      <td>0.0</td>\n",
       "      <td>1.0</td>\n",
       "      <td>-1.0</td>\n",
       "    </tr>\n",
       "    <tr>\n",
       "      <th>50%</th>\n",
       "      <td>0.000000</td>\n",
       "      <td>0.000000</td>\n",
       "      <td>0.029950</td>\n",
       "      <td>419999.500000</td>\n",
       "      <td>2.0</td>\n",
       "      <td>0.0</td>\n",
       "      <td>1.0</td>\n",
       "      <td>-1.0</td>\n",
       "    </tr>\n",
       "    <tr>\n",
       "      <th>75%</th>\n",
       "      <td>0.006975</td>\n",
       "      <td>0.009375</td>\n",
       "      <td>0.044350</td>\n",
       "      <td>439474.500000</td>\n",
       "      <td>2.0</td>\n",
       "      <td>0.0</td>\n",
       "      <td>1.0</td>\n",
       "      <td>-1.0</td>\n",
       "    </tr>\n",
       "    <tr>\n",
       "      <th>max</th>\n",
       "      <td>0.012900</td>\n",
       "      <td>0.017300</td>\n",
       "      <td>0.054100</td>\n",
       "      <td>520000.000000</td>\n",
       "      <td>2.0</td>\n",
       "      <td>0.0</td>\n",
       "      <td>1.0</td>\n",
       "      <td>-1.0</td>\n",
       "    </tr>\n",
       "  </tbody>\n",
       "</table>\n",
       "</div>"
      ],
      "text/plain": [
       "       cancellations_rate  claims_rate  delayed_handling_time_rate  \\\n",
       "count            6.000000     6.000000                    6.000000   \n",
       "mean             0.003700     0.004967                    0.026517   \n",
       "std              0.005844     0.007843                    0.023796   \n",
       "min              0.000000     0.000000                    0.000000   \n",
       "25%              0.000000     0.000000                    0.004450   \n",
       "50%              0.000000     0.000000                    0.029950   \n",
       "75%              0.006975     0.009375                    0.044350   \n",
       "max              0.012900     0.017300                    0.054100   \n",
       "\n",
       "          avg_ticket  kmeans  kmeans_std  kmeans_2  dbscan  \n",
       "count       6.000000     6.0         6.0       6.0     6.0  \n",
       "mean   422493.833333     2.0         0.0       1.0    -1.0  \n",
       "std     61087.052525     0.0         0.0       0.0     0.0  \n",
       "min    333999.000000     2.0         0.0       1.0    -1.0  \n",
       "25%    401249.000000     2.0         0.0       1.0    -1.0  \n",
       "50%    419999.500000     2.0         0.0       1.0    -1.0  \n",
       "75%    439474.500000     2.0         0.0       1.0    -1.0  \n",
       "max    520000.000000     2.0         0.0       1.0    -1.0  "
      ]
     },
     "execution_count": 86,
     "metadata": {},
     "output_type": "execute_result"
    }
   ],
   "source": [
    "data.loc[data.kmeans == 2].describe()"
   ]
  },
  {
   "cell_type": "code",
   "execution_count": 87,
   "metadata": {},
   "outputs": [
    {
     "data": {
      "text/html": [
       "<div>\n",
       "<style scoped>\n",
       "    .dataframe tbody tr th:only-of-type {\n",
       "        vertical-align: middle;\n",
       "    }\n",
       "\n",
       "    .dataframe tbody tr th {\n",
       "        vertical-align: top;\n",
       "    }\n",
       "\n",
       "    .dataframe thead th {\n",
       "        text-align: right;\n",
       "    }\n",
       "</style>\n",
       "<table border=\"1\" class=\"dataframe\">\n",
       "  <thead>\n",
       "    <tr style=\"text-align: right;\">\n",
       "      <th></th>\n",
       "      <th>cancellations_rate</th>\n",
       "      <th>claims_rate</th>\n",
       "      <th>delayed_handling_time_rate</th>\n",
       "      <th>avg_ticket</th>\n",
       "      <th>kmeans</th>\n",
       "      <th>kmeans_std</th>\n",
       "      <th>kmeans_2</th>\n",
       "      <th>dbscan</th>\n",
       "    </tr>\n",
       "  </thead>\n",
       "  <tbody>\n",
       "    <tr>\n",
       "      <th>count</th>\n",
       "      <td>495.000000</td>\n",
       "      <td>495.000000</td>\n",
       "      <td>495.000000</td>\n",
       "      <td>495.000000</td>\n",
       "      <td>495.0</td>\n",
       "      <td>495.000000</td>\n",
       "      <td>495.000000</td>\n",
       "      <td>495.0</td>\n",
       "    </tr>\n",
       "    <tr>\n",
       "      <th>mean</th>\n",
       "      <td>0.002533</td>\n",
       "      <td>0.006463</td>\n",
       "      <td>0.028964</td>\n",
       "      <td>41601.275780</td>\n",
       "      <td>3.0</td>\n",
       "      <td>0.030303</td>\n",
       "      <td>0.165657</td>\n",
       "      <td>-1.0</td>\n",
       "    </tr>\n",
       "    <tr>\n",
       "      <th>std</th>\n",
       "      <td>0.004366</td>\n",
       "      <td>0.006730</td>\n",
       "      <td>0.037221</td>\n",
       "      <td>15520.666254</td>\n",
       "      <td>0.0</td>\n",
       "      <td>0.300288</td>\n",
       "      <td>0.372148</td>\n",
       "      <td>0.0</td>\n",
       "    </tr>\n",
       "    <tr>\n",
       "      <th>min</th>\n",
       "      <td>0.000000</td>\n",
       "      <td>0.000000</td>\n",
       "      <td>0.000000</td>\n",
       "      <td>23145.000000</td>\n",
       "      <td>3.0</td>\n",
       "      <td>0.000000</td>\n",
       "      <td>0.000000</td>\n",
       "      <td>-1.0</td>\n",
       "    </tr>\n",
       "    <tr>\n",
       "      <th>25%</th>\n",
       "      <td>0.000000</td>\n",
       "      <td>0.000000</td>\n",
       "      <td>0.000700</td>\n",
       "      <td>28836.125000</td>\n",
       "      <td>3.0</td>\n",
       "      <td>0.000000</td>\n",
       "      <td>0.000000</td>\n",
       "      <td>-1.0</td>\n",
       "    </tr>\n",
       "    <tr>\n",
       "      <th>50%</th>\n",
       "      <td>0.000000</td>\n",
       "      <td>0.005600</td>\n",
       "      <td>0.013900</td>\n",
       "      <td>37682.750000</td>\n",
       "      <td>3.0</td>\n",
       "      <td>0.000000</td>\n",
       "      <td>0.000000</td>\n",
       "      <td>-1.0</td>\n",
       "    </tr>\n",
       "    <tr>\n",
       "      <th>75%</th>\n",
       "      <td>0.004300</td>\n",
       "      <td>0.011500</td>\n",
       "      <td>0.043000</td>\n",
       "      <td>50383.309524</td>\n",
       "      <td>3.0</td>\n",
       "      <td>0.000000</td>\n",
       "      <td>0.000000</td>\n",
       "      <td>-1.0</td>\n",
       "    </tr>\n",
       "    <tr>\n",
       "      <th>max</th>\n",
       "      <td>0.020900</td>\n",
       "      <td>0.039500</td>\n",
       "      <td>0.196400</td>\n",
       "      <td>83527.290000</td>\n",
       "      <td>3.0</td>\n",
       "      <td>3.000000</td>\n",
       "      <td>1.000000</td>\n",
       "      <td>-1.0</td>\n",
       "    </tr>\n",
       "  </tbody>\n",
       "</table>\n",
       "</div>"
      ],
      "text/plain": [
       "       cancellations_rate  claims_rate  delayed_handling_time_rate  \\\n",
       "count          495.000000   495.000000                  495.000000   \n",
       "mean             0.002533     0.006463                    0.028964   \n",
       "std              0.004366     0.006730                    0.037221   \n",
       "min              0.000000     0.000000                    0.000000   \n",
       "25%              0.000000     0.000000                    0.000700   \n",
       "50%              0.000000     0.005600                    0.013900   \n",
       "75%              0.004300     0.011500                    0.043000   \n",
       "max              0.020900     0.039500                    0.196400   \n",
       "\n",
       "         avg_ticket  kmeans  kmeans_std    kmeans_2  dbscan  \n",
       "count    495.000000   495.0  495.000000  495.000000   495.0  \n",
       "mean   41601.275780     3.0    0.030303    0.165657    -1.0  \n",
       "std    15520.666254     0.0    0.300288    0.372148     0.0  \n",
       "min    23145.000000     3.0    0.000000    0.000000    -1.0  \n",
       "25%    28836.125000     3.0    0.000000    0.000000    -1.0  \n",
       "50%    37682.750000     3.0    0.000000    0.000000    -1.0  \n",
       "75%    50383.309524     3.0    0.000000    0.000000    -1.0  \n",
       "max    83527.290000     3.0    3.000000    1.000000    -1.0  "
      ]
     },
     "execution_count": 87,
     "metadata": {},
     "output_type": "execute_result"
    }
   ],
   "source": [
    "data.loc[data.kmeans == 3].describe()"
   ]
  },
  {
   "cell_type": "code",
   "execution_count": null,
   "metadata": {},
   "outputs": [
    {
     "data": {
      "text/plain": [
       "array([0.90812623, 0.91537717, 0.91619073, ..., 0.90174125, 0.89448891,\n",
       "       0.91558864])"
      ]
     },
     "metadata": {},
     "output_type": "display_data"
    }
   ],
   "source": [
    "silhouette_vals = silhouette_samples(X, labels)\n",
    "silhouette_vals"
   ]
  },
  {
   "cell_type": "code",
   "execution_count": null,
   "metadata": {},
   "outputs": [],
   "source": [
    "plt.rcParams['figure.figsize'] = (20,15)"
   ]
  },
  {
   "cell_type": "code",
   "execution_count": null,
   "metadata": {},
   "outputs": [
    {
     "data": {
      "text/plain": [
       "Text(0.5, 1.02, 'Silhouette plot por cluster')"
      ]
     },
     "metadata": {},
     "output_type": "display_data"
    },
    {
     "data": {
      "image/png": "[encoded data removed]",
      "text/plain": [
       "<Figure size 1440x1080 with 1 Axes>"
      ]
     },
     "metadata": {},
     "output_type": "display_data"
    }
   ],
   "source": [
    "ax = plt.axes()\n",
    "# Silhouette plot\n",
    "y_ticks = []\n",
    "y_lower, y_upper = 0, 0\n",
    "for i, cluster in enumerate(np.unique(labels)):\n",
    "    cluster_silhouette_vals = silhouette_vals[labels == cluster]\n",
    "    cluster_silhouette_vals.sort()\n",
    "    y_upper += len(cluster_silhouette_vals)\n",
    "    ax.barh(range(y_lower, y_upper), cluster_silhouette_vals, edgecolor='none', height=2)\n",
    "    ax.text(-0.03, (y_lower + y_upper) / 2, str(i + 1))\n",
    "    y_lower += len(cluster_silhouette_vals)\n",
    "\n",
    "# Get the average silhouette score and plot it\n",
    "avg_score = np.mean(silhouette_vals)\n",
    "ax.axvline(avg_score, linestyle='--', linewidth=3, color='black')\n",
    "ax.set_yticks([])\n",
    "ax.set_xlim([-0.1, 1])\n",
    "ax.set_xlabel('Silhouette coefficient')\n",
    "ax.set_ylabel('Clusters')\n",
    "ax.set_title('Silhouette plot por cluster', y=1.02)"
   ]
  },
  {
   "cell_type": "markdown",
   "metadata": {},
   "source": [
    "### Probamos el algoritmo kmeans pero esta vez aplicando una estandarizacion de los datos"
   ]
  },
  {
   "cell_type": "code",
   "execution_count": null,
   "metadata": {},
   "outputs": [],
   "source": [
    "# estandarizamos los datos\n",
    "X_std = StandardScaler().fit_transform(data)"
   ]
  },
  {
   "cell_type": "code",
   "execution_count": null,
   "metadata": {},
   "outputs": [
    {
     "name": "stdout",
     "output_type": "stream",
     "text": [
      "[[2.34073767e-03 5.40294240e-03 2.41652093e-02 4.63912732e+03]\n",
      " [3.05890411e-03 4.87671233e-03 2.54575342e-02 1.25545813e+05]\n",
      " [3.70000000e-03 4.96666667e-03 2.65166667e-02 4.22493833e+05]\n",
      " [2.53765182e-03 6.47591093e-03 2.89265182e-02 4.15164053e+04]]\n",
      "[2 2 1 ... 1 1 1]\n"
     ]
    }
   ],
   "source": [
    "# calculamos el algoritmo k_means\n",
    "kmeans_std = KMeans(n_clusters=4,random_state=0).fit(X_std)\n",
    "centroids_std = kmeans.cluster_centers_\n",
    "# printeamos los centroides de los clusters\n",
    "print(centroids_std)\n",
    "labels_std = kmeans_std.labels_\n",
    "print(labels_std)"
   ]
  },
  {
   "cell_type": "code",
   "execution_count": null,
   "metadata": {},
   "outputs": [],
   "source": [
    "data['kmeans_std'] = labels_std"
   ]
  },
  {
   "cell_type": "code",
   "execution_count": null,
   "metadata": {},
   "outputs": [
    {
     "data": {
      "text/plain": [
       "kmeans\n",
       "0    4826\n",
       "3     495\n",
       "1      72\n",
       "2       6\n",
       "dtype: int64"
      ]
     },
     "metadata": {},
     "output_type": "display_data"
    }
   ],
   "source": [
    "data.value_counts('kmeans')"
   ]
  },
  {
   "cell_type": "markdown",
   "metadata": {},
   "source": [
    "#### Luego de visualizar el grafico de siluetas y ver la similitud entre el cluster 2 y 4 se calcular nuevamente con menos clusters"
   ]
  },
  {
   "cell_type": "code",
   "execution_count": null,
   "metadata": {},
   "outputs": [
    {
     "name": "stdout",
     "output_type": "stream",
     "text": [
      "[[2.35455240e-03 5.49127696e-03 2.46310937e-02 7.11086891e+03]\n",
      " [2.87500000e-03 5.56687500e-03 2.42887500e-02 1.08396861e+05]]\n",
      "[0 0 0 ... 0 0 0]\n"
     ]
    }
   ],
   "source": [
    "# calculamos el algoritmo k_means pero con 2 clusters luego de ver el grafico de siluetas\n",
    "kmeans_2 = KMeans(n_clusters=2,random_state=0).fit(X)\n",
    "centroids_2 = kmeans_2.cluster_centers_\n",
    "# printeamos los centroides de los clusters\n",
    "print(centroids)\n",
    "labels_2 = kmeans_2.labels_\n",
    "print(labels_2)"
   ]
  },
  {
   "cell_type": "code",
   "execution_count": null,
   "metadata": {},
   "outputs": [],
   "source": [
    "data['kmeans_2'] = labels_2"
   ]
  },
  {
   "cell_type": "code",
   "execution_count": null,
   "metadata": {},
   "outputs": [
    {
     "data": {
      "text/plain": [
       "kmeans_2\n",
       "0    5239\n",
       "1     160\n",
       "dtype: int64"
      ]
     },
     "metadata": {},
     "output_type": "display_data"
    }
   ],
   "source": [
    "data.value_counts('kmeans_2')"
   ]
  },
  {
   "cell_type": "code",
   "execution_count": null,
   "metadata": {},
   "outputs": [
    {
     "data": {
      "text/plain": [
       "array([0.94582227, 0.94561863, 0.94735874, ..., 0.93977612, 0.9368299 ,\n",
       "       0.94728327])"
      ]
     },
     "metadata": {},
     "output_type": "display_data"
    }
   ],
   "source": [
    "silhouette_vals = silhouette_samples(X, labels_2)\n",
    "silhouette_vals"
   ]
  },
  {
   "cell_type": "code",
   "execution_count": null,
   "metadata": {},
   "outputs": [],
   "source": [
    "plt.rcParams['figure.figsize'] = (20,15)"
   ]
  },
  {
   "cell_type": "code",
   "execution_count": null,
   "metadata": {},
   "outputs": [
    {
     "data": {
      "text/plain": [
       "Text(0.5, 1.02, 'Silhouette plot por cluster')"
      ]
     },
     "metadata": {},
     "output_type": "display_data"
    },
    {
     "data": {
      "image/png": "[encoded data removed]",
      "text/plain": [
       "<Figure size 1440x1080 with 1 Axes>"
      ]
     },
     "metadata": {},
     "output_type": "display_data"
    }
   ],
   "source": [
    "ax = plt.axes()\n",
    "# Silhouette plot\n",
    "y_ticks = []\n",
    "y_lower, y_upper = 0, 0\n",
    "for i, cluster in enumerate(np.unique(labels)):\n",
    "    cluster_silhouette_vals = silhouette_vals[labels == cluster]\n",
    "    cluster_silhouette_vals.sort()\n",
    "    y_upper += len(cluster_silhouette_vals)\n",
    "    ax.barh(range(y_lower, y_upper), cluster_silhouette_vals, edgecolor='none', height=2)\n",
    "    ax.text(-0.03, (y_lower + y_upper) / 2, str(i + 1))\n",
    "    y_lower += len(cluster_silhouette_vals)\n",
    "\n",
    "# Get the average silhouette score and plot it\n",
    "avg_score = np.mean(silhouette_vals)\n",
    "ax.axvline(avg_score, linestyle='--', linewidth=3, color='black')\n",
    "ax.set_yticks([])\n",
    "ax.set_xlim([-0.1, 1])\n",
    "ax.set_xlabel('Silhouette coefficient')\n",
    "ax.set_ylabel('Clusters')\n",
    "ax.set_title('Silhouette plot por cluster', y=1.02)"
   ]
  },
  {
   "cell_type": "code",
   "execution_count": 64,
   "metadata": {},
   "outputs": [
    {
     "data": {
      "text/html": [
       "<div>\n",
       "<style scoped>\n",
       "    .dataframe tbody tr th:only-of-type {\n",
       "        vertical-align: middle;\n",
       "    }\n",
       "\n",
       "    .dataframe tbody tr th {\n",
       "        vertical-align: top;\n",
       "    }\n",
       "\n",
       "    .dataframe thead th {\n",
       "        text-align: right;\n",
       "    }\n",
       "</style>\n",
       "<table border=\"1\" class=\"dataframe\">\n",
       "  <thead>\n",
       "    <tr style=\"text-align: right;\">\n",
       "      <th></th>\n",
       "      <th>kmeans_2</th>\n",
       "      <th>size</th>\n",
       "      <th>porcentaje</th>\n",
       "    </tr>\n",
       "  </thead>\n",
       "  <tbody>\n",
       "    <tr>\n",
       "      <th>0</th>\n",
       "      <td>0</td>\n",
       "      <td>5239</td>\n",
       "      <td>89.4</td>\n",
       "    </tr>\n",
       "    <tr>\n",
       "      <th>1</th>\n",
       "      <td>1</td>\n",
       "      <td>160</td>\n",
       "      <td>1.3</td>\n",
       "    </tr>\n",
       "  </tbody>\n",
       "</table>\n",
       "</div>"
      ],
      "text/plain": [
       "   kmeans_2  size  porcentaje\n",
       "0         0  5239        89.4\n",
       "1         1   160         1.3"
      ]
     },
     "execution_count": 64,
     "metadata": {},
     "output_type": "execute_result"
    }
   ],
   "source": [
    "grupos_kmeans_2 = data.groupby('kmeans_2', as_index=False).size()\n",
    "grupos_kmeans_2['porcentaje'] = round(grupos_kmeans['size']/len(data)*100,1)\n",
    "grupos_kmeans_2"
   ]
  },
  {
   "cell_type": "markdown",
   "metadata": {},
   "source": [
    "### 3. b. CLASIFICACIÓN SEGÚN REGLAS DE NEGOCIO"
   ]
  },
  {
   "cell_type": "markdown",
   "metadata": {},
   "source": [
    "Se clasificaran los sellers en 4 grupos: \n",
    "1. **Relevancia Alta – Perfil Alto:** ticket promedio mayor a la mediana y 0 en 2 variables de perfil\n",
    "2. **Relevancia Alta – Perfil Medio:** ticket promedio mayor a la mediana y cuentan con cancelaciones o reclamos o demoras\n",
    "3. **Relevancia Media – Perfil Alto:** ticket promedio Menor a la mediana y 0 en 2 variables de perfil\n",
    "4. **Relevancia Media – Perfil Medio:** ticket promedio Menor a la mediana y cuentan con cancelaciones o reclamos o demoras\n",
    "\n"
   ]
  },
  {
   "cell_type": "markdown",
   "metadata": {},
   "source": [
    "#### Primero calculamos un scoring de las variables de perfil para tener valores de los sellers"
   ]
  },
  {
   "cell_type": "code",
   "execution_count": 10,
   "metadata": {},
   "outputs": [],
   "source": [
    "# incluyo 0 o 1 dependiendo si su % de la variable es 0 o diferente de 0\n",
    "data.loc[data.cancellations_rate == 0, \"cancelations\"] = 1\n",
    "data.loc[data.cancellations_rate != 0, \"cancelations\"] = 0\n",
    "data.loc[data.claims_rate == 0, \"claims\"] = 1\n",
    "data.loc[data.claims_rate != 0, \"claims\"] = 0\n",
    "data.loc[data.delayed_handling_time_rate == 0, \"delays\"] = 1\n",
    "data.loc[data.delayed_handling_time_rate != 0, \"delays\"] = 0"
   ]
  },
  {
   "cell_type": "code",
   "execution_count": 11,
   "metadata": {},
   "outputs": [],
   "source": [
    "data['scoring_perfil'] = data[['cancelations','claims','delays']].sum(axis=1)"
   ]
  },
  {
   "cell_type": "code",
   "execution_count": 12,
   "metadata": {},
   "outputs": [],
   "source": [
    "# Defino perfil Relevancia Alta-Perfil Medio\n",
    "data.loc[(data.scoring_perfil <= 1) & (data.avg_ticket >= float(estadisticos.avg_ticket['50%'])), 'perfil'] = \"relevancia alta-perfil medio\"\n",
    "# Defino perfil Relevancia Alta-Perfil Alto\n",
    "data.loc[(data.scoring_perfil >= 2) & (data.avg_ticket >= float(estadisticos.avg_ticket['50%'])), 'perfil'] = \"relevancia alta-perfil alto\"\n",
    "# Defino perfil Relevancia Media-Perfil Alto\n",
    "data.loc[(data.scoring_perfil <= 1) & (data.avg_ticket < float(estadisticos.avg_ticket['50%'])), 'perfil'] = \"relevancia media-perfil medio\"\n",
    "# Defino perfil Relevancia Media-Perfil Medio\n",
    "data.loc[(data.scoring_perfil >= 2) & (data.avg_ticket < float(estadisticos.avg_ticket['50%'])), 'perfil'] = \"relevancia media-perfil alto\""
   ]
  },
  {
   "cell_type": "code",
   "execution_count": 17,
   "metadata": {},
   "outputs": [
    {
     "data": {
      "text/html": [
       "<div>\n",
       "<style scoped>\n",
       "    .dataframe tbody tr th:only-of-type {\n",
       "        vertical-align: middle;\n",
       "    }\n",
       "\n",
       "    .dataframe tbody tr th {\n",
       "        vertical-align: top;\n",
       "    }\n",
       "\n",
       "    .dataframe thead th {\n",
       "        text-align: right;\n",
       "    }\n",
       "</style>\n",
       "<table border=\"1\" class=\"dataframe\">\n",
       "  <thead>\n",
       "    <tr style=\"text-align: right;\">\n",
       "      <th></th>\n",
       "      <th>perfil</th>\n",
       "      <th>size</th>\n",
       "      <th>porcentaje</th>\n",
       "    </tr>\n",
       "  </thead>\n",
       "  <tbody>\n",
       "    <tr>\n",
       "      <th>0</th>\n",
       "      <td>relevancia alta-perfil alto</td>\n",
       "      <td>995</td>\n",
       "      <td>18.4</td>\n",
       "    </tr>\n",
       "    <tr>\n",
       "      <th>1</th>\n",
       "      <td>relevancia alta-perfil medio</td>\n",
       "      <td>1704</td>\n",
       "      <td>31.6</td>\n",
       "    </tr>\n",
       "    <tr>\n",
       "      <th>2</th>\n",
       "      <td>relevancia media-perfil alto</td>\n",
       "      <td>1096</td>\n",
       "      <td>20.3</td>\n",
       "    </tr>\n",
       "    <tr>\n",
       "      <th>3</th>\n",
       "      <td>relevancia media-perfil medio</td>\n",
       "      <td>1604</td>\n",
       "      <td>29.7</td>\n",
       "    </tr>\n",
       "  </tbody>\n",
       "</table>\n",
       "</div>"
      ],
      "text/plain": [
       "                          perfil  size  porcentaje\n",
       "0    relevancia alta-perfil alto   995        18.4\n",
       "1   relevancia alta-perfil medio  1704        31.6\n",
       "2   relevancia media-perfil alto  1096        20.3\n",
       "3  relevancia media-perfil medio  1604        29.7"
      ]
     },
     "execution_count": 17,
     "metadata": {},
     "output_type": "execute_result"
    }
   ],
   "source": [
    "grupos = data.groupby('perfil', as_index=False).size()\n",
    "grupos['porcentaje'] = round(grupos['size']/len(data)*100,1)\n",
    "grupos"
   ]
  },
  {
   "cell_type": "code",
   "execution_count": 18,
   "metadata": {},
   "outputs": [
    {
     "data": {
      "text/plain": [
       "0"
      ]
     },
     "execution_count": 18,
     "metadata": {},
     "output_type": "execute_result"
    }
   ],
   "source": [
    "#chequeamos que todos los sellers esten clasificados\n",
    "data.perfil.isnull().sum()"
   ]
  },
  {
   "cell_type": "markdown",
   "metadata": {},
   "source": [
    "# 3.c. Clasificacion en base a algoritmo DBSCAN"
   ]
  },
  {
   "cell_type": "code",
   "execution_count": 67,
   "metadata": {},
   "outputs": [],
   "source": [
    "from sklearn.cluster import DBSCAN"
   ]
  },
  {
   "cell_type": "code",
   "execution_count": 68,
   "metadata": {},
   "outputs": [],
   "source": [
    "# estandarizamos los datos\n",
    "X_db = StandardScaler().fit_transform(data)"
   ]
  },
  {
   "cell_type": "code",
   "execution_count": 73,
   "metadata": {},
   "outputs": [],
   "source": [
    "# se deja por default el eps (0.5) y se incluyen que los clusters contengan minimo 200 casos\n",
    "db = DBSCAN(min_samples=200).fit(X_db)"
   ]
  },
  {
   "cell_type": "code",
   "execution_count": 74,
   "metadata": {},
   "outputs": [
    {
     "name": "stdout",
     "output_type": "stream",
     "text": [
      "[-1 -1  0 ...  0  0  0]\n"
     ]
    }
   ],
   "source": [
    "labels_2 = db.labels_\n",
    "print(labels_2)"
   ]
  },
  {
   "cell_type": "code",
   "execution_count": 75,
   "metadata": {},
   "outputs": [],
   "source": [
    "data['dbscan']= db.labels_"
   ]
  },
  {
   "cell_type": "code",
   "execution_count": 76,
   "metadata": {},
   "outputs": [
    {
     "data": {
      "text/plain": [
       "dbscan\n",
       " 0    2782\n",
       "-1    2617\n",
       "dtype: int64"
      ]
     },
     "execution_count": 76,
     "metadata": {},
     "output_type": "execute_result"
    }
   ],
   "source": [
    "data.value_counts('dbscan')"
   ]
  },
  {
   "cell_type": "code",
   "execution_count": 77,
   "metadata": {},
   "outputs": [
    {
     "data": {
      "text/html": [
       "<div>\n",
       "<style scoped>\n",
       "    .dataframe tbody tr th:only-of-type {\n",
       "        vertical-align: middle;\n",
       "    }\n",
       "\n",
       "    .dataframe tbody tr th {\n",
       "        vertical-align: top;\n",
       "    }\n",
       "\n",
       "    .dataframe thead th {\n",
       "        text-align: right;\n",
       "    }\n",
       "</style>\n",
       "<table border=\"1\" class=\"dataframe\">\n",
       "  <thead>\n",
       "    <tr style=\"text-align: right;\">\n",
       "      <th></th>\n",
       "      <th>cancellations_rate</th>\n",
       "      <th>claims_rate</th>\n",
       "      <th>delayed_handling_time_rate</th>\n",
       "      <th>avg_ticket</th>\n",
       "      <th>kmeans</th>\n",
       "      <th>kmeans_std</th>\n",
       "      <th>kmeans_2</th>\n",
       "      <th>dbscan</th>\n",
       "    </tr>\n",
       "  </thead>\n",
       "  <tbody>\n",
       "    <tr>\n",
       "      <th>count</th>\n",
       "      <td>2782.000000</td>\n",
       "      <td>2782.000000</td>\n",
       "      <td>2782.000000</td>\n",
       "      <td>2782.000000</td>\n",
       "      <td>2782.0</td>\n",
       "      <td>2782.0</td>\n",
       "      <td>2782.0</td>\n",
       "      <td>2782.0</td>\n",
       "    </tr>\n",
       "    <tr>\n",
       "      <th>mean</th>\n",
       "      <td>0.000397</td>\n",
       "      <td>0.002755</td>\n",
       "      <td>0.009407</td>\n",
       "      <td>4134.777917</td>\n",
       "      <td>0.0</td>\n",
       "      <td>1.0</td>\n",
       "      <td>0.0</td>\n",
       "      <td>0.0</td>\n",
       "    </tr>\n",
       "    <tr>\n",
       "      <th>std</th>\n",
       "      <td>0.000958</td>\n",
       "      <td>0.003517</td>\n",
       "      <td>0.011786</td>\n",
       "      <td>4255.552461</td>\n",
       "      <td>0.0</td>\n",
       "      <td>0.0</td>\n",
       "      <td>0.0</td>\n",
       "      <td>0.0</td>\n",
       "    </tr>\n",
       "    <tr>\n",
       "      <th>min</th>\n",
       "      <td>0.000000</td>\n",
       "      <td>0.000000</td>\n",
       "      <td>0.000000</td>\n",
       "      <td>0.000000</td>\n",
       "      <td>0.0</td>\n",
       "      <td>1.0</td>\n",
       "      <td>0.0</td>\n",
       "      <td>0.0</td>\n",
       "    </tr>\n",
       "    <tr>\n",
       "      <th>25%</th>\n",
       "      <td>0.000000</td>\n",
       "      <td>0.000000</td>\n",
       "      <td>0.000000</td>\n",
       "      <td>1329.870833</td>\n",
       "      <td>0.0</td>\n",
       "      <td>1.0</td>\n",
       "      <td>0.0</td>\n",
       "      <td>0.0</td>\n",
       "    </tr>\n",
       "    <tr>\n",
       "      <th>50%</th>\n",
       "      <td>0.000000</td>\n",
       "      <td>0.000000</td>\n",
       "      <td>0.004800</td>\n",
       "      <td>2617.535714</td>\n",
       "      <td>0.0</td>\n",
       "      <td>1.0</td>\n",
       "      <td>0.0</td>\n",
       "      <td>0.0</td>\n",
       "    </tr>\n",
       "    <tr>\n",
       "      <th>75%</th>\n",
       "      <td>0.000000</td>\n",
       "      <td>0.005300</td>\n",
       "      <td>0.014000</td>\n",
       "      <td>5457.500000</td>\n",
       "      <td>0.0</td>\n",
       "      <td>1.0</td>\n",
       "      <td>0.0</td>\n",
       "      <td>0.0</td>\n",
       "    </tr>\n",
       "    <tr>\n",
       "      <th>max</th>\n",
       "      <td>0.005100</td>\n",
       "      <td>0.013500</td>\n",
       "      <td>0.053500</td>\n",
       "      <td>22600.000000</td>\n",
       "      <td>0.0</td>\n",
       "      <td>1.0</td>\n",
       "      <td>0.0</td>\n",
       "      <td>0.0</td>\n",
       "    </tr>\n",
       "  </tbody>\n",
       "</table>\n",
       "</div>"
      ],
      "text/plain": [
       "       cancellations_rate  claims_rate  delayed_handling_time_rate  \\\n",
       "count         2782.000000  2782.000000                 2782.000000   \n",
       "mean             0.000397     0.002755                    0.009407   \n",
       "std              0.000958     0.003517                    0.011786   \n",
       "min              0.000000     0.000000                    0.000000   \n",
       "25%              0.000000     0.000000                    0.000000   \n",
       "50%              0.000000     0.000000                    0.004800   \n",
       "75%              0.000000     0.005300                    0.014000   \n",
       "max              0.005100     0.013500                    0.053500   \n",
       "\n",
       "         avg_ticket  kmeans  kmeans_std  kmeans_2  dbscan  \n",
       "count   2782.000000  2782.0      2782.0    2782.0  2782.0  \n",
       "mean    4134.777917     0.0         1.0       0.0     0.0  \n",
       "std     4255.552461     0.0         0.0       0.0     0.0  \n",
       "min        0.000000     0.0         1.0       0.0     0.0  \n",
       "25%     1329.870833     0.0         1.0       0.0     0.0  \n",
       "50%     2617.535714     0.0         1.0       0.0     0.0  \n",
       "75%     5457.500000     0.0         1.0       0.0     0.0  \n",
       "max    22600.000000     0.0         1.0       0.0     0.0  "
      ]
     },
     "execution_count": 77,
     "metadata": {},
     "output_type": "execute_result"
    }
   ],
   "source": [
    "data.loc[data.dbscan == 0].describe()"
   ]
  },
  {
   "cell_type": "code",
   "execution_count": 78,
   "metadata": {},
   "outputs": [
    {
     "data": {
      "text/html": [
       "<div>\n",
       "<style scoped>\n",
       "    .dataframe tbody tr th:only-of-type {\n",
       "        vertical-align: middle;\n",
       "    }\n",
       "\n",
       "    .dataframe tbody tr th {\n",
       "        vertical-align: top;\n",
       "    }\n",
       "\n",
       "    .dataframe thead th {\n",
       "        text-align: right;\n",
       "    }\n",
       "</style>\n",
       "<table border=\"1\" class=\"dataframe\">\n",
       "  <thead>\n",
       "    <tr style=\"text-align: right;\">\n",
       "      <th></th>\n",
       "      <th>cancellations_rate</th>\n",
       "      <th>claims_rate</th>\n",
       "      <th>delayed_handling_time_rate</th>\n",
       "      <th>avg_ticket</th>\n",
       "      <th>kmeans</th>\n",
       "      <th>kmeans_std</th>\n",
       "      <th>kmeans_2</th>\n",
       "      <th>dbscan</th>\n",
       "    </tr>\n",
       "  </thead>\n",
       "  <tbody>\n",
       "    <tr>\n",
       "      <th>count</th>\n",
       "      <td>2617.000000</td>\n",
       "      <td>2617.000000</td>\n",
       "      <td>2617.000000</td>\n",
       "      <td>2617.000000</td>\n",
       "      <td>2617.000000</td>\n",
       "      <td>2617.000000</td>\n",
       "      <td>2617.000000</td>\n",
       "      <td>2617.0</td>\n",
       "    </tr>\n",
       "    <tr>\n",
       "      <th>mean</th>\n",
       "      <td>0.004467</td>\n",
       "      <td>0.008404</td>\n",
       "      <td>0.040794</td>\n",
       "      <td>16467.095096</td>\n",
       "      <td>0.599541</td>\n",
       "      <td>1.708063</td>\n",
       "      <td>0.061139</td>\n",
       "      <td>-1.0</td>\n",
       "    </tr>\n",
       "    <tr>\n",
       "      <th>std</th>\n",
       "      <td>0.005094</td>\n",
       "      <td>0.006420</td>\n",
       "      <td>0.038513</td>\n",
       "      <td>32320.680275</td>\n",
       "      <td>1.174773</td>\n",
       "      <td>1.053420</td>\n",
       "      <td>0.239630</td>\n",
       "      <td>0.0</td>\n",
       "    </tr>\n",
       "    <tr>\n",
       "      <th>min</th>\n",
       "      <td>0.000000</td>\n",
       "      <td>0.000000</td>\n",
       "      <td>0.000000</td>\n",
       "      <td>0.000000</td>\n",
       "      <td>0.000000</td>\n",
       "      <td>0.000000</td>\n",
       "      <td>0.000000</td>\n",
       "      <td>-1.0</td>\n",
       "    </tr>\n",
       "    <tr>\n",
       "      <th>25%</th>\n",
       "      <td>0.000000</td>\n",
       "      <td>0.002600</td>\n",
       "      <td>0.009500</td>\n",
       "      <td>1999.000000</td>\n",
       "      <td>0.000000</td>\n",
       "      <td>1.000000</td>\n",
       "      <td>0.000000</td>\n",
       "      <td>-1.0</td>\n",
       "    </tr>\n",
       "    <tr>\n",
       "      <th>50%</th>\n",
       "      <td>0.003400</td>\n",
       "      <td>0.008700</td>\n",
       "      <td>0.028400</td>\n",
       "      <td>5229.000000</td>\n",
       "      <td>0.000000</td>\n",
       "      <td>2.000000</td>\n",
       "      <td>0.000000</td>\n",
       "      <td>-1.0</td>\n",
       "    </tr>\n",
       "    <tr>\n",
       "      <th>75%</th>\n",
       "      <td>0.007300</td>\n",
       "      <td>0.013200</td>\n",
       "      <td>0.063800</td>\n",
       "      <td>18144.115385</td>\n",
       "      <td>0.000000</td>\n",
       "      <td>2.000000</td>\n",
       "      <td>0.000000</td>\n",
       "      <td>-1.0</td>\n",
       "    </tr>\n",
       "    <tr>\n",
       "      <th>max</th>\n",
       "      <td>0.036200</td>\n",
       "      <td>0.039500</td>\n",
       "      <td>0.210500</td>\n",
       "      <td>520000.000000</td>\n",
       "      <td>3.000000</td>\n",
       "      <td>3.000000</td>\n",
       "      <td>1.000000</td>\n",
       "      <td>-1.0</td>\n",
       "    </tr>\n",
       "  </tbody>\n",
       "</table>\n",
       "</div>"
      ],
      "text/plain": [
       "       cancellations_rate  claims_rate  delayed_handling_time_rate  \\\n",
       "count         2617.000000  2617.000000                 2617.000000   \n",
       "mean             0.004467     0.008404                    0.040794   \n",
       "std              0.005094     0.006420                    0.038513   \n",
       "min              0.000000     0.000000                    0.000000   \n",
       "25%              0.000000     0.002600                    0.009500   \n",
       "50%              0.003400     0.008700                    0.028400   \n",
       "75%              0.007300     0.013200                    0.063800   \n",
       "max              0.036200     0.039500                    0.210500   \n",
       "\n",
       "          avg_ticket       kmeans   kmeans_std     kmeans_2  dbscan  \n",
       "count    2617.000000  2617.000000  2617.000000  2617.000000  2617.0  \n",
       "mean    16467.095096     0.599541     1.708063     0.061139    -1.0  \n",
       "std     32320.680275     1.174773     1.053420     0.239630     0.0  \n",
       "min         0.000000     0.000000     0.000000     0.000000    -1.0  \n",
       "25%      1999.000000     0.000000     1.000000     0.000000    -1.0  \n",
       "50%      5229.000000     0.000000     2.000000     0.000000    -1.0  \n",
       "75%     18144.115385     0.000000     2.000000     0.000000    -1.0  \n",
       "max    520000.000000     3.000000     3.000000     1.000000    -1.0  "
      ]
     },
     "execution_count": 78,
     "metadata": {},
     "output_type": "execute_result"
    }
   ],
   "source": [
    "data.loc[data.dbscan == -1].describe()"
   ]
  },
  {
   "cell_type": "code",
   "execution_count": null,
   "metadata": {},
   "outputs": [],
   "source": []
  }
 ],
 "metadata": {
  "interpreter": {
   "hash": "24026d3aba629fcef83117a8818ef44727589b884fc8c219cbb87d5bf3da2505"
  },
  "kernelspec": {
   "display_name": "Python 3.8.8 ('base')",
   "language": "python",
   "name": "python3"
  },
  "language_info": {
   "codemirror_mode": {
    "name": "ipython",
    "version": 3
   },
   "file_extension": ".py",
   "mimetype": "text/x-python",
   "name": "python",
   "nbconvert_exporter": "python",
   "pygments_lexer": "ipython3",
   "version": "3.8.8"
  },
  "orig_nbformat": 4
 },
 "nbformat": 4,
 "nbformat_minor": 2
}
