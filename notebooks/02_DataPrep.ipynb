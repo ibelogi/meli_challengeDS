{
 "cells": [
  {
   "cell_type": "markdown",
   "metadata": {},
   "source": [
    "# 2. PREPARACIÓN DE LOS DATOS"
   ]
  },
  {
   "cell_type": "code",
   "execution_count": null,
   "metadata": {},
   "outputs": [],
   "source": [
    "# Importo librerias\n",
    "import requests as r\n",
    "import pandas as pd\n",
    "import numpy as np\n",
    "from dateutil.relativedelta import relativedelta"
   ]
  },
  {
   "cell_type": "code",
   "execution_count": null,
   "metadata": {},
   "outputs": [],
   "source": [
    "df_items = pd.read_csv('../data/20220318_dataset_items.csv')"
   ]
  },
  {
   "cell_type": "markdown",
   "metadata": {},
   "source": [
    "## CREACION DEL DATASET SELLERS\n",
    "### Contiene los datos de los sellers únicos encontrados y el calculo de facturacion"
   ]
  },
  {
   "cell_type": "code",
   "execution_count": null,
   "metadata": {},
   "outputs": [],
   "source": [
    "# se calcula el monto total por las ventas de cada item\n",
    "df_items['sales_amount'] = df_items['price']*df_items['sold_quantity']"
   ]
  },
  {
   "cell_type": "code",
   "execution_count": null,
   "metadata": {},
   "outputs": [],
   "source": [
    "# se calculo el 20% de ganancia sobre el monto total vendido de cada item\n",
    "# en una segunda iteracion se propondrá mejorar el calculo de esta metrica\n",
    "df_items['profits_amount'] = round(df_items['sales_amount']*0.20,1)"
   ]
  },
  {
   "cell_type": "code",
   "execution_count": null,
   "metadata": {},
   "outputs": [],
   "source": [
    "metricas_sellers = df_items.groupby('seller',as_index=False).agg({'sales_amount': 'sum', 'sold_quantity':'sum', 'profits_amount': 'sum'})\n",
    "metricas_sellers.rename(columns={\n",
    "                'sales_amount': 'total_sales_amount',\n",
    "                'sold_quantity': 'total_items_sold',\n",
    "                'profits_amount': 'total_profits_amount'}, \n",
    "                        inplace=True)\n",
    "metricas_sellers['avg_ticket'] = metricas_sellers['total_sales_amount']/metricas_sellers['total_items_sold']\n",
    "metricas_sellers"
   ]
  },
  {
   "cell_type": "code",
   "execution_count": null,
   "metadata": {},
   "outputs": [],
   "source": [
    "# se quitan duplicados para el subset de sellerID\n",
    "sellers = df_items.drop_duplicates(subset='seller').reset_index(drop=True)\n",
    "print(\"Cantidad de sellers: \", len(sellers))"
   ]
  },
  {
   "cell_type": "code",
   "execution_count": null,
   "metadata": {},
   "outputs": [],
   "source": [
    "# Se eliminan las columnas que corresponden a items particulares\n",
    "sellers.drop(columns={'price','sold_quantity', 'sales_amount', 'profits_amount'},inplace=True)"
   ]
  },
  {
   "cell_type": "code",
   "execution_count": null,
   "metadata": {},
   "outputs": [],
   "source": [
    "# uno los datos calculados de facturacion y total de items vendidos\n",
    "sellers = sellers.merge(metricas_sellers)"
   ]
  },
  {
   "cell_type": "code",
   "execution_count": null,
   "metadata": {},
   "outputs": [],
   "source": [
    "# le uno al dataset final la columna con el nombre de la categoria\n",
    "# para hacer mas comprensible la proxima etapa\n",
    "sellers = sellers.merge(categorias)"
   ]
  },
  {
   "cell_type": "code",
   "execution_count": null,
   "metadata": {},
   "outputs": [],
   "source": [
    "# transformo la columna de fecha de registro a date\n",
    "sellers['register_date'] = pd.to_datetime(sellers['fecha_registro']).dt.date"
   ]
  },
  {
   "cell_type": "code",
   "execution_count": null,
   "metadata": {},
   "outputs": [],
   "source": [
    "# calculo la antiguedad en años\n",
    "def ages(register):\n",
    "    antiguedad = relativedelta(pd.to_datetime('now'), register) \n",
    "    return '{}'.format(antiguedad.years)\n",
    "\n",
    "sellers['antiquity_ages'] = sellers[\"register_date\"].apply(ages)"
   ]
  },
  {
   "cell_type": "code",
   "execution_count": null,
   "metadata": {},
   "outputs": [],
   "source": [
    "# calculamos el ratio de cancelaciones sobre el total vendido\n",
    "sellers['transactions_canceled_historic_rate'] = sellers['transactions_canceled_historic']/sellers['transactions_total_historic']"
   ]
  },
  {
   "cell_type": "code",
   "execution_count": null,
   "metadata": {},
   "outputs": [],
   "source": [
    "# extraigo el dataset\n",
    "sellers.to_csv('../data/20220318_dataset_sellers.csv',index=False)"
   ]
  }
 ],
 "metadata": {
  "interpreter": {
   "hash": "24026d3aba629fcef83117a8818ef44727589b884fc8c219cbb87d5bf3da2505"
  },
  "kernelspec": {
   "display_name": "Python 3.8.8 ('base')",
   "language": "python",
   "name": "python3"
  },
  "language_info": {
   "codemirror_mode": {
    "name": "ipython",
    "version": 3
   },
   "file_extension": ".py",
   "mimetype": "text/x-python",
   "name": "python",
   "nbconvert_exporter": "python",
   "pygments_lexer": "ipython3",
   "version": "3.8.8"
  },
  "orig_nbformat": 4
 },
 "nbformat": 4,
 "nbformat_minor": 2
}
